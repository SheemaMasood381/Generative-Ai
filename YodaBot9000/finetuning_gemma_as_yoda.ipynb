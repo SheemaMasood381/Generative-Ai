{
  "metadata": {
    "kernelspec": {
      "name": "python3",
      "display_name": "Python 3",
      "language": "python"
    },
    "language_info": {
      "name": "python",
      "version": "3.10.12",
      "mimetype": "text/x-python",
      "codemirror_mode": {
        "name": "ipython",
        "version": 3
      },
      "pygments_lexer": "ipython3",
      "nbconvert_exporter": "python",
      "file_extension": ".py"
    },
    "accelerator": "GPU",
    "colab": {
      "gpuType": "T4",
      "provenance": []
    },
    "widgets": {
      "application/vnd.jupyter.widget-state+json": {
        "4407482b37884a5791c8553b3f3ae170": {
          "model_module": "@jupyter-widgets/controls",
          "model_name": "HBoxModel",
          "model_module_version": "1.5.0",
          "state": {
            "_dom_classes": [],
            "_model_module": "@jupyter-widgets/controls",
            "_model_module_version": "1.5.0",
            "_model_name": "HBoxModel",
            "_view_count": null,
            "_view_module": "@jupyter-widgets/controls",
            "_view_module_version": "1.5.0",
            "_view_name": "HBoxView",
            "box_style": "",
            "children": [
              "IPY_MODEL_76510700cb9e4a4ea0a8e81198cc2124",
              "IPY_MODEL_1874eb0e5e494ee597dddc422c8d8dfb",
              "IPY_MODEL_947bef10ac8242808bf3105c4507369c"
            ],
            "layout": "IPY_MODEL_8f34411afc474fdca43331c84c05e245"
          }
        },
        "76510700cb9e4a4ea0a8e81198cc2124": {
          "model_module": "@jupyter-widgets/controls",
          "model_name": "HTMLModel",
          "model_module_version": "1.5.0",
          "state": {
            "_dom_classes": [],
            "_model_module": "@jupyter-widgets/controls",
            "_model_module_version": "1.5.0",
            "_model_name": "HTMLModel",
            "_view_count": null,
            "_view_module": "@jupyter-widgets/controls",
            "_view_module_version": "1.5.0",
            "_view_name": "HTMLView",
            "description": "",
            "description_tooltip": null,
            "layout": "IPY_MODEL_4524022a275a431b9a1a480c1a40c23e",
            "placeholder": "​",
            "style": "IPY_MODEL_a9e7d40b1cd94ab093cced7e61b9a169",
            "value": "tokenizer_config.json: 100%"
          }
        },
        "1874eb0e5e494ee597dddc422c8d8dfb": {
          "model_module": "@jupyter-widgets/controls",
          "model_name": "FloatProgressModel",
          "model_module_version": "1.5.0",
          "state": {
            "_dom_classes": [],
            "_model_module": "@jupyter-widgets/controls",
            "_model_module_version": "1.5.0",
            "_model_name": "FloatProgressModel",
            "_view_count": null,
            "_view_module": "@jupyter-widgets/controls",
            "_view_module_version": "1.5.0",
            "_view_name": "ProgressView",
            "bar_style": "success",
            "description": "",
            "description_tooltip": null,
            "layout": "IPY_MODEL_c077c33774b2410fab3057ee3809e6f6",
            "max": 47022,
            "min": 0,
            "orientation": "horizontal",
            "style": "IPY_MODEL_1674a87d0a16437eb023b3f9f0b4d084",
            "value": 47022
          }
        },
        "947bef10ac8242808bf3105c4507369c": {
          "model_module": "@jupyter-widgets/controls",
          "model_name": "HTMLModel",
          "model_module_version": "1.5.0",
          "state": {
            "_dom_classes": [],
            "_model_module": "@jupyter-widgets/controls",
            "_model_module_version": "1.5.0",
            "_model_name": "HTMLModel",
            "_view_count": null,
            "_view_module": "@jupyter-widgets/controls",
            "_view_module_version": "1.5.0",
            "_view_name": "HTMLView",
            "description": "",
            "description_tooltip": null,
            "layout": "IPY_MODEL_66fd2e946e834564a6e466f34c0a5647",
            "placeholder": "​",
            "style": "IPY_MODEL_72f7353014f246809cbba37561356c46",
            "value": " 47.0k/47.0k [00:00&lt;00:00, 1.52MB/s]"
          }
        },
        "8f34411afc474fdca43331c84c05e245": {
          "model_module": "@jupyter-widgets/base",
          "model_name": "LayoutModel",
          "model_module_version": "1.2.0",
          "state": {
            "_model_module": "@jupyter-widgets/base",
            "_model_module_version": "1.2.0",
            "_model_name": "LayoutModel",
            "_view_count": null,
            "_view_module": "@jupyter-widgets/base",
            "_view_module_version": "1.2.0",
            "_view_name": "LayoutView",
            "align_content": null,
            "align_items": null,
            "align_self": null,
            "border": null,
            "bottom": null,
            "display": null,
            "flex": null,
            "flex_flow": null,
            "grid_area": null,
            "grid_auto_columns": null,
            "grid_auto_flow": null,
            "grid_auto_rows": null,
            "grid_column": null,
            "grid_gap": null,
            "grid_row": null,
            "grid_template_areas": null,
            "grid_template_columns": null,
            "grid_template_rows": null,
            "height": null,
            "justify_content": null,
            "justify_items": null,
            "left": null,
            "margin": null,
            "max_height": null,
            "max_width": null,
            "min_height": null,
            "min_width": null,
            "object_fit": null,
            "object_position": null,
            "order": null,
            "overflow": null,
            "overflow_x": null,
            "overflow_y": null,
            "padding": null,
            "right": null,
            "top": null,
            "visibility": null,
            "width": null
          }
        },
        "4524022a275a431b9a1a480c1a40c23e": {
          "model_module": "@jupyter-widgets/base",
          "model_name": "LayoutModel",
          "model_module_version": "1.2.0",
          "state": {
            "_model_module": "@jupyter-widgets/base",
            "_model_module_version": "1.2.0",
            "_model_name": "LayoutModel",
            "_view_count": null,
            "_view_module": "@jupyter-widgets/base",
            "_view_module_version": "1.2.0",
            "_view_name": "LayoutView",
            "align_content": null,
            "align_items": null,
            "align_self": null,
            "border": null,
            "bottom": null,
            "display": null,
            "flex": null,
            "flex_flow": null,
            "grid_area": null,
            "grid_auto_columns": null,
            "grid_auto_flow": null,
            "grid_auto_rows": null,
            "grid_column": null,
            "grid_gap": null,
            "grid_row": null,
            "grid_template_areas": null,
            "grid_template_columns": null,
            "grid_template_rows": null,
            "height": null,
            "justify_content": null,
            "justify_items": null,
            "left": null,
            "margin": null,
            "max_height": null,
            "max_width": null,
            "min_height": null,
            "min_width": null,
            "object_fit": null,
            "object_position": null,
            "order": null,
            "overflow": null,
            "overflow_x": null,
            "overflow_y": null,
            "padding": null,
            "right": null,
            "top": null,
            "visibility": null,
            "width": null
          }
        },
        "a9e7d40b1cd94ab093cced7e61b9a169": {
          "model_module": "@jupyter-widgets/controls",
          "model_name": "DescriptionStyleModel",
          "model_module_version": "1.5.0",
          "state": {
            "_model_module": "@jupyter-widgets/controls",
            "_model_module_version": "1.5.0",
            "_model_name": "DescriptionStyleModel",
            "_view_count": null,
            "_view_module": "@jupyter-widgets/base",
            "_view_module_version": "1.2.0",
            "_view_name": "StyleView",
            "description_width": ""
          }
        },
        "c077c33774b2410fab3057ee3809e6f6": {
          "model_module": "@jupyter-widgets/base",
          "model_name": "LayoutModel",
          "model_module_version": "1.2.0",
          "state": {
            "_model_module": "@jupyter-widgets/base",
            "_model_module_version": "1.2.0",
            "_model_name": "LayoutModel",
            "_view_count": null,
            "_view_module": "@jupyter-widgets/base",
            "_view_module_version": "1.2.0",
            "_view_name": "LayoutView",
            "align_content": null,
            "align_items": null,
            "align_self": null,
            "border": null,
            "bottom": null,
            "display": null,
            "flex": null,
            "flex_flow": null,
            "grid_area": null,
            "grid_auto_columns": null,
            "grid_auto_flow": null,
            "grid_auto_rows": null,
            "grid_column": null,
            "grid_gap": null,
            "grid_row": null,
            "grid_template_areas": null,
            "grid_template_columns": null,
            "grid_template_rows": null,
            "height": null,
            "justify_content": null,
            "justify_items": null,
            "left": null,
            "margin": null,
            "max_height": null,
            "max_width": null,
            "min_height": null,
            "min_width": null,
            "object_fit": null,
            "object_position": null,
            "order": null,
            "overflow": null,
            "overflow_x": null,
            "overflow_y": null,
            "padding": null,
            "right": null,
            "top": null,
            "visibility": null,
            "width": null
          }
        },
        "1674a87d0a16437eb023b3f9f0b4d084": {
          "model_module": "@jupyter-widgets/controls",
          "model_name": "ProgressStyleModel",
          "model_module_version": "1.5.0",
          "state": {
            "_model_module": "@jupyter-widgets/controls",
            "_model_module_version": "1.5.0",
            "_model_name": "ProgressStyleModel",
            "_view_count": null,
            "_view_module": "@jupyter-widgets/base",
            "_view_module_version": "1.2.0",
            "_view_name": "StyleView",
            "bar_color": null,
            "description_width": ""
          }
        },
        "66fd2e946e834564a6e466f34c0a5647": {
          "model_module": "@jupyter-widgets/base",
          "model_name": "LayoutModel",
          "model_module_version": "1.2.0",
          "state": {
            "_model_module": "@jupyter-widgets/base",
            "_model_module_version": "1.2.0",
            "_model_name": "LayoutModel",
            "_view_count": null,
            "_view_module": "@jupyter-widgets/base",
            "_view_module_version": "1.2.0",
            "_view_name": "LayoutView",
            "align_content": null,
            "align_items": null,
            "align_self": null,
            "border": null,
            "bottom": null,
            "display": null,
            "flex": null,
            "flex_flow": null,
            "grid_area": null,
            "grid_auto_columns": null,
            "grid_auto_flow": null,
            "grid_auto_rows": null,
            "grid_column": null,
            "grid_gap": null,
            "grid_row": null,
            "grid_template_areas": null,
            "grid_template_columns": null,
            "grid_template_rows": null,
            "height": null,
            "justify_content": null,
            "justify_items": null,
            "left": null,
            "margin": null,
            "max_height": null,
            "max_width": null,
            "min_height": null,
            "min_width": null,
            "object_fit": null,
            "object_position": null,
            "order": null,
            "overflow": null,
            "overflow_x": null,
            "overflow_y": null,
            "padding": null,
            "right": null,
            "top": null,
            "visibility": null,
            "width": null
          }
        },
        "72f7353014f246809cbba37561356c46": {
          "model_module": "@jupyter-widgets/controls",
          "model_name": "DescriptionStyleModel",
          "model_module_version": "1.5.0",
          "state": {
            "_model_module": "@jupyter-widgets/controls",
            "_model_module_version": "1.5.0",
            "_model_name": "DescriptionStyleModel",
            "_view_count": null,
            "_view_module": "@jupyter-widgets/base",
            "_view_module_version": "1.2.0",
            "_view_name": "StyleView",
            "description_width": ""
          }
        },
        "82a777dffc6a42e3ab77358992186d3d": {
          "model_module": "@jupyter-widgets/controls",
          "model_name": "HBoxModel",
          "model_module_version": "1.5.0",
          "state": {
            "_dom_classes": [],
            "_model_module": "@jupyter-widgets/controls",
            "_model_module_version": "1.5.0",
            "_model_name": "HBoxModel",
            "_view_count": null,
            "_view_module": "@jupyter-widgets/controls",
            "_view_module_version": "1.5.0",
            "_view_name": "HBoxView",
            "box_style": "",
            "children": [
              "IPY_MODEL_4c7091b7f51f4ae3b0a669ff7e2503fb",
              "IPY_MODEL_1d04de3bac7849668955cd715d9fa4d8",
              "IPY_MODEL_6250fbc0c87447a98c0889820904e769"
            ],
            "layout": "IPY_MODEL_4259e943ad134003887b3b156424c827"
          }
        },
        "4c7091b7f51f4ae3b0a669ff7e2503fb": {
          "model_module": "@jupyter-widgets/controls",
          "model_name": "HTMLModel",
          "model_module_version": "1.5.0",
          "state": {
            "_dom_classes": [],
            "_model_module": "@jupyter-widgets/controls",
            "_model_module_version": "1.5.0",
            "_model_name": "HTMLModel",
            "_view_count": null,
            "_view_module": "@jupyter-widgets/controls",
            "_view_module_version": "1.5.0",
            "_view_name": "HTMLView",
            "description": "",
            "description_tooltip": null,
            "layout": "IPY_MODEL_eb49193c3e2341a8adcdadcacf9ca94c",
            "placeholder": "​",
            "style": "IPY_MODEL_4900c6a00a5c4d42ad4ea56767ffe89b",
            "value": "tokenizer.model: 100%"
          }
        },
        "1d04de3bac7849668955cd715d9fa4d8": {
          "model_module": "@jupyter-widgets/controls",
          "model_name": "FloatProgressModel",
          "model_module_version": "1.5.0",
          "state": {
            "_dom_classes": [],
            "_model_module": "@jupyter-widgets/controls",
            "_model_module_version": "1.5.0",
            "_model_name": "FloatProgressModel",
            "_view_count": null,
            "_view_module": "@jupyter-widgets/controls",
            "_view_module_version": "1.5.0",
            "_view_name": "ProgressView",
            "bar_style": "success",
            "description": "",
            "description_tooltip": null,
            "layout": "IPY_MODEL_4a0036c9e0e84f0cb355811478296264",
            "max": 4241003,
            "min": 0,
            "orientation": "horizontal",
            "style": "IPY_MODEL_6aa2d55c808b42a1bf3c6847a17debb0",
            "value": 4241003
          }
        },
        "6250fbc0c87447a98c0889820904e769": {
          "model_module": "@jupyter-widgets/controls",
          "model_name": "HTMLModel",
          "model_module_version": "1.5.0",
          "state": {
            "_dom_classes": [],
            "_model_module": "@jupyter-widgets/controls",
            "_model_module_version": "1.5.0",
            "_model_name": "HTMLModel",
            "_view_count": null,
            "_view_module": "@jupyter-widgets/controls",
            "_view_module_version": "1.5.0",
            "_view_name": "HTMLView",
            "description": "",
            "description_tooltip": null,
            "layout": "IPY_MODEL_e33f6352547743b98124bd2cba651ec2",
            "placeholder": "​",
            "style": "IPY_MODEL_34b1442f0da249dd94f355f4bcadc556",
            "value": " 4.24M/4.24M [00:00&lt;00:00, 22.8MB/s]"
          }
        },
        "4259e943ad134003887b3b156424c827": {
          "model_module": "@jupyter-widgets/base",
          "model_name": "LayoutModel",
          "model_module_version": "1.2.0",
          "state": {
            "_model_module": "@jupyter-widgets/base",
            "_model_module_version": "1.2.0",
            "_model_name": "LayoutModel",
            "_view_count": null,
            "_view_module": "@jupyter-widgets/base",
            "_view_module_version": "1.2.0",
            "_view_name": "LayoutView",
            "align_content": null,
            "align_items": null,
            "align_self": null,
            "border": null,
            "bottom": null,
            "display": null,
            "flex": null,
            "flex_flow": null,
            "grid_area": null,
            "grid_auto_columns": null,
            "grid_auto_flow": null,
            "grid_auto_rows": null,
            "grid_column": null,
            "grid_gap": null,
            "grid_row": null,
            "grid_template_areas": null,
            "grid_template_columns": null,
            "grid_template_rows": null,
            "height": null,
            "justify_content": null,
            "justify_items": null,
            "left": null,
            "margin": null,
            "max_height": null,
            "max_width": null,
            "min_height": null,
            "min_width": null,
            "object_fit": null,
            "object_position": null,
            "order": null,
            "overflow": null,
            "overflow_x": null,
            "overflow_y": null,
            "padding": null,
            "right": null,
            "top": null,
            "visibility": null,
            "width": null
          }
        },
        "eb49193c3e2341a8adcdadcacf9ca94c": {
          "model_module": "@jupyter-widgets/base",
          "model_name": "LayoutModel",
          "model_module_version": "1.2.0",
          "state": {
            "_model_module": "@jupyter-widgets/base",
            "_model_module_version": "1.2.0",
            "_model_name": "LayoutModel",
            "_view_count": null,
            "_view_module": "@jupyter-widgets/base",
            "_view_module_version": "1.2.0",
            "_view_name": "LayoutView",
            "align_content": null,
            "align_items": null,
            "align_self": null,
            "border": null,
            "bottom": null,
            "display": null,
            "flex": null,
            "flex_flow": null,
            "grid_area": null,
            "grid_auto_columns": null,
            "grid_auto_flow": null,
            "grid_auto_rows": null,
            "grid_column": null,
            "grid_gap": null,
            "grid_row": null,
            "grid_template_areas": null,
            "grid_template_columns": null,
            "grid_template_rows": null,
            "height": null,
            "justify_content": null,
            "justify_items": null,
            "left": null,
            "margin": null,
            "max_height": null,
            "max_width": null,
            "min_height": null,
            "min_width": null,
            "object_fit": null,
            "object_position": null,
            "order": null,
            "overflow": null,
            "overflow_x": null,
            "overflow_y": null,
            "padding": null,
            "right": null,
            "top": null,
            "visibility": null,
            "width": null
          }
        },
        "4900c6a00a5c4d42ad4ea56767ffe89b": {
          "model_module": "@jupyter-widgets/controls",
          "model_name": "DescriptionStyleModel",
          "model_module_version": "1.5.0",
          "state": {
            "_model_module": "@jupyter-widgets/controls",
            "_model_module_version": "1.5.0",
            "_model_name": "DescriptionStyleModel",
            "_view_count": null,
            "_view_module": "@jupyter-widgets/base",
            "_view_module_version": "1.2.0",
            "_view_name": "StyleView",
            "description_width": ""
          }
        },
        "4a0036c9e0e84f0cb355811478296264": {
          "model_module": "@jupyter-widgets/base",
          "model_name": "LayoutModel",
          "model_module_version": "1.2.0",
          "state": {
            "_model_module": "@jupyter-widgets/base",
            "_model_module_version": "1.2.0",
            "_model_name": "LayoutModel",
            "_view_count": null,
            "_view_module": "@jupyter-widgets/base",
            "_view_module_version": "1.2.0",
            "_view_name": "LayoutView",
            "align_content": null,
            "align_items": null,
            "align_self": null,
            "border": null,
            "bottom": null,
            "display": null,
            "flex": null,
            "flex_flow": null,
            "grid_area": null,
            "grid_auto_columns": null,
            "grid_auto_flow": null,
            "grid_auto_rows": null,
            "grid_column": null,
            "grid_gap": null,
            "grid_row": null,
            "grid_template_areas": null,
            "grid_template_columns": null,
            "grid_template_rows": null,
            "height": null,
            "justify_content": null,
            "justify_items": null,
            "left": null,
            "margin": null,
            "max_height": null,
            "max_width": null,
            "min_height": null,
            "min_width": null,
            "object_fit": null,
            "object_position": null,
            "order": null,
            "overflow": null,
            "overflow_x": null,
            "overflow_y": null,
            "padding": null,
            "right": null,
            "top": null,
            "visibility": null,
            "width": null
          }
        },
        "6aa2d55c808b42a1bf3c6847a17debb0": {
          "model_module": "@jupyter-widgets/controls",
          "model_name": "ProgressStyleModel",
          "model_module_version": "1.5.0",
          "state": {
            "_model_module": "@jupyter-widgets/controls",
            "_model_module_version": "1.5.0",
            "_model_name": "ProgressStyleModel",
            "_view_count": null,
            "_view_module": "@jupyter-widgets/base",
            "_view_module_version": "1.2.0",
            "_view_name": "StyleView",
            "bar_color": null,
            "description_width": ""
          }
        },
        "e33f6352547743b98124bd2cba651ec2": {
          "model_module": "@jupyter-widgets/base",
          "model_name": "LayoutModel",
          "model_module_version": "1.2.0",
          "state": {
            "_model_module": "@jupyter-widgets/base",
            "_model_module_version": "1.2.0",
            "_model_name": "LayoutModel",
            "_view_count": null,
            "_view_module": "@jupyter-widgets/base",
            "_view_module_version": "1.2.0",
            "_view_name": "LayoutView",
            "align_content": null,
            "align_items": null,
            "align_self": null,
            "border": null,
            "bottom": null,
            "display": null,
            "flex": null,
            "flex_flow": null,
            "grid_area": null,
            "grid_auto_columns": null,
            "grid_auto_flow": null,
            "grid_auto_rows": null,
            "grid_column": null,
            "grid_gap": null,
            "grid_row": null,
            "grid_template_areas": null,
            "grid_template_columns": null,
            "grid_template_rows": null,
            "height": null,
            "justify_content": null,
            "justify_items": null,
            "left": null,
            "margin": null,
            "max_height": null,
            "max_width": null,
            "min_height": null,
            "min_width": null,
            "object_fit": null,
            "object_position": null,
            "order": null,
            "overflow": null,
            "overflow_x": null,
            "overflow_y": null,
            "padding": null,
            "right": null,
            "top": null,
            "visibility": null,
            "width": null
          }
        },
        "34b1442f0da249dd94f355f4bcadc556": {
          "model_module": "@jupyter-widgets/controls",
          "model_name": "DescriptionStyleModel",
          "model_module_version": "1.5.0",
          "state": {
            "_model_module": "@jupyter-widgets/controls",
            "_model_module_version": "1.5.0",
            "_model_name": "DescriptionStyleModel",
            "_view_count": null,
            "_view_module": "@jupyter-widgets/base",
            "_view_module_version": "1.2.0",
            "_view_name": "StyleView",
            "description_width": ""
          }
        },
        "d205784beccd4789ad37e68e08db2deb": {
          "model_module": "@jupyter-widgets/controls",
          "model_name": "HBoxModel",
          "model_module_version": "1.5.0",
          "state": {
            "_dom_classes": [],
            "_model_module": "@jupyter-widgets/controls",
            "_model_module_version": "1.5.0",
            "_model_name": "HBoxModel",
            "_view_count": null,
            "_view_module": "@jupyter-widgets/controls",
            "_view_module_version": "1.5.0",
            "_view_name": "HBoxView",
            "box_style": "",
            "children": [
              "IPY_MODEL_21666d8def724df6ad58ed4304b7fbdc",
              "IPY_MODEL_79c6d1f940c843018437fc8e53e1d7ad",
              "IPY_MODEL_b1f18b96e9df480087c0a04f485a1aa1"
            ],
            "layout": "IPY_MODEL_7d3fb8f7b08248b590b2b2a2e1a04c20"
          }
        },
        "21666d8def724df6ad58ed4304b7fbdc": {
          "model_module": "@jupyter-widgets/controls",
          "model_name": "HTMLModel",
          "model_module_version": "1.5.0",
          "state": {
            "_dom_classes": [],
            "_model_module": "@jupyter-widgets/controls",
            "_model_module_version": "1.5.0",
            "_model_name": "HTMLModel",
            "_view_count": null,
            "_view_module": "@jupyter-widgets/controls",
            "_view_module_version": "1.5.0",
            "_view_name": "HTMLView",
            "description": "",
            "description_tooltip": null,
            "layout": "IPY_MODEL_3c4dd99c877a4ebe81c3b7be4b9c681b",
            "placeholder": "​",
            "style": "IPY_MODEL_8c1d578d1e9e46da88bb07ad6d449dc7",
            "value": "tokenizer.json: 100%"
          }
        },
        "79c6d1f940c843018437fc8e53e1d7ad": {
          "model_module": "@jupyter-widgets/controls",
          "model_name": "FloatProgressModel",
          "model_module_version": "1.5.0",
          "state": {
            "_dom_classes": [],
            "_model_module": "@jupyter-widgets/controls",
            "_model_module_version": "1.5.0",
            "_model_name": "FloatProgressModel",
            "_view_count": null,
            "_view_module": "@jupyter-widgets/controls",
            "_view_module_version": "1.5.0",
            "_view_name": "ProgressView",
            "bar_style": "success",
            "description": "",
            "description_tooltip": null,
            "layout": "IPY_MODEL_3094083844874283ba1a7ef6b1ce223e",
            "max": 17525357,
            "min": 0,
            "orientation": "horizontal",
            "style": "IPY_MODEL_9d27b92a0aaf426ca6c69f7e85fe6a25",
            "value": 17525357
          }
        },
        "b1f18b96e9df480087c0a04f485a1aa1": {
          "model_module": "@jupyter-widgets/controls",
          "model_name": "HTMLModel",
          "model_module_version": "1.5.0",
          "state": {
            "_dom_classes": [],
            "_model_module": "@jupyter-widgets/controls",
            "_model_module_version": "1.5.0",
            "_model_name": "HTMLModel",
            "_view_count": null,
            "_view_module": "@jupyter-widgets/controls",
            "_view_module_version": "1.5.0",
            "_view_name": "HTMLView",
            "description": "",
            "description_tooltip": null,
            "layout": "IPY_MODEL_326daa3a2dd8437fa682783997fabfb4",
            "placeholder": "​",
            "style": "IPY_MODEL_13e4cc7419164786a8eef3977482c828",
            "value": " 17.5M/17.5M [00:00&lt;00:00, 43.2MB/s]"
          }
        },
        "7d3fb8f7b08248b590b2b2a2e1a04c20": {
          "model_module": "@jupyter-widgets/base",
          "model_name": "LayoutModel",
          "model_module_version": "1.2.0",
          "state": {
            "_model_module": "@jupyter-widgets/base",
            "_model_module_version": "1.2.0",
            "_model_name": "LayoutModel",
            "_view_count": null,
            "_view_module": "@jupyter-widgets/base",
            "_view_module_version": "1.2.0",
            "_view_name": "LayoutView",
            "align_content": null,
            "align_items": null,
            "align_self": null,
            "border": null,
            "bottom": null,
            "display": null,
            "flex": null,
            "flex_flow": null,
            "grid_area": null,
            "grid_auto_columns": null,
            "grid_auto_flow": null,
            "grid_auto_rows": null,
            "grid_column": null,
            "grid_gap": null,
            "grid_row": null,
            "grid_template_areas": null,
            "grid_template_columns": null,
            "grid_template_rows": null,
            "height": null,
            "justify_content": null,
            "justify_items": null,
            "left": null,
            "margin": null,
            "max_height": null,
            "max_width": null,
            "min_height": null,
            "min_width": null,
            "object_fit": null,
            "object_position": null,
            "order": null,
            "overflow": null,
            "overflow_x": null,
            "overflow_y": null,
            "padding": null,
            "right": null,
            "top": null,
            "visibility": null,
            "width": null
          }
        },
        "3c4dd99c877a4ebe81c3b7be4b9c681b": {
          "model_module": "@jupyter-widgets/base",
          "model_name": "LayoutModel",
          "model_module_version": "1.2.0",
          "state": {
            "_model_module": "@jupyter-widgets/base",
            "_model_module_version": "1.2.0",
            "_model_name": "LayoutModel",
            "_view_count": null,
            "_view_module": "@jupyter-widgets/base",
            "_view_module_version": "1.2.0",
            "_view_name": "LayoutView",
            "align_content": null,
            "align_items": null,
            "align_self": null,
            "border": null,
            "bottom": null,
            "display": null,
            "flex": null,
            "flex_flow": null,
            "grid_area": null,
            "grid_auto_columns": null,
            "grid_auto_flow": null,
            "grid_auto_rows": null,
            "grid_column": null,
            "grid_gap": null,
            "grid_row": null,
            "grid_template_areas": null,
            "grid_template_columns": null,
            "grid_template_rows": null,
            "height": null,
            "justify_content": null,
            "justify_items": null,
            "left": null,
            "margin": null,
            "max_height": null,
            "max_width": null,
            "min_height": null,
            "min_width": null,
            "object_fit": null,
            "object_position": null,
            "order": null,
            "overflow": null,
            "overflow_x": null,
            "overflow_y": null,
            "padding": null,
            "right": null,
            "top": null,
            "visibility": null,
            "width": null
          }
        },
        "8c1d578d1e9e46da88bb07ad6d449dc7": {
          "model_module": "@jupyter-widgets/controls",
          "model_name": "DescriptionStyleModel",
          "model_module_version": "1.5.0",
          "state": {
            "_model_module": "@jupyter-widgets/controls",
            "_model_module_version": "1.5.0",
            "_model_name": "DescriptionStyleModel",
            "_view_count": null,
            "_view_module": "@jupyter-widgets/base",
            "_view_module_version": "1.2.0",
            "_view_name": "StyleView",
            "description_width": ""
          }
        },
        "3094083844874283ba1a7ef6b1ce223e": {
          "model_module": "@jupyter-widgets/base",
          "model_name": "LayoutModel",
          "model_module_version": "1.2.0",
          "state": {
            "_model_module": "@jupyter-widgets/base",
            "_model_module_version": "1.2.0",
            "_model_name": "LayoutModel",
            "_view_count": null,
            "_view_module": "@jupyter-widgets/base",
            "_view_module_version": "1.2.0",
            "_view_name": "LayoutView",
            "align_content": null,
            "align_items": null,
            "align_self": null,
            "border": null,
            "bottom": null,
            "display": null,
            "flex": null,
            "flex_flow": null,
            "grid_area": null,
            "grid_auto_columns": null,
            "grid_auto_flow": null,
            "grid_auto_rows": null,
            "grid_column": null,
            "grid_gap": null,
            "grid_row": null,
            "grid_template_areas": null,
            "grid_template_columns": null,
            "grid_template_rows": null,
            "height": null,
            "justify_content": null,
            "justify_items": null,
            "left": null,
            "margin": null,
            "max_height": null,
            "max_width": null,
            "min_height": null,
            "min_width": null,
            "object_fit": null,
            "object_position": null,
            "order": null,
            "overflow": null,
            "overflow_x": null,
            "overflow_y": null,
            "padding": null,
            "right": null,
            "top": null,
            "visibility": null,
            "width": null
          }
        },
        "9d27b92a0aaf426ca6c69f7e85fe6a25": {
          "model_module": "@jupyter-widgets/controls",
          "model_name": "ProgressStyleModel",
          "model_module_version": "1.5.0",
          "state": {
            "_model_module": "@jupyter-widgets/controls",
            "_model_module_version": "1.5.0",
            "_model_name": "ProgressStyleModel",
            "_view_count": null,
            "_view_module": "@jupyter-widgets/base",
            "_view_module_version": "1.2.0",
            "_view_name": "StyleView",
            "bar_color": null,
            "description_width": ""
          }
        },
        "326daa3a2dd8437fa682783997fabfb4": {
          "model_module": "@jupyter-widgets/base",
          "model_name": "LayoutModel",
          "model_module_version": "1.2.0",
          "state": {
            "_model_module": "@jupyter-widgets/base",
            "_model_module_version": "1.2.0",
            "_model_name": "LayoutModel",
            "_view_count": null,
            "_view_module": "@jupyter-widgets/base",
            "_view_module_version": "1.2.0",
            "_view_name": "LayoutView",
            "align_content": null,
            "align_items": null,
            "align_self": null,
            "border": null,
            "bottom": null,
            "display": null,
            "flex": null,
            "flex_flow": null,
            "grid_area": null,
            "grid_auto_columns": null,
            "grid_auto_flow": null,
            "grid_auto_rows": null,
            "grid_column": null,
            "grid_gap": null,
            "grid_row": null,
            "grid_template_areas": null,
            "grid_template_columns": null,
            "grid_template_rows": null,
            "height": null,
            "justify_content": null,
            "justify_items": null,
            "left": null,
            "margin": null,
            "max_height": null,
            "max_width": null,
            "min_height": null,
            "min_width": null,
            "object_fit": null,
            "object_position": null,
            "order": null,
            "overflow": null,
            "overflow_x": null,
            "overflow_y": null,
            "padding": null,
            "right": null,
            "top": null,
            "visibility": null,
            "width": null
          }
        },
        "13e4cc7419164786a8eef3977482c828": {
          "model_module": "@jupyter-widgets/controls",
          "model_name": "DescriptionStyleModel",
          "model_module_version": "1.5.0",
          "state": {
            "_model_module": "@jupyter-widgets/controls",
            "_model_module_version": "1.5.0",
            "_model_name": "DescriptionStyleModel",
            "_view_count": null,
            "_view_module": "@jupyter-widgets/base",
            "_view_module_version": "1.2.0",
            "_view_name": "StyleView",
            "description_width": ""
          }
        },
        "f8d932dd10044777be47908015b8f063": {
          "model_module": "@jupyter-widgets/controls",
          "model_name": "HBoxModel",
          "model_module_version": "1.5.0",
          "state": {
            "_dom_classes": [],
            "_model_module": "@jupyter-widgets/controls",
            "_model_module_version": "1.5.0",
            "_model_name": "HBoxModel",
            "_view_count": null,
            "_view_module": "@jupyter-widgets/controls",
            "_view_module_version": "1.5.0",
            "_view_name": "HBoxView",
            "box_style": "",
            "children": [
              "IPY_MODEL_4429a000f89043c382c117d6da1a3d9e",
              "IPY_MODEL_4d8c0f72443c439ca075b6ef18df411b",
              "IPY_MODEL_2df2d81386594f0dba434b866bdcc261"
            ],
            "layout": "IPY_MODEL_d7300695fefc4db4a010c67215a5fd51"
          }
        },
        "4429a000f89043c382c117d6da1a3d9e": {
          "model_module": "@jupyter-widgets/controls",
          "model_name": "HTMLModel",
          "model_module_version": "1.5.0",
          "state": {
            "_dom_classes": [],
            "_model_module": "@jupyter-widgets/controls",
            "_model_module_version": "1.5.0",
            "_model_name": "HTMLModel",
            "_view_count": null,
            "_view_module": "@jupyter-widgets/controls",
            "_view_module_version": "1.5.0",
            "_view_name": "HTMLView",
            "description": "",
            "description_tooltip": null,
            "layout": "IPY_MODEL_e6a1b6ae336e4eb59bd70d0342246ee1",
            "placeholder": "​",
            "style": "IPY_MODEL_565b4c0e6c2e447690521ab7f8d2cee0",
            "value": "special_tokens_map.json: 100%"
          }
        },
        "4d8c0f72443c439ca075b6ef18df411b": {
          "model_module": "@jupyter-widgets/controls",
          "model_name": "FloatProgressModel",
          "model_module_version": "1.5.0",
          "state": {
            "_dom_classes": [],
            "_model_module": "@jupyter-widgets/controls",
            "_model_module_version": "1.5.0",
            "_model_name": "FloatProgressModel",
            "_view_count": null,
            "_view_module": "@jupyter-widgets/controls",
            "_view_module_version": "1.5.0",
            "_view_name": "ProgressView",
            "bar_style": "success",
            "description": "",
            "description_tooltip": null,
            "layout": "IPY_MODEL_9234d8a023aa49ce84f83176574bbc2b",
            "max": 636,
            "min": 0,
            "orientation": "horizontal",
            "style": "IPY_MODEL_f23157b6e2d74532801a2ccfa08de6b2",
            "value": 636
          }
        },
        "2df2d81386594f0dba434b866bdcc261": {
          "model_module": "@jupyter-widgets/controls",
          "model_name": "HTMLModel",
          "model_module_version": "1.5.0",
          "state": {
            "_dom_classes": [],
            "_model_module": "@jupyter-widgets/controls",
            "_model_module_version": "1.5.0",
            "_model_name": "HTMLModel",
            "_view_count": null,
            "_view_module": "@jupyter-widgets/controls",
            "_view_module_version": "1.5.0",
            "_view_name": "HTMLView",
            "description": "",
            "description_tooltip": null,
            "layout": "IPY_MODEL_dd776dcac9bb41278c67e35c0ef5f751",
            "placeholder": "​",
            "style": "IPY_MODEL_5e89585091c14a92bceedc5edb735dcf",
            "value": " 636/636 [00:00&lt;00:00, 15.7kB/s]"
          }
        },
        "d7300695fefc4db4a010c67215a5fd51": {
          "model_module": "@jupyter-widgets/base",
          "model_name": "LayoutModel",
          "model_module_version": "1.2.0",
          "state": {
            "_model_module": "@jupyter-widgets/base",
            "_model_module_version": "1.2.0",
            "_model_name": "LayoutModel",
            "_view_count": null,
            "_view_module": "@jupyter-widgets/base",
            "_view_module_version": "1.2.0",
            "_view_name": "LayoutView",
            "align_content": null,
            "align_items": null,
            "align_self": null,
            "border": null,
            "bottom": null,
            "display": null,
            "flex": null,
            "flex_flow": null,
            "grid_area": null,
            "grid_auto_columns": null,
            "grid_auto_flow": null,
            "grid_auto_rows": null,
            "grid_column": null,
            "grid_gap": null,
            "grid_row": null,
            "grid_template_areas": null,
            "grid_template_columns": null,
            "grid_template_rows": null,
            "height": null,
            "justify_content": null,
            "justify_items": null,
            "left": null,
            "margin": null,
            "max_height": null,
            "max_width": null,
            "min_height": null,
            "min_width": null,
            "object_fit": null,
            "object_position": null,
            "order": null,
            "overflow": null,
            "overflow_x": null,
            "overflow_y": null,
            "padding": null,
            "right": null,
            "top": null,
            "visibility": null,
            "width": null
          }
        },
        "e6a1b6ae336e4eb59bd70d0342246ee1": {
          "model_module": "@jupyter-widgets/base",
          "model_name": "LayoutModel",
          "model_module_version": "1.2.0",
          "state": {
            "_model_module": "@jupyter-widgets/base",
            "_model_module_version": "1.2.0",
            "_model_name": "LayoutModel",
            "_view_count": null,
            "_view_module": "@jupyter-widgets/base",
            "_view_module_version": "1.2.0",
            "_view_name": "LayoutView",
            "align_content": null,
            "align_items": null,
            "align_self": null,
            "border": null,
            "bottom": null,
            "display": null,
            "flex": null,
            "flex_flow": null,
            "grid_area": null,
            "grid_auto_columns": null,
            "grid_auto_flow": null,
            "grid_auto_rows": null,
            "grid_column": null,
            "grid_gap": null,
            "grid_row": null,
            "grid_template_areas": null,
            "grid_template_columns": null,
            "grid_template_rows": null,
            "height": null,
            "justify_content": null,
            "justify_items": null,
            "left": null,
            "margin": null,
            "max_height": null,
            "max_width": null,
            "min_height": null,
            "min_width": null,
            "object_fit": null,
            "object_position": null,
            "order": null,
            "overflow": null,
            "overflow_x": null,
            "overflow_y": null,
            "padding": null,
            "right": null,
            "top": null,
            "visibility": null,
            "width": null
          }
        },
        "565b4c0e6c2e447690521ab7f8d2cee0": {
          "model_module": "@jupyter-widgets/controls",
          "model_name": "DescriptionStyleModel",
          "model_module_version": "1.5.0",
          "state": {
            "_model_module": "@jupyter-widgets/controls",
            "_model_module_version": "1.5.0",
            "_model_name": "DescriptionStyleModel",
            "_view_count": null,
            "_view_module": "@jupyter-widgets/base",
            "_view_module_version": "1.2.0",
            "_view_name": "StyleView",
            "description_width": ""
          }
        },
        "9234d8a023aa49ce84f83176574bbc2b": {
          "model_module": "@jupyter-widgets/base",
          "model_name": "LayoutModel",
          "model_module_version": "1.2.0",
          "state": {
            "_model_module": "@jupyter-widgets/base",
            "_model_module_version": "1.2.0",
            "_model_name": "LayoutModel",
            "_view_count": null,
            "_view_module": "@jupyter-widgets/base",
            "_view_module_version": "1.2.0",
            "_view_name": "LayoutView",
            "align_content": null,
            "align_items": null,
            "align_self": null,
            "border": null,
            "bottom": null,
            "display": null,
            "flex": null,
            "flex_flow": null,
            "grid_area": null,
            "grid_auto_columns": null,
            "grid_auto_flow": null,
            "grid_auto_rows": null,
            "grid_column": null,
            "grid_gap": null,
            "grid_row": null,
            "grid_template_areas": null,
            "grid_template_columns": null,
            "grid_template_rows": null,
            "height": null,
            "justify_content": null,
            "justify_items": null,
            "left": null,
            "margin": null,
            "max_height": null,
            "max_width": null,
            "min_height": null,
            "min_width": null,
            "object_fit": null,
            "object_position": null,
            "order": null,
            "overflow": null,
            "overflow_x": null,
            "overflow_y": null,
            "padding": null,
            "right": null,
            "top": null,
            "visibility": null,
            "width": null
          }
        },
        "f23157b6e2d74532801a2ccfa08de6b2": {
          "model_module": "@jupyter-widgets/controls",
          "model_name": "ProgressStyleModel",
          "model_module_version": "1.5.0",
          "state": {
            "_model_module": "@jupyter-widgets/controls",
            "_model_module_version": "1.5.0",
            "_model_name": "ProgressStyleModel",
            "_view_count": null,
            "_view_module": "@jupyter-widgets/base",
            "_view_module_version": "1.2.0",
            "_view_name": "StyleView",
            "bar_color": null,
            "description_width": ""
          }
        },
        "dd776dcac9bb41278c67e35c0ef5f751": {
          "model_module": "@jupyter-widgets/base",
          "model_name": "LayoutModel",
          "model_module_version": "1.2.0",
          "state": {
            "_model_module": "@jupyter-widgets/base",
            "_model_module_version": "1.2.0",
            "_model_name": "LayoutModel",
            "_view_count": null,
            "_view_module": "@jupyter-widgets/base",
            "_view_module_version": "1.2.0",
            "_view_name": "LayoutView",
            "align_content": null,
            "align_items": null,
            "align_self": null,
            "border": null,
            "bottom": null,
            "display": null,
            "flex": null,
            "flex_flow": null,
            "grid_area": null,
            "grid_auto_columns": null,
            "grid_auto_flow": null,
            "grid_auto_rows": null,
            "grid_column": null,
            "grid_gap": null,
            "grid_row": null,
            "grid_template_areas": null,
            "grid_template_columns": null,
            "grid_template_rows": null,
            "height": null,
            "justify_content": null,
            "justify_items": null,
            "left": null,
            "margin": null,
            "max_height": null,
            "max_width": null,
            "min_height": null,
            "min_width": null,
            "object_fit": null,
            "object_position": null,
            "order": null,
            "overflow": null,
            "overflow_x": null,
            "overflow_y": null,
            "padding": null,
            "right": null,
            "top": null,
            "visibility": null,
            "width": null
          }
        },
        "5e89585091c14a92bceedc5edb735dcf": {
          "model_module": "@jupyter-widgets/controls",
          "model_name": "DescriptionStyleModel",
          "model_module_version": "1.5.0",
          "state": {
            "_model_module": "@jupyter-widgets/controls",
            "_model_module_version": "1.5.0",
            "_model_name": "DescriptionStyleModel",
            "_view_count": null,
            "_view_module": "@jupyter-widgets/base",
            "_view_module_version": "1.2.0",
            "_view_name": "StyleView",
            "description_width": ""
          }
        },
        "3b67073c9d724175ab92d4aed2b6ea6d": {
          "model_module": "@jupyter-widgets/controls",
          "model_name": "HBoxModel",
          "model_module_version": "1.5.0",
          "state": {
            "_dom_classes": [],
            "_model_module": "@jupyter-widgets/controls",
            "_model_module_version": "1.5.0",
            "_model_name": "HBoxModel",
            "_view_count": null,
            "_view_module": "@jupyter-widgets/controls",
            "_view_module_version": "1.5.0",
            "_view_name": "HBoxView",
            "box_style": "",
            "children": [
              "IPY_MODEL_b5ef2ed496ad4f3bb97348bbd03e93ae",
              "IPY_MODEL_c23b05875e3b4cc482138777c6db86f3",
              "IPY_MODEL_1362141228f14e159b6db4bfcd84d31d"
            ],
            "layout": "IPY_MODEL_c18f9d2d0bd6467789a337f9b5434257"
          }
        },
        "b5ef2ed496ad4f3bb97348bbd03e93ae": {
          "model_module": "@jupyter-widgets/controls",
          "model_name": "HTMLModel",
          "model_module_version": "1.5.0",
          "state": {
            "_dom_classes": [],
            "_model_module": "@jupyter-widgets/controls",
            "_model_module_version": "1.5.0",
            "_model_name": "HTMLModel",
            "_view_count": null,
            "_view_module": "@jupyter-widgets/controls",
            "_view_module_version": "1.5.0",
            "_view_name": "HTMLView",
            "description": "",
            "description_tooltip": null,
            "layout": "IPY_MODEL_58b5d7f0752c4f6fbfd4487071528f2a",
            "placeholder": "​",
            "style": "IPY_MODEL_b550056557c240ebbd4a5cc411635010",
            "value": "config.json: 100%"
          }
        },
        "c23b05875e3b4cc482138777c6db86f3": {
          "model_module": "@jupyter-widgets/controls",
          "model_name": "FloatProgressModel",
          "model_module_version": "1.5.0",
          "state": {
            "_dom_classes": [],
            "_model_module": "@jupyter-widgets/controls",
            "_model_module_version": "1.5.0",
            "_model_name": "FloatProgressModel",
            "_view_count": null,
            "_view_module": "@jupyter-widgets/controls",
            "_view_module_version": "1.5.0",
            "_view_name": "ProgressView",
            "bar_style": "success",
            "description": "",
            "description_tooltip": null,
            "layout": "IPY_MODEL_3cd4cf1690874f2bb056740270d82564",
            "max": 913,
            "min": 0,
            "orientation": "horizontal",
            "style": "IPY_MODEL_32e48e7df90e4c2b88b1f9a7dfea87ac",
            "value": 913
          }
        },
        "1362141228f14e159b6db4bfcd84d31d": {
          "model_module": "@jupyter-widgets/controls",
          "model_name": "HTMLModel",
          "model_module_version": "1.5.0",
          "state": {
            "_dom_classes": [],
            "_model_module": "@jupyter-widgets/controls",
            "_model_module_version": "1.5.0",
            "_model_name": "HTMLModel",
            "_view_count": null,
            "_view_module": "@jupyter-widgets/controls",
            "_view_module_version": "1.5.0",
            "_view_name": "HTMLView",
            "description": "",
            "description_tooltip": null,
            "layout": "IPY_MODEL_649f7464549b4cf99389005ba63e7edd",
            "placeholder": "​",
            "style": "IPY_MODEL_3825993e094541c69f184a931cf524a4",
            "value": " 913/913 [00:00&lt;00:00, 29.0kB/s]"
          }
        },
        "c18f9d2d0bd6467789a337f9b5434257": {
          "model_module": "@jupyter-widgets/base",
          "model_name": "LayoutModel",
          "model_module_version": "1.2.0",
          "state": {
            "_model_module": "@jupyter-widgets/base",
            "_model_module_version": "1.2.0",
            "_model_name": "LayoutModel",
            "_view_count": null,
            "_view_module": "@jupyter-widgets/base",
            "_view_module_version": "1.2.0",
            "_view_name": "LayoutView",
            "align_content": null,
            "align_items": null,
            "align_self": null,
            "border": null,
            "bottom": null,
            "display": null,
            "flex": null,
            "flex_flow": null,
            "grid_area": null,
            "grid_auto_columns": null,
            "grid_auto_flow": null,
            "grid_auto_rows": null,
            "grid_column": null,
            "grid_gap": null,
            "grid_row": null,
            "grid_template_areas": null,
            "grid_template_columns": null,
            "grid_template_rows": null,
            "height": null,
            "justify_content": null,
            "justify_items": null,
            "left": null,
            "margin": null,
            "max_height": null,
            "max_width": null,
            "min_height": null,
            "min_width": null,
            "object_fit": null,
            "object_position": null,
            "order": null,
            "overflow": null,
            "overflow_x": null,
            "overflow_y": null,
            "padding": null,
            "right": null,
            "top": null,
            "visibility": null,
            "width": null
          }
        },
        "58b5d7f0752c4f6fbfd4487071528f2a": {
          "model_module": "@jupyter-widgets/base",
          "model_name": "LayoutModel",
          "model_module_version": "1.2.0",
          "state": {
            "_model_module": "@jupyter-widgets/base",
            "_model_module_version": "1.2.0",
            "_model_name": "LayoutModel",
            "_view_count": null,
            "_view_module": "@jupyter-widgets/base",
            "_view_module_version": "1.2.0",
            "_view_name": "LayoutView",
            "align_content": null,
            "align_items": null,
            "align_self": null,
            "border": null,
            "bottom": null,
            "display": null,
            "flex": null,
            "flex_flow": null,
            "grid_area": null,
            "grid_auto_columns": null,
            "grid_auto_flow": null,
            "grid_auto_rows": null,
            "grid_column": null,
            "grid_gap": null,
            "grid_row": null,
            "grid_template_areas": null,
            "grid_template_columns": null,
            "grid_template_rows": null,
            "height": null,
            "justify_content": null,
            "justify_items": null,
            "left": null,
            "margin": null,
            "max_height": null,
            "max_width": null,
            "min_height": null,
            "min_width": null,
            "object_fit": null,
            "object_position": null,
            "order": null,
            "overflow": null,
            "overflow_x": null,
            "overflow_y": null,
            "padding": null,
            "right": null,
            "top": null,
            "visibility": null,
            "width": null
          }
        },
        "b550056557c240ebbd4a5cc411635010": {
          "model_module": "@jupyter-widgets/controls",
          "model_name": "DescriptionStyleModel",
          "model_module_version": "1.5.0",
          "state": {
            "_model_module": "@jupyter-widgets/controls",
            "_model_module_version": "1.5.0",
            "_model_name": "DescriptionStyleModel",
            "_view_count": null,
            "_view_module": "@jupyter-widgets/base",
            "_view_module_version": "1.2.0",
            "_view_name": "StyleView",
            "description_width": ""
          }
        },
        "3cd4cf1690874f2bb056740270d82564": {
          "model_module": "@jupyter-widgets/base",
          "model_name": "LayoutModel",
          "model_module_version": "1.2.0",
          "state": {
            "_model_module": "@jupyter-widgets/base",
            "_model_module_version": "1.2.0",
            "_model_name": "LayoutModel",
            "_view_count": null,
            "_view_module": "@jupyter-widgets/base",
            "_view_module_version": "1.2.0",
            "_view_name": "LayoutView",
            "align_content": null,
            "align_items": null,
            "align_self": null,
            "border": null,
            "bottom": null,
            "display": null,
            "flex": null,
            "flex_flow": null,
            "grid_area": null,
            "grid_auto_columns": null,
            "grid_auto_flow": null,
            "grid_auto_rows": null,
            "grid_column": null,
            "grid_gap": null,
            "grid_row": null,
            "grid_template_areas": null,
            "grid_template_columns": null,
            "grid_template_rows": null,
            "height": null,
            "justify_content": null,
            "justify_items": null,
            "left": null,
            "margin": null,
            "max_height": null,
            "max_width": null,
            "min_height": null,
            "min_width": null,
            "object_fit": null,
            "object_position": null,
            "order": null,
            "overflow": null,
            "overflow_x": null,
            "overflow_y": null,
            "padding": null,
            "right": null,
            "top": null,
            "visibility": null,
            "width": null
          }
        },
        "32e48e7df90e4c2b88b1f9a7dfea87ac": {
          "model_module": "@jupyter-widgets/controls",
          "model_name": "ProgressStyleModel",
          "model_module_version": "1.5.0",
          "state": {
            "_model_module": "@jupyter-widgets/controls",
            "_model_module_version": "1.5.0",
            "_model_name": "ProgressStyleModel",
            "_view_count": null,
            "_view_module": "@jupyter-widgets/base",
            "_view_module_version": "1.2.0",
            "_view_name": "StyleView",
            "bar_color": null,
            "description_width": ""
          }
        },
        "649f7464549b4cf99389005ba63e7edd": {
          "model_module": "@jupyter-widgets/base",
          "model_name": "LayoutModel",
          "model_module_version": "1.2.0",
          "state": {
            "_model_module": "@jupyter-widgets/base",
            "_model_module_version": "1.2.0",
            "_model_name": "LayoutModel",
            "_view_count": null,
            "_view_module": "@jupyter-widgets/base",
            "_view_module_version": "1.2.0",
            "_view_name": "LayoutView",
            "align_content": null,
            "align_items": null,
            "align_self": null,
            "border": null,
            "bottom": null,
            "display": null,
            "flex": null,
            "flex_flow": null,
            "grid_area": null,
            "grid_auto_columns": null,
            "grid_auto_flow": null,
            "grid_auto_rows": null,
            "grid_column": null,
            "grid_gap": null,
            "grid_row": null,
            "grid_template_areas": null,
            "grid_template_columns": null,
            "grid_template_rows": null,
            "height": null,
            "justify_content": null,
            "justify_items": null,
            "left": null,
            "margin": null,
            "max_height": null,
            "max_width": null,
            "min_height": null,
            "min_width": null,
            "object_fit": null,
            "object_position": null,
            "order": null,
            "overflow": null,
            "overflow_x": null,
            "overflow_y": null,
            "padding": null,
            "right": null,
            "top": null,
            "visibility": null,
            "width": null
          }
        },
        "3825993e094541c69f184a931cf524a4": {
          "model_module": "@jupyter-widgets/controls",
          "model_name": "DescriptionStyleModel",
          "model_module_version": "1.5.0",
          "state": {
            "_model_module": "@jupyter-widgets/controls",
            "_model_module_version": "1.5.0",
            "_model_name": "DescriptionStyleModel",
            "_view_count": null,
            "_view_module": "@jupyter-widgets/base",
            "_view_module_version": "1.2.0",
            "_view_name": "StyleView",
            "description_width": ""
          }
        },
        "e2affe2af47e404c9f0e34340256b3c3": {
          "model_module": "@jupyter-widgets/controls",
          "model_name": "HBoxModel",
          "model_module_version": "1.5.0",
          "state": {
            "_dom_classes": [],
            "_model_module": "@jupyter-widgets/controls",
            "_model_module_version": "1.5.0",
            "_model_name": "HBoxModel",
            "_view_count": null,
            "_view_module": "@jupyter-widgets/controls",
            "_view_module_version": "1.5.0",
            "_view_name": "HBoxView",
            "box_style": "",
            "children": [
              "IPY_MODEL_0ed86217364f4610a2cdf2a2cba52b0b",
              "IPY_MODEL_2d49b155007a46c7af37194bf054ee93",
              "IPY_MODEL_5e08d880f35b4d1fb3379e31b791b52a"
            ],
            "layout": "IPY_MODEL_895c6a588a7b444f98417a2624def275"
          }
        },
        "0ed86217364f4610a2cdf2a2cba52b0b": {
          "model_module": "@jupyter-widgets/controls",
          "model_name": "HTMLModel",
          "model_module_version": "1.5.0",
          "state": {
            "_dom_classes": [],
            "_model_module": "@jupyter-widgets/controls",
            "_model_module_version": "1.5.0",
            "_model_name": "HTMLModel",
            "_view_count": null,
            "_view_module": "@jupyter-widgets/controls",
            "_view_module_version": "1.5.0",
            "_view_name": "HTMLView",
            "description": "",
            "description_tooltip": null,
            "layout": "IPY_MODEL_7c623a5fd1fc407fa49e13923933e52b",
            "placeholder": "​",
            "style": "IPY_MODEL_50e9bf42c74448abb6079efa9b27cea2",
            "value": "model.safetensors: 100%"
          }
        },
        "2d49b155007a46c7af37194bf054ee93": {
          "model_module": "@jupyter-widgets/controls",
          "model_name": "FloatProgressModel",
          "model_module_version": "1.5.0",
          "state": {
            "_dom_classes": [],
            "_model_module": "@jupyter-widgets/controls",
            "_model_module_version": "1.5.0",
            "_model_name": "FloatProgressModel",
            "_view_count": null,
            "_view_module": "@jupyter-widgets/controls",
            "_view_module_version": "1.5.0",
            "_view_name": "ProgressView",
            "bar_style": "success",
            "description": "",
            "description_tooltip": null,
            "layout": "IPY_MODEL_cac20ec0c6914b918a360a2d4b017e05",
            "max": 5228717512,
            "min": 0,
            "orientation": "horizontal",
            "style": "IPY_MODEL_791dc61842294741ae737ed1830b4cec",
            "value": 5228717512
          }
        },
        "5e08d880f35b4d1fb3379e31b791b52a": {
          "model_module": "@jupyter-widgets/controls",
          "model_name": "HTMLModel",
          "model_module_version": "1.5.0",
          "state": {
            "_dom_classes": [],
            "_model_module": "@jupyter-widgets/controls",
            "_model_module_version": "1.5.0",
            "_model_name": "HTMLModel",
            "_view_count": null,
            "_view_module": "@jupyter-widgets/controls",
            "_view_module_version": "1.5.0",
            "_view_name": "HTMLView",
            "description": "",
            "description_tooltip": null,
            "layout": "IPY_MODEL_7ace173f11cc4d3c9969cdbb81c189ae",
            "placeholder": "​",
            "style": "IPY_MODEL_323bc05708e94f4c818eea3c8766d27f",
            "value": " 5.23G/5.23G [02:03&lt;00:00, 41.5MB/s]"
          }
        },
        "895c6a588a7b444f98417a2624def275": {
          "model_module": "@jupyter-widgets/base",
          "model_name": "LayoutModel",
          "model_module_version": "1.2.0",
          "state": {
            "_model_module": "@jupyter-widgets/base",
            "_model_module_version": "1.2.0",
            "_model_name": "LayoutModel",
            "_view_count": null,
            "_view_module": "@jupyter-widgets/base",
            "_view_module_version": "1.2.0",
            "_view_name": "LayoutView",
            "align_content": null,
            "align_items": null,
            "align_self": null,
            "border": null,
            "bottom": null,
            "display": null,
            "flex": null,
            "flex_flow": null,
            "grid_area": null,
            "grid_auto_columns": null,
            "grid_auto_flow": null,
            "grid_auto_rows": null,
            "grid_column": null,
            "grid_gap": null,
            "grid_row": null,
            "grid_template_areas": null,
            "grid_template_columns": null,
            "grid_template_rows": null,
            "height": null,
            "justify_content": null,
            "justify_items": null,
            "left": null,
            "margin": null,
            "max_height": null,
            "max_width": null,
            "min_height": null,
            "min_width": null,
            "object_fit": null,
            "object_position": null,
            "order": null,
            "overflow": null,
            "overflow_x": null,
            "overflow_y": null,
            "padding": null,
            "right": null,
            "top": null,
            "visibility": null,
            "width": null
          }
        },
        "7c623a5fd1fc407fa49e13923933e52b": {
          "model_module": "@jupyter-widgets/base",
          "model_name": "LayoutModel",
          "model_module_version": "1.2.0",
          "state": {
            "_model_module": "@jupyter-widgets/base",
            "_model_module_version": "1.2.0",
            "_model_name": "LayoutModel",
            "_view_count": null,
            "_view_module": "@jupyter-widgets/base",
            "_view_module_version": "1.2.0",
            "_view_name": "LayoutView",
            "align_content": null,
            "align_items": null,
            "align_self": null,
            "border": null,
            "bottom": null,
            "display": null,
            "flex": null,
            "flex_flow": null,
            "grid_area": null,
            "grid_auto_columns": null,
            "grid_auto_flow": null,
            "grid_auto_rows": null,
            "grid_column": null,
            "grid_gap": null,
            "grid_row": null,
            "grid_template_areas": null,
            "grid_template_columns": null,
            "grid_template_rows": null,
            "height": null,
            "justify_content": null,
            "justify_items": null,
            "left": null,
            "margin": null,
            "max_height": null,
            "max_width": null,
            "min_height": null,
            "min_width": null,
            "object_fit": null,
            "object_position": null,
            "order": null,
            "overflow": null,
            "overflow_x": null,
            "overflow_y": null,
            "padding": null,
            "right": null,
            "top": null,
            "visibility": null,
            "width": null
          }
        },
        "50e9bf42c74448abb6079efa9b27cea2": {
          "model_module": "@jupyter-widgets/controls",
          "model_name": "DescriptionStyleModel",
          "model_module_version": "1.5.0",
          "state": {
            "_model_module": "@jupyter-widgets/controls",
            "_model_module_version": "1.5.0",
            "_model_name": "DescriptionStyleModel",
            "_view_count": null,
            "_view_module": "@jupyter-widgets/base",
            "_view_module_version": "1.2.0",
            "_view_name": "StyleView",
            "description_width": ""
          }
        },
        "cac20ec0c6914b918a360a2d4b017e05": {
          "model_module": "@jupyter-widgets/base",
          "model_name": "LayoutModel",
          "model_module_version": "1.2.0",
          "state": {
            "_model_module": "@jupyter-widgets/base",
            "_model_module_version": "1.2.0",
            "_model_name": "LayoutModel",
            "_view_count": null,
            "_view_module": "@jupyter-widgets/base",
            "_view_module_version": "1.2.0",
            "_view_name": "LayoutView",
            "align_content": null,
            "align_items": null,
            "align_self": null,
            "border": null,
            "bottom": null,
            "display": null,
            "flex": null,
            "flex_flow": null,
            "grid_area": null,
            "grid_auto_columns": null,
            "grid_auto_flow": null,
            "grid_auto_rows": null,
            "grid_column": null,
            "grid_gap": null,
            "grid_row": null,
            "grid_template_areas": null,
            "grid_template_columns": null,
            "grid_template_rows": null,
            "height": null,
            "justify_content": null,
            "justify_items": null,
            "left": null,
            "margin": null,
            "max_height": null,
            "max_width": null,
            "min_height": null,
            "min_width": null,
            "object_fit": null,
            "object_position": null,
            "order": null,
            "overflow": null,
            "overflow_x": null,
            "overflow_y": null,
            "padding": null,
            "right": null,
            "top": null,
            "visibility": null,
            "width": null
          }
        },
        "791dc61842294741ae737ed1830b4cec": {
          "model_module": "@jupyter-widgets/controls",
          "model_name": "ProgressStyleModel",
          "model_module_version": "1.5.0",
          "state": {
            "_model_module": "@jupyter-widgets/controls",
            "_model_module_version": "1.5.0",
            "_model_name": "ProgressStyleModel",
            "_view_count": null,
            "_view_module": "@jupyter-widgets/base",
            "_view_module_version": "1.2.0",
            "_view_name": "StyleView",
            "bar_color": null,
            "description_width": ""
          }
        },
        "7ace173f11cc4d3c9969cdbb81c189ae": {
          "model_module": "@jupyter-widgets/base",
          "model_name": "LayoutModel",
          "model_module_version": "1.2.0",
          "state": {
            "_model_module": "@jupyter-widgets/base",
            "_model_module_version": "1.2.0",
            "_model_name": "LayoutModel",
            "_view_count": null,
            "_view_module": "@jupyter-widgets/base",
            "_view_module_version": "1.2.0",
            "_view_name": "LayoutView",
            "align_content": null,
            "align_items": null,
            "align_self": null,
            "border": null,
            "bottom": null,
            "display": null,
            "flex": null,
            "flex_flow": null,
            "grid_area": null,
            "grid_auto_columns": null,
            "grid_auto_flow": null,
            "grid_auto_rows": null,
            "grid_column": null,
            "grid_gap": null,
            "grid_row": null,
            "grid_template_areas": null,
            "grid_template_columns": null,
            "grid_template_rows": null,
            "height": null,
            "justify_content": null,
            "justify_items": null,
            "left": null,
            "margin": null,
            "max_height": null,
            "max_width": null,
            "min_height": null,
            "min_width": null,
            "object_fit": null,
            "object_position": null,
            "order": null,
            "overflow": null,
            "overflow_x": null,
            "overflow_y": null,
            "padding": null,
            "right": null,
            "top": null,
            "visibility": null,
            "width": null
          }
        },
        "323bc05708e94f4c818eea3c8766d27f": {
          "model_module": "@jupyter-widgets/controls",
          "model_name": "DescriptionStyleModel",
          "model_module_version": "1.5.0",
          "state": {
            "_model_module": "@jupyter-widgets/controls",
            "_model_module_version": "1.5.0",
            "_model_name": "DescriptionStyleModel",
            "_view_count": null,
            "_view_module": "@jupyter-widgets/base",
            "_view_module_version": "1.2.0",
            "_view_name": "StyleView",
            "description_width": ""
          }
        },
        "8cf7379d289e438c8cb2baa4e940df64": {
          "model_module": "@jupyter-widgets/controls",
          "model_name": "HBoxModel",
          "model_module_version": "1.5.0",
          "state": {
            "_dom_classes": [],
            "_model_module": "@jupyter-widgets/controls",
            "_model_module_version": "1.5.0",
            "_model_name": "HBoxModel",
            "_view_count": null,
            "_view_module": "@jupyter-widgets/controls",
            "_view_module_version": "1.5.0",
            "_view_name": "HBoxView",
            "box_style": "",
            "children": [
              "IPY_MODEL_684173d731014949828b368bca7cb40a",
              "IPY_MODEL_79b5d843fba5460880dc6300f56660ce",
              "IPY_MODEL_25c9a04aa0094cc08bafc691c6c07a44"
            ],
            "layout": "IPY_MODEL_8091e66273ce42dca33ec42dfdff41da"
          }
        },
        "684173d731014949828b368bca7cb40a": {
          "model_module": "@jupyter-widgets/controls",
          "model_name": "HTMLModel",
          "model_module_version": "1.5.0",
          "state": {
            "_dom_classes": [],
            "_model_module": "@jupyter-widgets/controls",
            "_model_module_version": "1.5.0",
            "_model_name": "HTMLModel",
            "_view_count": null,
            "_view_module": "@jupyter-widgets/controls",
            "_view_module_version": "1.5.0",
            "_view_name": "HTMLView",
            "description": "",
            "description_tooltip": null,
            "layout": "IPY_MODEL_92d3f1668c344242a91cc42d494e2ead",
            "placeholder": "​",
            "style": "IPY_MODEL_f7b600754a924cd99e00f323fc58d0c5",
            "value": "generation_config.json: 100%"
          }
        },
        "79b5d843fba5460880dc6300f56660ce": {
          "model_module": "@jupyter-widgets/controls",
          "model_name": "FloatProgressModel",
          "model_module_version": "1.5.0",
          "state": {
            "_dom_classes": [],
            "_model_module": "@jupyter-widgets/controls",
            "_model_module_version": "1.5.0",
            "_model_name": "FloatProgressModel",
            "_view_count": null,
            "_view_module": "@jupyter-widgets/controls",
            "_view_module_version": "1.5.0",
            "_view_name": "ProgressView",
            "bar_style": "success",
            "description": "",
            "description_tooltip": null,
            "layout": "IPY_MODEL_2557b060e039419e856cab2e74114665",
            "max": 209,
            "min": 0,
            "orientation": "horizontal",
            "style": "IPY_MODEL_4c83082323fc4b6f80aaefdcf7beb9b4",
            "value": 209
          }
        },
        "25c9a04aa0094cc08bafc691c6c07a44": {
          "model_module": "@jupyter-widgets/controls",
          "model_name": "HTMLModel",
          "model_module_version": "1.5.0",
          "state": {
            "_dom_classes": [],
            "_model_module": "@jupyter-widgets/controls",
            "_model_module_version": "1.5.0",
            "_model_name": "HTMLModel",
            "_view_count": null,
            "_view_module": "@jupyter-widgets/controls",
            "_view_module_version": "1.5.0",
            "_view_name": "HTMLView",
            "description": "",
            "description_tooltip": null,
            "layout": "IPY_MODEL_711471faf2064ca795d84d258f79dcf7",
            "placeholder": "​",
            "style": "IPY_MODEL_84de5a110449474ba7f9d3a82086d124",
            "value": " 209/209 [00:00&lt;00:00, 21.2kB/s]"
          }
        },
        "8091e66273ce42dca33ec42dfdff41da": {
          "model_module": "@jupyter-widgets/base",
          "model_name": "LayoutModel",
          "model_module_version": "1.2.0",
          "state": {
            "_model_module": "@jupyter-widgets/base",
            "_model_module_version": "1.2.0",
            "_model_name": "LayoutModel",
            "_view_count": null,
            "_view_module": "@jupyter-widgets/base",
            "_view_module_version": "1.2.0",
            "_view_name": "LayoutView",
            "align_content": null,
            "align_items": null,
            "align_self": null,
            "border": null,
            "bottom": null,
            "display": null,
            "flex": null,
            "flex_flow": null,
            "grid_area": null,
            "grid_auto_columns": null,
            "grid_auto_flow": null,
            "grid_auto_rows": null,
            "grid_column": null,
            "grid_gap": null,
            "grid_row": null,
            "grid_template_areas": null,
            "grid_template_columns": null,
            "grid_template_rows": null,
            "height": null,
            "justify_content": null,
            "justify_items": null,
            "left": null,
            "margin": null,
            "max_height": null,
            "max_width": null,
            "min_height": null,
            "min_width": null,
            "object_fit": null,
            "object_position": null,
            "order": null,
            "overflow": null,
            "overflow_x": null,
            "overflow_y": null,
            "padding": null,
            "right": null,
            "top": null,
            "visibility": null,
            "width": null
          }
        },
        "92d3f1668c344242a91cc42d494e2ead": {
          "model_module": "@jupyter-widgets/base",
          "model_name": "LayoutModel",
          "model_module_version": "1.2.0",
          "state": {
            "_model_module": "@jupyter-widgets/base",
            "_model_module_version": "1.2.0",
            "_model_name": "LayoutModel",
            "_view_count": null,
            "_view_module": "@jupyter-widgets/base",
            "_view_module_version": "1.2.0",
            "_view_name": "LayoutView",
            "align_content": null,
            "align_items": null,
            "align_self": null,
            "border": null,
            "bottom": null,
            "display": null,
            "flex": null,
            "flex_flow": null,
            "grid_area": null,
            "grid_auto_columns": null,
            "grid_auto_flow": null,
            "grid_auto_rows": null,
            "grid_column": null,
            "grid_gap": null,
            "grid_row": null,
            "grid_template_areas": null,
            "grid_template_columns": null,
            "grid_template_rows": null,
            "height": null,
            "justify_content": null,
            "justify_items": null,
            "left": null,
            "margin": null,
            "max_height": null,
            "max_width": null,
            "min_height": null,
            "min_width": null,
            "object_fit": null,
            "object_position": null,
            "order": null,
            "overflow": null,
            "overflow_x": null,
            "overflow_y": null,
            "padding": null,
            "right": null,
            "top": null,
            "visibility": null,
            "width": null
          }
        },
        "f7b600754a924cd99e00f323fc58d0c5": {
          "model_module": "@jupyter-widgets/controls",
          "model_name": "DescriptionStyleModel",
          "model_module_version": "1.5.0",
          "state": {
            "_model_module": "@jupyter-widgets/controls",
            "_model_module_version": "1.5.0",
            "_model_name": "DescriptionStyleModel",
            "_view_count": null,
            "_view_module": "@jupyter-widgets/base",
            "_view_module_version": "1.2.0",
            "_view_name": "StyleView",
            "description_width": ""
          }
        },
        "2557b060e039419e856cab2e74114665": {
          "model_module": "@jupyter-widgets/base",
          "model_name": "LayoutModel",
          "model_module_version": "1.2.0",
          "state": {
            "_model_module": "@jupyter-widgets/base",
            "_model_module_version": "1.2.0",
            "_model_name": "LayoutModel",
            "_view_count": null,
            "_view_module": "@jupyter-widgets/base",
            "_view_module_version": "1.2.0",
            "_view_name": "LayoutView",
            "align_content": null,
            "align_items": null,
            "align_self": null,
            "border": null,
            "bottom": null,
            "display": null,
            "flex": null,
            "flex_flow": null,
            "grid_area": null,
            "grid_auto_columns": null,
            "grid_auto_flow": null,
            "grid_auto_rows": null,
            "grid_column": null,
            "grid_gap": null,
            "grid_row": null,
            "grid_template_areas": null,
            "grid_template_columns": null,
            "grid_template_rows": null,
            "height": null,
            "justify_content": null,
            "justify_items": null,
            "left": null,
            "margin": null,
            "max_height": null,
            "max_width": null,
            "min_height": null,
            "min_width": null,
            "object_fit": null,
            "object_position": null,
            "order": null,
            "overflow": null,
            "overflow_x": null,
            "overflow_y": null,
            "padding": null,
            "right": null,
            "top": null,
            "visibility": null,
            "width": null
          }
        },
        "4c83082323fc4b6f80aaefdcf7beb9b4": {
          "model_module": "@jupyter-widgets/controls",
          "model_name": "ProgressStyleModel",
          "model_module_version": "1.5.0",
          "state": {
            "_model_module": "@jupyter-widgets/controls",
            "_model_module_version": "1.5.0",
            "_model_name": "ProgressStyleModel",
            "_view_count": null,
            "_view_module": "@jupyter-widgets/base",
            "_view_module_version": "1.2.0",
            "_view_name": "StyleView",
            "bar_color": null,
            "description_width": ""
          }
        },
        "711471faf2064ca795d84d258f79dcf7": {
          "model_module": "@jupyter-widgets/base",
          "model_name": "LayoutModel",
          "model_module_version": "1.2.0",
          "state": {
            "_model_module": "@jupyter-widgets/base",
            "_model_module_version": "1.2.0",
            "_model_name": "LayoutModel",
            "_view_count": null,
            "_view_module": "@jupyter-widgets/base",
            "_view_module_version": "1.2.0",
            "_view_name": "LayoutView",
            "align_content": null,
            "align_items": null,
            "align_self": null,
            "border": null,
            "bottom": null,
            "display": null,
            "flex": null,
            "flex_flow": null,
            "grid_area": null,
            "grid_auto_columns": null,
            "grid_auto_flow": null,
            "grid_auto_rows": null,
            "grid_column": null,
            "grid_gap": null,
            "grid_row": null,
            "grid_template_areas": null,
            "grid_template_columns": null,
            "grid_template_rows": null,
            "height": null,
            "justify_content": null,
            "justify_items": null,
            "left": null,
            "margin": null,
            "max_height": null,
            "max_width": null,
            "min_height": null,
            "min_width": null,
            "object_fit": null,
            "object_position": null,
            "order": null,
            "overflow": null,
            "overflow_x": null,
            "overflow_y": null,
            "padding": null,
            "right": null,
            "top": null,
            "visibility": null,
            "width": null
          }
        },
        "84de5a110449474ba7f9d3a82086d124": {
          "model_module": "@jupyter-widgets/controls",
          "model_name": "DescriptionStyleModel",
          "model_module_version": "1.5.0",
          "state": {
            "_model_module": "@jupyter-widgets/controls",
            "_model_module_version": "1.5.0",
            "_model_name": "DescriptionStyleModel",
            "_view_count": null,
            "_view_module": "@jupyter-widgets/base",
            "_view_module_version": "1.2.0",
            "_view_name": "StyleView",
            "description_width": ""
          }
        },
        "478d54ed48e64a149bcfb6f31fe61afa": {
          "model_module": "@jupyter-widgets/controls",
          "model_name": "HBoxModel",
          "model_module_version": "1.5.0",
          "state": {
            "_dom_classes": [],
            "_model_module": "@jupyter-widgets/controls",
            "_model_module_version": "1.5.0",
            "_model_name": "HBoxModel",
            "_view_count": null,
            "_view_module": "@jupyter-widgets/controls",
            "_view_module_version": "1.5.0",
            "_view_name": "HBoxView",
            "box_style": "",
            "children": [
              "IPY_MODEL_abdaed76ec9342449fcbb34f67c798ee",
              "IPY_MODEL_b4bab205460945eeab168f25a73080e2",
              "IPY_MODEL_cd625486c06748a792604119c522aadb"
            ],
            "layout": "IPY_MODEL_907768bee6634472b323336f67c4389e"
          }
        },
        "abdaed76ec9342449fcbb34f67c798ee": {
          "model_module": "@jupyter-widgets/controls",
          "model_name": "HTMLModel",
          "model_module_version": "1.5.0",
          "state": {
            "_dom_classes": [],
            "_model_module": "@jupyter-widgets/controls",
            "_model_module_version": "1.5.0",
            "_model_name": "HTMLModel",
            "_view_count": null,
            "_view_module": "@jupyter-widgets/controls",
            "_view_module_version": "1.5.0",
            "_view_name": "HTMLView",
            "description": "",
            "description_tooltip": null,
            "layout": "IPY_MODEL_0d8422c036de47f4b1267a760d0c7e12",
            "placeholder": "​",
            "style": "IPY_MODEL_11b2e2438faf4a308030527eb897c030",
            "value": "README.md: 100%"
          }
        },
        "b4bab205460945eeab168f25a73080e2": {
          "model_module": "@jupyter-widgets/controls",
          "model_name": "FloatProgressModel",
          "model_module_version": "1.5.0",
          "state": {
            "_dom_classes": [],
            "_model_module": "@jupyter-widgets/controls",
            "_model_module_version": "1.5.0",
            "_model_name": "FloatProgressModel",
            "_view_count": null,
            "_view_module": "@jupyter-widgets/controls",
            "_view_module_version": "1.5.0",
            "_view_name": "ProgressView",
            "bar_style": "success",
            "description": "",
            "description_tooltip": null,
            "layout": "IPY_MODEL_ad0ac4db66ce43dfb4ffd17b52373141",
            "max": 8199,
            "min": 0,
            "orientation": "horizontal",
            "style": "IPY_MODEL_ecd2fd9c988c463d898c3ee50a48475a",
            "value": 8199
          }
        },
        "cd625486c06748a792604119c522aadb": {
          "model_module": "@jupyter-widgets/controls",
          "model_name": "HTMLModel",
          "model_module_version": "1.5.0",
          "state": {
            "_dom_classes": [],
            "_model_module": "@jupyter-widgets/controls",
            "_model_module_version": "1.5.0",
            "_model_name": "HTMLModel",
            "_view_count": null,
            "_view_module": "@jupyter-widgets/controls",
            "_view_module_version": "1.5.0",
            "_view_name": "HTMLView",
            "description": "",
            "description_tooltip": null,
            "layout": "IPY_MODEL_89fce088b30c45d69770cca3f4ca1150",
            "placeholder": "​",
            "style": "IPY_MODEL_f2872f9634f646b39424e5c9b6c9496c",
            "value": " 8.20k/8.20k [00:00&lt;00:00, 790kB/s]"
          }
        },
        "907768bee6634472b323336f67c4389e": {
          "model_module": "@jupyter-widgets/base",
          "model_name": "LayoutModel",
          "model_module_version": "1.2.0",
          "state": {
            "_model_module": "@jupyter-widgets/base",
            "_model_module_version": "1.2.0",
            "_model_name": "LayoutModel",
            "_view_count": null,
            "_view_module": "@jupyter-widgets/base",
            "_view_module_version": "1.2.0",
            "_view_name": "LayoutView",
            "align_content": null,
            "align_items": null,
            "align_self": null,
            "border": null,
            "bottom": null,
            "display": null,
            "flex": null,
            "flex_flow": null,
            "grid_area": null,
            "grid_auto_columns": null,
            "grid_auto_flow": null,
            "grid_auto_rows": null,
            "grid_column": null,
            "grid_gap": null,
            "grid_row": null,
            "grid_template_areas": null,
            "grid_template_columns": null,
            "grid_template_rows": null,
            "height": null,
            "justify_content": null,
            "justify_items": null,
            "left": null,
            "margin": null,
            "max_height": null,
            "max_width": null,
            "min_height": null,
            "min_width": null,
            "object_fit": null,
            "object_position": null,
            "order": null,
            "overflow": null,
            "overflow_x": null,
            "overflow_y": null,
            "padding": null,
            "right": null,
            "top": null,
            "visibility": null,
            "width": null
          }
        },
        "0d8422c036de47f4b1267a760d0c7e12": {
          "model_module": "@jupyter-widgets/base",
          "model_name": "LayoutModel",
          "model_module_version": "1.2.0",
          "state": {
            "_model_module": "@jupyter-widgets/base",
            "_model_module_version": "1.2.0",
            "_model_name": "LayoutModel",
            "_view_count": null,
            "_view_module": "@jupyter-widgets/base",
            "_view_module_version": "1.2.0",
            "_view_name": "LayoutView",
            "align_content": null,
            "align_items": null,
            "align_self": null,
            "border": null,
            "bottom": null,
            "display": null,
            "flex": null,
            "flex_flow": null,
            "grid_area": null,
            "grid_auto_columns": null,
            "grid_auto_flow": null,
            "grid_auto_rows": null,
            "grid_column": null,
            "grid_gap": null,
            "grid_row": null,
            "grid_template_areas": null,
            "grid_template_columns": null,
            "grid_template_rows": null,
            "height": null,
            "justify_content": null,
            "justify_items": null,
            "left": null,
            "margin": null,
            "max_height": null,
            "max_width": null,
            "min_height": null,
            "min_width": null,
            "object_fit": null,
            "object_position": null,
            "order": null,
            "overflow": null,
            "overflow_x": null,
            "overflow_y": null,
            "padding": null,
            "right": null,
            "top": null,
            "visibility": null,
            "width": null
          }
        },
        "11b2e2438faf4a308030527eb897c030": {
          "model_module": "@jupyter-widgets/controls",
          "model_name": "DescriptionStyleModel",
          "model_module_version": "1.5.0",
          "state": {
            "_model_module": "@jupyter-widgets/controls",
            "_model_module_version": "1.5.0",
            "_model_name": "DescriptionStyleModel",
            "_view_count": null,
            "_view_module": "@jupyter-widgets/base",
            "_view_module_version": "1.2.0",
            "_view_name": "StyleView",
            "description_width": ""
          }
        },
        "ad0ac4db66ce43dfb4ffd17b52373141": {
          "model_module": "@jupyter-widgets/base",
          "model_name": "LayoutModel",
          "model_module_version": "1.2.0",
          "state": {
            "_model_module": "@jupyter-widgets/base",
            "_model_module_version": "1.2.0",
            "_model_name": "LayoutModel",
            "_view_count": null,
            "_view_module": "@jupyter-widgets/base",
            "_view_module_version": "1.2.0",
            "_view_name": "LayoutView",
            "align_content": null,
            "align_items": null,
            "align_self": null,
            "border": null,
            "bottom": null,
            "display": null,
            "flex": null,
            "flex_flow": null,
            "grid_area": null,
            "grid_auto_columns": null,
            "grid_auto_flow": null,
            "grid_auto_rows": null,
            "grid_column": null,
            "grid_gap": null,
            "grid_row": null,
            "grid_template_areas": null,
            "grid_template_columns": null,
            "grid_template_rows": null,
            "height": null,
            "justify_content": null,
            "justify_items": null,
            "left": null,
            "margin": null,
            "max_height": null,
            "max_width": null,
            "min_height": null,
            "min_width": null,
            "object_fit": null,
            "object_position": null,
            "order": null,
            "overflow": null,
            "overflow_x": null,
            "overflow_y": null,
            "padding": null,
            "right": null,
            "top": null,
            "visibility": null,
            "width": null
          }
        },
        "ecd2fd9c988c463d898c3ee50a48475a": {
          "model_module": "@jupyter-widgets/controls",
          "model_name": "ProgressStyleModel",
          "model_module_version": "1.5.0",
          "state": {
            "_model_module": "@jupyter-widgets/controls",
            "_model_module_version": "1.5.0",
            "_model_name": "ProgressStyleModel",
            "_view_count": null,
            "_view_module": "@jupyter-widgets/base",
            "_view_module_version": "1.2.0",
            "_view_name": "StyleView",
            "bar_color": null,
            "description_width": ""
          }
        },
        "89fce088b30c45d69770cca3f4ca1150": {
          "model_module": "@jupyter-widgets/base",
          "model_name": "LayoutModel",
          "model_module_version": "1.2.0",
          "state": {
            "_model_module": "@jupyter-widgets/base",
            "_model_module_version": "1.2.0",
            "_model_name": "LayoutModel",
            "_view_count": null,
            "_view_module": "@jupyter-widgets/base",
            "_view_module_version": "1.2.0",
            "_view_name": "LayoutView",
            "align_content": null,
            "align_items": null,
            "align_self": null,
            "border": null,
            "bottom": null,
            "display": null,
            "flex": null,
            "flex_flow": null,
            "grid_area": null,
            "grid_auto_columns": null,
            "grid_auto_flow": null,
            "grid_auto_rows": null,
            "grid_column": null,
            "grid_gap": null,
            "grid_row": null,
            "grid_template_areas": null,
            "grid_template_columns": null,
            "grid_template_rows": null,
            "height": null,
            "justify_content": null,
            "justify_items": null,
            "left": null,
            "margin": null,
            "max_height": null,
            "max_width": null,
            "min_height": null,
            "min_width": null,
            "object_fit": null,
            "object_position": null,
            "order": null,
            "overflow": null,
            "overflow_x": null,
            "overflow_y": null,
            "padding": null,
            "right": null,
            "top": null,
            "visibility": null,
            "width": null
          }
        },
        "f2872f9634f646b39424e5c9b6c9496c": {
          "model_module": "@jupyter-widgets/controls",
          "model_name": "DescriptionStyleModel",
          "model_module_version": "1.5.0",
          "state": {
            "_model_module": "@jupyter-widgets/controls",
            "_model_module_version": "1.5.0",
            "_model_name": "DescriptionStyleModel",
            "_view_count": null,
            "_view_module": "@jupyter-widgets/base",
            "_view_module_version": "1.2.0",
            "_view_name": "StyleView",
            "description_width": ""
          }
        },
        "c6a5587f5d4b41eb960933f57aa67629": {
          "model_module": "@jupyter-widgets/controls",
          "model_name": "HBoxModel",
          "model_module_version": "1.5.0",
          "state": {
            "_dom_classes": [],
            "_model_module": "@jupyter-widgets/controls",
            "_model_module_version": "1.5.0",
            "_model_name": "HBoxModel",
            "_view_count": null,
            "_view_module": "@jupyter-widgets/controls",
            "_view_module_version": "1.5.0",
            "_view_name": "HBoxView",
            "box_style": "",
            "children": [
              "IPY_MODEL_a5383aa5def14c3584f0da924a7acc1e",
              "IPY_MODEL_5740ca8479804f3185dc6c6ff33d72a5",
              "IPY_MODEL_22d69505e9ab41e3a1893aaf45fa28b3"
            ],
            "layout": "IPY_MODEL_1fe7ee8222ae48409c571f19f6d16d0b"
          }
        },
        "a5383aa5def14c3584f0da924a7acc1e": {
          "model_module": "@jupyter-widgets/controls",
          "model_name": "HTMLModel",
          "model_module_version": "1.5.0",
          "state": {
            "_dom_classes": [],
            "_model_module": "@jupyter-widgets/controls",
            "_model_module_version": "1.5.0",
            "_model_name": "HTMLModel",
            "_view_count": null,
            "_view_module": "@jupyter-widgets/controls",
            "_view_module_version": "1.5.0",
            "_view_name": "HTMLView",
            "description": "",
            "description_tooltip": null,
            "layout": "IPY_MODEL_dbe36ec5b7d24946abfb6eed548c2bf5",
            "placeholder": "​",
            "style": "IPY_MODEL_258e74a477414f179bbed0bbf6c9901b",
            "value": "databricks-dolly-15k.jsonl: 100%"
          }
        },
        "5740ca8479804f3185dc6c6ff33d72a5": {
          "model_module": "@jupyter-widgets/controls",
          "model_name": "FloatProgressModel",
          "model_module_version": "1.5.0",
          "state": {
            "_dom_classes": [],
            "_model_module": "@jupyter-widgets/controls",
            "_model_module_version": "1.5.0",
            "_model_name": "FloatProgressModel",
            "_view_count": null,
            "_view_module": "@jupyter-widgets/controls",
            "_view_module_version": "1.5.0",
            "_view_name": "ProgressView",
            "bar_style": "success",
            "description": "",
            "description_tooltip": null,
            "layout": "IPY_MODEL_3708b9063c8d44859dec1c16cdc198f0",
            "max": 13085339,
            "min": 0,
            "orientation": "horizontal",
            "style": "IPY_MODEL_762848294ede404784284a7ae0c90d61",
            "value": 13085339
          }
        },
        "22d69505e9ab41e3a1893aaf45fa28b3": {
          "model_module": "@jupyter-widgets/controls",
          "model_name": "HTMLModel",
          "model_module_version": "1.5.0",
          "state": {
            "_dom_classes": [],
            "_model_module": "@jupyter-widgets/controls",
            "_model_module_version": "1.5.0",
            "_model_name": "HTMLModel",
            "_view_count": null,
            "_view_module": "@jupyter-widgets/controls",
            "_view_module_version": "1.5.0",
            "_view_name": "HTMLView",
            "description": "",
            "description_tooltip": null,
            "layout": "IPY_MODEL_795cdccdb8d0448e97b971ce25454435",
            "placeholder": "​",
            "style": "IPY_MODEL_a353f1ba56e446caba0ab426095263db",
            "value": " 13.1M/13.1M [00:00&lt;00:00, 60.9MB/s]"
          }
        },
        "1fe7ee8222ae48409c571f19f6d16d0b": {
          "model_module": "@jupyter-widgets/base",
          "model_name": "LayoutModel",
          "model_module_version": "1.2.0",
          "state": {
            "_model_module": "@jupyter-widgets/base",
            "_model_module_version": "1.2.0",
            "_model_name": "LayoutModel",
            "_view_count": null,
            "_view_module": "@jupyter-widgets/base",
            "_view_module_version": "1.2.0",
            "_view_name": "LayoutView",
            "align_content": null,
            "align_items": null,
            "align_self": null,
            "border": null,
            "bottom": null,
            "display": null,
            "flex": null,
            "flex_flow": null,
            "grid_area": null,
            "grid_auto_columns": null,
            "grid_auto_flow": null,
            "grid_auto_rows": null,
            "grid_column": null,
            "grid_gap": null,
            "grid_row": null,
            "grid_template_areas": null,
            "grid_template_columns": null,
            "grid_template_rows": null,
            "height": null,
            "justify_content": null,
            "justify_items": null,
            "left": null,
            "margin": null,
            "max_height": null,
            "max_width": null,
            "min_height": null,
            "min_width": null,
            "object_fit": null,
            "object_position": null,
            "order": null,
            "overflow": null,
            "overflow_x": null,
            "overflow_y": null,
            "padding": null,
            "right": null,
            "top": null,
            "visibility": null,
            "width": null
          }
        },
        "dbe36ec5b7d24946abfb6eed548c2bf5": {
          "model_module": "@jupyter-widgets/base",
          "model_name": "LayoutModel",
          "model_module_version": "1.2.0",
          "state": {
            "_model_module": "@jupyter-widgets/base",
            "_model_module_version": "1.2.0",
            "_model_name": "LayoutModel",
            "_view_count": null,
            "_view_module": "@jupyter-widgets/base",
            "_view_module_version": "1.2.0",
            "_view_name": "LayoutView",
            "align_content": null,
            "align_items": null,
            "align_self": null,
            "border": null,
            "bottom": null,
            "display": null,
            "flex": null,
            "flex_flow": null,
            "grid_area": null,
            "grid_auto_columns": null,
            "grid_auto_flow": null,
            "grid_auto_rows": null,
            "grid_column": null,
            "grid_gap": null,
            "grid_row": null,
            "grid_template_areas": null,
            "grid_template_columns": null,
            "grid_template_rows": null,
            "height": null,
            "justify_content": null,
            "justify_items": null,
            "left": null,
            "margin": null,
            "max_height": null,
            "max_width": null,
            "min_height": null,
            "min_width": null,
            "object_fit": null,
            "object_position": null,
            "order": null,
            "overflow": null,
            "overflow_x": null,
            "overflow_y": null,
            "padding": null,
            "right": null,
            "top": null,
            "visibility": null,
            "width": null
          }
        },
        "258e74a477414f179bbed0bbf6c9901b": {
          "model_module": "@jupyter-widgets/controls",
          "model_name": "DescriptionStyleModel",
          "model_module_version": "1.5.0",
          "state": {
            "_model_module": "@jupyter-widgets/controls",
            "_model_module_version": "1.5.0",
            "_model_name": "DescriptionStyleModel",
            "_view_count": null,
            "_view_module": "@jupyter-widgets/base",
            "_view_module_version": "1.2.0",
            "_view_name": "StyleView",
            "description_width": ""
          }
        },
        "3708b9063c8d44859dec1c16cdc198f0": {
          "model_module": "@jupyter-widgets/base",
          "model_name": "LayoutModel",
          "model_module_version": "1.2.0",
          "state": {
            "_model_module": "@jupyter-widgets/base",
            "_model_module_version": "1.2.0",
            "_model_name": "LayoutModel",
            "_view_count": null,
            "_view_module": "@jupyter-widgets/base",
            "_view_module_version": "1.2.0",
            "_view_name": "LayoutView",
            "align_content": null,
            "align_items": null,
            "align_self": null,
            "border": null,
            "bottom": null,
            "display": null,
            "flex": null,
            "flex_flow": null,
            "grid_area": null,
            "grid_auto_columns": null,
            "grid_auto_flow": null,
            "grid_auto_rows": null,
            "grid_column": null,
            "grid_gap": null,
            "grid_row": null,
            "grid_template_areas": null,
            "grid_template_columns": null,
            "grid_template_rows": null,
            "height": null,
            "justify_content": null,
            "justify_items": null,
            "left": null,
            "margin": null,
            "max_height": null,
            "max_width": null,
            "min_height": null,
            "min_width": null,
            "object_fit": null,
            "object_position": null,
            "order": null,
            "overflow": null,
            "overflow_x": null,
            "overflow_y": null,
            "padding": null,
            "right": null,
            "top": null,
            "visibility": null,
            "width": null
          }
        },
        "762848294ede404784284a7ae0c90d61": {
          "model_module": "@jupyter-widgets/controls",
          "model_name": "ProgressStyleModel",
          "model_module_version": "1.5.0",
          "state": {
            "_model_module": "@jupyter-widgets/controls",
            "_model_module_version": "1.5.0",
            "_model_name": "ProgressStyleModel",
            "_view_count": null,
            "_view_module": "@jupyter-widgets/base",
            "_view_module_version": "1.2.0",
            "_view_name": "StyleView",
            "bar_color": null,
            "description_width": ""
          }
        },
        "795cdccdb8d0448e97b971ce25454435": {
          "model_module": "@jupyter-widgets/base",
          "model_name": "LayoutModel",
          "model_module_version": "1.2.0",
          "state": {
            "_model_module": "@jupyter-widgets/base",
            "_model_module_version": "1.2.0",
            "_model_name": "LayoutModel",
            "_view_count": null,
            "_view_module": "@jupyter-widgets/base",
            "_view_module_version": "1.2.0",
            "_view_name": "LayoutView",
            "align_content": null,
            "align_items": null,
            "align_self": null,
            "border": null,
            "bottom": null,
            "display": null,
            "flex": null,
            "flex_flow": null,
            "grid_area": null,
            "grid_auto_columns": null,
            "grid_auto_flow": null,
            "grid_auto_rows": null,
            "grid_column": null,
            "grid_gap": null,
            "grid_row": null,
            "grid_template_areas": null,
            "grid_template_columns": null,
            "grid_template_rows": null,
            "height": null,
            "justify_content": null,
            "justify_items": null,
            "left": null,
            "margin": null,
            "max_height": null,
            "max_width": null,
            "min_height": null,
            "min_width": null,
            "object_fit": null,
            "object_position": null,
            "order": null,
            "overflow": null,
            "overflow_x": null,
            "overflow_y": null,
            "padding": null,
            "right": null,
            "top": null,
            "visibility": null,
            "width": null
          }
        },
        "a353f1ba56e446caba0ab426095263db": {
          "model_module": "@jupyter-widgets/controls",
          "model_name": "DescriptionStyleModel",
          "model_module_version": "1.5.0",
          "state": {
            "_model_module": "@jupyter-widgets/controls",
            "_model_module_version": "1.5.0",
            "_model_name": "DescriptionStyleModel",
            "_view_count": null,
            "_view_module": "@jupyter-widgets/base",
            "_view_module_version": "1.2.0",
            "_view_name": "StyleView",
            "description_width": ""
          }
        },
        "7f467e0b3e104d8d9807274702fb6e39": {
          "model_module": "@jupyter-widgets/controls",
          "model_name": "HBoxModel",
          "model_module_version": "1.5.0",
          "state": {
            "_dom_classes": [],
            "_model_module": "@jupyter-widgets/controls",
            "_model_module_version": "1.5.0",
            "_model_name": "HBoxModel",
            "_view_count": null,
            "_view_module": "@jupyter-widgets/controls",
            "_view_module_version": "1.5.0",
            "_view_name": "HBoxView",
            "box_style": "",
            "children": [
              "IPY_MODEL_4c03d7e743b2431da67740155eab9ab9",
              "IPY_MODEL_99fcdc1d65254a2b86e7b02efb66e6fa",
              "IPY_MODEL_ea9fd455638241cba7e1aeaa8877a860"
            ],
            "layout": "IPY_MODEL_599cb10a539643b99228f7a0e7d1c2f9"
          }
        },
        "4c03d7e743b2431da67740155eab9ab9": {
          "model_module": "@jupyter-widgets/controls",
          "model_name": "HTMLModel",
          "model_module_version": "1.5.0",
          "state": {
            "_dom_classes": [],
            "_model_module": "@jupyter-widgets/controls",
            "_model_module_version": "1.5.0",
            "_model_name": "HTMLModel",
            "_view_count": null,
            "_view_module": "@jupyter-widgets/controls",
            "_view_module_version": "1.5.0",
            "_view_name": "HTMLView",
            "description": "",
            "description_tooltip": null,
            "layout": "IPY_MODEL_30e16e1c318b4204b646175436be6c17",
            "placeholder": "​",
            "style": "IPY_MODEL_3775eb165fc246daabace06bae6206ac",
            "value": "Generating train split: 100%"
          }
        },
        "99fcdc1d65254a2b86e7b02efb66e6fa": {
          "model_module": "@jupyter-widgets/controls",
          "model_name": "FloatProgressModel",
          "model_module_version": "1.5.0",
          "state": {
            "_dom_classes": [],
            "_model_module": "@jupyter-widgets/controls",
            "_model_module_version": "1.5.0",
            "_model_name": "FloatProgressModel",
            "_view_count": null,
            "_view_module": "@jupyter-widgets/controls",
            "_view_module_version": "1.5.0",
            "_view_name": "ProgressView",
            "bar_style": "success",
            "description": "",
            "description_tooltip": null,
            "layout": "IPY_MODEL_580a87d0a5084cf796608abd815d111f",
            "max": 15011,
            "min": 0,
            "orientation": "horizontal",
            "style": "IPY_MODEL_4e3e61cb3ccc48f7ae725039807fcd3b",
            "value": 15011
          }
        },
        "ea9fd455638241cba7e1aeaa8877a860": {
          "model_module": "@jupyter-widgets/controls",
          "model_name": "HTMLModel",
          "model_module_version": "1.5.0",
          "state": {
            "_dom_classes": [],
            "_model_module": "@jupyter-widgets/controls",
            "_model_module_version": "1.5.0",
            "_model_name": "HTMLModel",
            "_view_count": null,
            "_view_module": "@jupyter-widgets/controls",
            "_view_module_version": "1.5.0",
            "_view_name": "HTMLView",
            "description": "",
            "description_tooltip": null,
            "layout": "IPY_MODEL_625ec6a7107045b39a4de7381fcf48b2",
            "placeholder": "​",
            "style": "IPY_MODEL_fe2e1e1fd0934008bcf5800c98693416",
            "value": " 15011/15011 [00:00&lt;00:00, 80471.55 examples/s]"
          }
        },
        "599cb10a539643b99228f7a0e7d1c2f9": {
          "model_module": "@jupyter-widgets/base",
          "model_name": "LayoutModel",
          "model_module_version": "1.2.0",
          "state": {
            "_model_module": "@jupyter-widgets/base",
            "_model_module_version": "1.2.0",
            "_model_name": "LayoutModel",
            "_view_count": null,
            "_view_module": "@jupyter-widgets/base",
            "_view_module_version": "1.2.0",
            "_view_name": "LayoutView",
            "align_content": null,
            "align_items": null,
            "align_self": null,
            "border": null,
            "bottom": null,
            "display": null,
            "flex": null,
            "flex_flow": null,
            "grid_area": null,
            "grid_auto_columns": null,
            "grid_auto_flow": null,
            "grid_auto_rows": null,
            "grid_column": null,
            "grid_gap": null,
            "grid_row": null,
            "grid_template_areas": null,
            "grid_template_columns": null,
            "grid_template_rows": null,
            "height": null,
            "justify_content": null,
            "justify_items": null,
            "left": null,
            "margin": null,
            "max_height": null,
            "max_width": null,
            "min_height": null,
            "min_width": null,
            "object_fit": null,
            "object_position": null,
            "order": null,
            "overflow": null,
            "overflow_x": null,
            "overflow_y": null,
            "padding": null,
            "right": null,
            "top": null,
            "visibility": null,
            "width": null
          }
        },
        "30e16e1c318b4204b646175436be6c17": {
          "model_module": "@jupyter-widgets/base",
          "model_name": "LayoutModel",
          "model_module_version": "1.2.0",
          "state": {
            "_model_module": "@jupyter-widgets/base",
            "_model_module_version": "1.2.0",
            "_model_name": "LayoutModel",
            "_view_count": null,
            "_view_module": "@jupyter-widgets/base",
            "_view_module_version": "1.2.0",
            "_view_name": "LayoutView",
            "align_content": null,
            "align_items": null,
            "align_self": null,
            "border": null,
            "bottom": null,
            "display": null,
            "flex": null,
            "flex_flow": null,
            "grid_area": null,
            "grid_auto_columns": null,
            "grid_auto_flow": null,
            "grid_auto_rows": null,
            "grid_column": null,
            "grid_gap": null,
            "grid_row": null,
            "grid_template_areas": null,
            "grid_template_columns": null,
            "grid_template_rows": null,
            "height": null,
            "justify_content": null,
            "justify_items": null,
            "left": null,
            "margin": null,
            "max_height": null,
            "max_width": null,
            "min_height": null,
            "min_width": null,
            "object_fit": null,
            "object_position": null,
            "order": null,
            "overflow": null,
            "overflow_x": null,
            "overflow_y": null,
            "padding": null,
            "right": null,
            "top": null,
            "visibility": null,
            "width": null
          }
        },
        "3775eb165fc246daabace06bae6206ac": {
          "model_module": "@jupyter-widgets/controls",
          "model_name": "DescriptionStyleModel",
          "model_module_version": "1.5.0",
          "state": {
            "_model_module": "@jupyter-widgets/controls",
            "_model_module_version": "1.5.0",
            "_model_name": "DescriptionStyleModel",
            "_view_count": null,
            "_view_module": "@jupyter-widgets/base",
            "_view_module_version": "1.2.0",
            "_view_name": "StyleView",
            "description_width": ""
          }
        },
        "580a87d0a5084cf796608abd815d111f": {
          "model_module": "@jupyter-widgets/base",
          "model_name": "LayoutModel",
          "model_module_version": "1.2.0",
          "state": {
            "_model_module": "@jupyter-widgets/base",
            "_model_module_version": "1.2.0",
            "_model_name": "LayoutModel",
            "_view_count": null,
            "_view_module": "@jupyter-widgets/base",
            "_view_module_version": "1.2.0",
            "_view_name": "LayoutView",
            "align_content": null,
            "align_items": null,
            "align_self": null,
            "border": null,
            "bottom": null,
            "display": null,
            "flex": null,
            "flex_flow": null,
            "grid_area": null,
            "grid_auto_columns": null,
            "grid_auto_flow": null,
            "grid_auto_rows": null,
            "grid_column": null,
            "grid_gap": null,
            "grid_row": null,
            "grid_template_areas": null,
            "grid_template_columns": null,
            "grid_template_rows": null,
            "height": null,
            "justify_content": null,
            "justify_items": null,
            "left": null,
            "margin": null,
            "max_height": null,
            "max_width": null,
            "min_height": null,
            "min_width": null,
            "object_fit": null,
            "object_position": null,
            "order": null,
            "overflow": null,
            "overflow_x": null,
            "overflow_y": null,
            "padding": null,
            "right": null,
            "top": null,
            "visibility": null,
            "width": null
          }
        },
        "4e3e61cb3ccc48f7ae725039807fcd3b": {
          "model_module": "@jupyter-widgets/controls",
          "model_name": "ProgressStyleModel",
          "model_module_version": "1.5.0",
          "state": {
            "_model_module": "@jupyter-widgets/controls",
            "_model_module_version": "1.5.0",
            "_model_name": "ProgressStyleModel",
            "_view_count": null,
            "_view_module": "@jupyter-widgets/base",
            "_view_module_version": "1.2.0",
            "_view_name": "StyleView",
            "bar_color": null,
            "description_width": ""
          }
        },
        "625ec6a7107045b39a4de7381fcf48b2": {
          "model_module": "@jupyter-widgets/base",
          "model_name": "LayoutModel",
          "model_module_version": "1.2.0",
          "state": {
            "_model_module": "@jupyter-widgets/base",
            "_model_module_version": "1.2.0",
            "_model_name": "LayoutModel",
            "_view_count": null,
            "_view_module": "@jupyter-widgets/base",
            "_view_module_version": "1.2.0",
            "_view_name": "LayoutView",
            "align_content": null,
            "align_items": null,
            "align_self": null,
            "border": null,
            "bottom": null,
            "display": null,
            "flex": null,
            "flex_flow": null,
            "grid_area": null,
            "grid_auto_columns": null,
            "grid_auto_flow": null,
            "grid_auto_rows": null,
            "grid_column": null,
            "grid_gap": null,
            "grid_row": null,
            "grid_template_areas": null,
            "grid_template_columns": null,
            "grid_template_rows": null,
            "height": null,
            "justify_content": null,
            "justify_items": null,
            "left": null,
            "margin": null,
            "max_height": null,
            "max_width": null,
            "min_height": null,
            "min_width": null,
            "object_fit": null,
            "object_position": null,
            "order": null,
            "overflow": null,
            "overflow_x": null,
            "overflow_y": null,
            "padding": null,
            "right": null,
            "top": null,
            "visibility": null,
            "width": null
          }
        },
        "fe2e1e1fd0934008bcf5800c98693416": {
          "model_module": "@jupyter-widgets/controls",
          "model_name": "DescriptionStyleModel",
          "model_module_version": "1.5.0",
          "state": {
            "_model_module": "@jupyter-widgets/controls",
            "_model_module_version": "1.5.0",
            "_model_name": "DescriptionStyleModel",
            "_view_count": null,
            "_view_module": "@jupyter-widgets/base",
            "_view_module_version": "1.2.0",
            "_view_name": "StyleView",
            "description_width": ""
          }
        },
        "08af134c64034ee7ad572c7dacade84f": {
          "model_module": "@jupyter-widgets/controls",
          "model_name": "HBoxModel",
          "model_module_version": "1.5.0",
          "state": {
            "_dom_classes": [],
            "_model_module": "@jupyter-widgets/controls",
            "_model_module_version": "1.5.0",
            "_model_name": "HBoxModel",
            "_view_count": null,
            "_view_module": "@jupyter-widgets/controls",
            "_view_module_version": "1.5.0",
            "_view_name": "HBoxView",
            "box_style": "",
            "children": [
              "IPY_MODEL_9f1e1aad34174877824c982fef924250",
              "IPY_MODEL_8846d5fb62a3435c90907da75a19cc9c",
              "IPY_MODEL_ec5b0f3b9bb1400d96c109972c0d1838"
            ],
            "layout": "IPY_MODEL_5725918a171b4f44b77617d9c61b555e"
          }
        },
        "9f1e1aad34174877824c982fef924250": {
          "model_module": "@jupyter-widgets/controls",
          "model_name": "HTMLModel",
          "model_module_version": "1.5.0",
          "state": {
            "_dom_classes": [],
            "_model_module": "@jupyter-widgets/controls",
            "_model_module_version": "1.5.0",
            "_model_name": "HTMLModel",
            "_view_count": null,
            "_view_module": "@jupyter-widgets/controls",
            "_view_module_version": "1.5.0",
            "_view_name": "HTMLView",
            "description": "",
            "description_tooltip": null,
            "layout": "IPY_MODEL_051b9fe3145e4b309ea6db4847c45f17",
            "placeholder": "​",
            "style": "IPY_MODEL_7b74f6da47ce4acfbdb972194cb53a7e",
            "value": "Map: 100%"
          }
        },
        "8846d5fb62a3435c90907da75a19cc9c": {
          "model_module": "@jupyter-widgets/controls",
          "model_name": "FloatProgressModel",
          "model_module_version": "1.5.0",
          "state": {
            "_dom_classes": [],
            "_model_module": "@jupyter-widgets/controls",
            "_model_module_version": "1.5.0",
            "_model_name": "FloatProgressModel",
            "_view_count": null,
            "_view_module": "@jupyter-widgets/controls",
            "_view_module_version": "1.5.0",
            "_view_name": "ProgressView",
            "bar_style": "success",
            "description": "",
            "description_tooltip": null,
            "layout": "IPY_MODEL_30ce174b437d4bf99e82ed3f65e20744",
            "max": 2048,
            "min": 0,
            "orientation": "horizontal",
            "style": "IPY_MODEL_6c55bfb9e1304a7fac8f9b85d46bc3b8",
            "value": 2048
          }
        },
        "ec5b0f3b9bb1400d96c109972c0d1838": {
          "model_module": "@jupyter-widgets/controls",
          "model_name": "HTMLModel",
          "model_module_version": "1.5.0",
          "state": {
            "_dom_classes": [],
            "_model_module": "@jupyter-widgets/controls",
            "_model_module_version": "1.5.0",
            "_model_name": "HTMLModel",
            "_view_count": null,
            "_view_module": "@jupyter-widgets/controls",
            "_view_module_version": "1.5.0",
            "_view_name": "HTMLView",
            "description": "",
            "description_tooltip": null,
            "layout": "IPY_MODEL_edfc9646acba41259e33d4d27d0aaedd",
            "placeholder": "​",
            "style": "IPY_MODEL_76beeed786ec464faa24e63522f79e2c",
            "value": " 2048/2048 [00:00&lt;00:00, 19791.11 examples/s]"
          }
        },
        "5725918a171b4f44b77617d9c61b555e": {
          "model_module": "@jupyter-widgets/base",
          "model_name": "LayoutModel",
          "model_module_version": "1.2.0",
          "state": {
            "_model_module": "@jupyter-widgets/base",
            "_model_module_version": "1.2.0",
            "_model_name": "LayoutModel",
            "_view_count": null,
            "_view_module": "@jupyter-widgets/base",
            "_view_module_version": "1.2.0",
            "_view_name": "LayoutView",
            "align_content": null,
            "align_items": null,
            "align_self": null,
            "border": null,
            "bottom": null,
            "display": null,
            "flex": null,
            "flex_flow": null,
            "grid_area": null,
            "grid_auto_columns": null,
            "grid_auto_flow": null,
            "grid_auto_rows": null,
            "grid_column": null,
            "grid_gap": null,
            "grid_row": null,
            "grid_template_areas": null,
            "grid_template_columns": null,
            "grid_template_rows": null,
            "height": null,
            "justify_content": null,
            "justify_items": null,
            "left": null,
            "margin": null,
            "max_height": null,
            "max_width": null,
            "min_height": null,
            "min_width": null,
            "object_fit": null,
            "object_position": null,
            "order": null,
            "overflow": null,
            "overflow_x": null,
            "overflow_y": null,
            "padding": null,
            "right": null,
            "top": null,
            "visibility": null,
            "width": null
          }
        },
        "051b9fe3145e4b309ea6db4847c45f17": {
          "model_module": "@jupyter-widgets/base",
          "model_name": "LayoutModel",
          "model_module_version": "1.2.0",
          "state": {
            "_model_module": "@jupyter-widgets/base",
            "_model_module_version": "1.2.0",
            "_model_name": "LayoutModel",
            "_view_count": null,
            "_view_module": "@jupyter-widgets/base",
            "_view_module_version": "1.2.0",
            "_view_name": "LayoutView",
            "align_content": null,
            "align_items": null,
            "align_self": null,
            "border": null,
            "bottom": null,
            "display": null,
            "flex": null,
            "flex_flow": null,
            "grid_area": null,
            "grid_auto_columns": null,
            "grid_auto_flow": null,
            "grid_auto_rows": null,
            "grid_column": null,
            "grid_gap": null,
            "grid_row": null,
            "grid_template_areas": null,
            "grid_template_columns": null,
            "grid_template_rows": null,
            "height": null,
            "justify_content": null,
            "justify_items": null,
            "left": null,
            "margin": null,
            "max_height": null,
            "max_width": null,
            "min_height": null,
            "min_width": null,
            "object_fit": null,
            "object_position": null,
            "order": null,
            "overflow": null,
            "overflow_x": null,
            "overflow_y": null,
            "padding": null,
            "right": null,
            "top": null,
            "visibility": null,
            "width": null
          }
        },
        "7b74f6da47ce4acfbdb972194cb53a7e": {
          "model_module": "@jupyter-widgets/controls",
          "model_name": "DescriptionStyleModel",
          "model_module_version": "1.5.0",
          "state": {
            "_model_module": "@jupyter-widgets/controls",
            "_model_module_version": "1.5.0",
            "_model_name": "DescriptionStyleModel",
            "_view_count": null,
            "_view_module": "@jupyter-widgets/base",
            "_view_module_version": "1.2.0",
            "_view_name": "StyleView",
            "description_width": ""
          }
        },
        "30ce174b437d4bf99e82ed3f65e20744": {
          "model_module": "@jupyter-widgets/base",
          "model_name": "LayoutModel",
          "model_module_version": "1.2.0",
          "state": {
            "_model_module": "@jupyter-widgets/base",
            "_model_module_version": "1.2.0",
            "_model_name": "LayoutModel",
            "_view_count": null,
            "_view_module": "@jupyter-widgets/base",
            "_view_module_version": "1.2.0",
            "_view_name": "LayoutView",
            "align_content": null,
            "align_items": null,
            "align_self": null,
            "border": null,
            "bottom": null,
            "display": null,
            "flex": null,
            "flex_flow": null,
            "grid_area": null,
            "grid_auto_columns": null,
            "grid_auto_flow": null,
            "grid_auto_rows": null,
            "grid_column": null,
            "grid_gap": null,
            "grid_row": null,
            "grid_template_areas": null,
            "grid_template_columns": null,
            "grid_template_rows": null,
            "height": null,
            "justify_content": null,
            "justify_items": null,
            "left": null,
            "margin": null,
            "max_height": null,
            "max_width": null,
            "min_height": null,
            "min_width": null,
            "object_fit": null,
            "object_position": null,
            "order": null,
            "overflow": null,
            "overflow_x": null,
            "overflow_y": null,
            "padding": null,
            "right": null,
            "top": null,
            "visibility": null,
            "width": null
          }
        },
        "6c55bfb9e1304a7fac8f9b85d46bc3b8": {
          "model_module": "@jupyter-widgets/controls",
          "model_name": "ProgressStyleModel",
          "model_module_version": "1.5.0",
          "state": {
            "_model_module": "@jupyter-widgets/controls",
            "_model_module_version": "1.5.0",
            "_model_name": "ProgressStyleModel",
            "_view_count": null,
            "_view_module": "@jupyter-widgets/base",
            "_view_module_version": "1.2.0",
            "_view_name": "StyleView",
            "bar_color": null,
            "description_width": ""
          }
        },
        "edfc9646acba41259e33d4d27d0aaedd": {
          "model_module": "@jupyter-widgets/base",
          "model_name": "LayoutModel",
          "model_module_version": "1.2.0",
          "state": {
            "_model_module": "@jupyter-widgets/base",
            "_model_module_version": "1.2.0",
            "_model_name": "LayoutModel",
            "_view_count": null,
            "_view_module": "@jupyter-widgets/base",
            "_view_module_version": "1.2.0",
            "_view_name": "LayoutView",
            "align_content": null,
            "align_items": null,
            "align_self": null,
            "border": null,
            "bottom": null,
            "display": null,
            "flex": null,
            "flex_flow": null,
            "grid_area": null,
            "grid_auto_columns": null,
            "grid_auto_flow": null,
            "grid_auto_rows": null,
            "grid_column": null,
            "grid_gap": null,
            "grid_row": null,
            "grid_template_areas": null,
            "grid_template_columns": null,
            "grid_template_rows": null,
            "height": null,
            "justify_content": null,
            "justify_items": null,
            "left": null,
            "margin": null,
            "max_height": null,
            "max_width": null,
            "min_height": null,
            "min_width": null,
            "object_fit": null,
            "object_position": null,
            "order": null,
            "overflow": null,
            "overflow_x": null,
            "overflow_y": null,
            "padding": null,
            "right": null,
            "top": null,
            "visibility": null,
            "width": null
          }
        },
        "76beeed786ec464faa24e63522f79e2c": {
          "model_module": "@jupyter-widgets/controls",
          "model_name": "DescriptionStyleModel",
          "model_module_version": "1.5.0",
          "state": {
            "_model_module": "@jupyter-widgets/controls",
            "_model_module_version": "1.5.0",
            "_model_name": "DescriptionStyleModel",
            "_view_count": null,
            "_view_module": "@jupyter-widgets/base",
            "_view_module_version": "1.2.0",
            "_view_name": "StyleView",
            "description_width": ""
          }
        },
        "d82cfb13114c4ad8bf1b09d10337426e": {
          "model_module": "@jupyter-widgets/controls",
          "model_name": "HBoxModel",
          "model_module_version": "1.5.0",
          "state": {
            "_dom_classes": [],
            "_model_module": "@jupyter-widgets/controls",
            "_model_module_version": "1.5.0",
            "_model_name": "HBoxModel",
            "_view_count": null,
            "_view_module": "@jupyter-widgets/controls",
            "_view_module_version": "1.5.0",
            "_view_name": "HBoxView",
            "box_style": "",
            "children": [
              "IPY_MODEL_d1e070b1bedb4383b70fd965b8c1134c",
              "IPY_MODEL_31161dddc0d64264a77f7de62c647f86",
              "IPY_MODEL_e0b85574ce8247cdb23ae146199fad6a"
            ],
            "layout": "IPY_MODEL_a417cd1714dc48f1b3276a49a768a6b7"
          }
        },
        "d1e070b1bedb4383b70fd965b8c1134c": {
          "model_module": "@jupyter-widgets/controls",
          "model_name": "HTMLModel",
          "model_module_version": "1.5.0",
          "state": {
            "_dom_classes": [],
            "_model_module": "@jupyter-widgets/controls",
            "_model_module_version": "1.5.0",
            "_model_name": "HTMLModel",
            "_view_count": null,
            "_view_module": "@jupyter-widgets/controls",
            "_view_module_version": "1.5.0",
            "_view_name": "HTMLView",
            "description": "",
            "description_tooltip": null,
            "layout": "IPY_MODEL_aa6e85cfaf374478833e3459c5262b52",
            "placeholder": "​",
            "style": "IPY_MODEL_4a03df294eb24822a63649565fa384dd",
            "value": "Map: 100%"
          }
        },
        "31161dddc0d64264a77f7de62c647f86": {
          "model_module": "@jupyter-widgets/controls",
          "model_name": "FloatProgressModel",
          "model_module_version": "1.5.0",
          "state": {
            "_dom_classes": [],
            "_model_module": "@jupyter-widgets/controls",
            "_model_module_version": "1.5.0",
            "_model_name": "FloatProgressModel",
            "_view_count": null,
            "_view_module": "@jupyter-widgets/controls",
            "_view_module_version": "1.5.0",
            "_view_name": "ProgressView",
            "bar_style": "success",
            "description": "",
            "description_tooltip": null,
            "layout": "IPY_MODEL_f0d7aefd0cd349b49f0f27e3bfb35979",
            "max": 2048,
            "min": 0,
            "orientation": "horizontal",
            "style": "IPY_MODEL_774d3cd25fb946658ab3c4a5f7286ece",
            "value": 2048
          }
        },
        "e0b85574ce8247cdb23ae146199fad6a": {
          "model_module": "@jupyter-widgets/controls",
          "model_name": "HTMLModel",
          "model_module_version": "1.5.0",
          "state": {
            "_dom_classes": [],
            "_model_module": "@jupyter-widgets/controls",
            "_model_module_version": "1.5.0",
            "_model_name": "HTMLModel",
            "_view_count": null,
            "_view_module": "@jupyter-widgets/controls",
            "_view_module_version": "1.5.0",
            "_view_name": "HTMLView",
            "description": "",
            "description_tooltip": null,
            "layout": "IPY_MODEL_9fc594d1ee69444ba1d4094309e1c3e8",
            "placeholder": "​",
            "style": "IPY_MODEL_ec0139c3831f4bc7b1c775a176b1cd6b",
            "value": " 2048/2048 [00:00&lt;00:00, 19825.73 examples/s]"
          }
        },
        "a417cd1714dc48f1b3276a49a768a6b7": {
          "model_module": "@jupyter-widgets/base",
          "model_name": "LayoutModel",
          "model_module_version": "1.2.0",
          "state": {
            "_model_module": "@jupyter-widgets/base",
            "_model_module_version": "1.2.0",
            "_model_name": "LayoutModel",
            "_view_count": null,
            "_view_module": "@jupyter-widgets/base",
            "_view_module_version": "1.2.0",
            "_view_name": "LayoutView",
            "align_content": null,
            "align_items": null,
            "align_self": null,
            "border": null,
            "bottom": null,
            "display": null,
            "flex": null,
            "flex_flow": null,
            "grid_area": null,
            "grid_auto_columns": null,
            "grid_auto_flow": null,
            "grid_auto_rows": null,
            "grid_column": null,
            "grid_gap": null,
            "grid_row": null,
            "grid_template_areas": null,
            "grid_template_columns": null,
            "grid_template_rows": null,
            "height": null,
            "justify_content": null,
            "justify_items": null,
            "left": null,
            "margin": null,
            "max_height": null,
            "max_width": null,
            "min_height": null,
            "min_width": null,
            "object_fit": null,
            "object_position": null,
            "order": null,
            "overflow": null,
            "overflow_x": null,
            "overflow_y": null,
            "padding": null,
            "right": null,
            "top": null,
            "visibility": null,
            "width": null
          }
        },
        "aa6e85cfaf374478833e3459c5262b52": {
          "model_module": "@jupyter-widgets/base",
          "model_name": "LayoutModel",
          "model_module_version": "1.2.0",
          "state": {
            "_model_module": "@jupyter-widgets/base",
            "_model_module_version": "1.2.0",
            "_model_name": "LayoutModel",
            "_view_count": null,
            "_view_module": "@jupyter-widgets/base",
            "_view_module_version": "1.2.0",
            "_view_name": "LayoutView",
            "align_content": null,
            "align_items": null,
            "align_self": null,
            "border": null,
            "bottom": null,
            "display": null,
            "flex": null,
            "flex_flow": null,
            "grid_area": null,
            "grid_auto_columns": null,
            "grid_auto_flow": null,
            "grid_auto_rows": null,
            "grid_column": null,
            "grid_gap": null,
            "grid_row": null,
            "grid_template_areas": null,
            "grid_template_columns": null,
            "grid_template_rows": null,
            "height": null,
            "justify_content": null,
            "justify_items": null,
            "left": null,
            "margin": null,
            "max_height": null,
            "max_width": null,
            "min_height": null,
            "min_width": null,
            "object_fit": null,
            "object_position": null,
            "order": null,
            "overflow": null,
            "overflow_x": null,
            "overflow_y": null,
            "padding": null,
            "right": null,
            "top": null,
            "visibility": null,
            "width": null
          }
        },
        "4a03df294eb24822a63649565fa384dd": {
          "model_module": "@jupyter-widgets/controls",
          "model_name": "DescriptionStyleModel",
          "model_module_version": "1.5.0",
          "state": {
            "_model_module": "@jupyter-widgets/controls",
            "_model_module_version": "1.5.0",
            "_model_name": "DescriptionStyleModel",
            "_view_count": null,
            "_view_module": "@jupyter-widgets/base",
            "_view_module_version": "1.2.0",
            "_view_name": "StyleView",
            "description_width": ""
          }
        },
        "f0d7aefd0cd349b49f0f27e3bfb35979": {
          "model_module": "@jupyter-widgets/base",
          "model_name": "LayoutModel",
          "model_module_version": "1.2.0",
          "state": {
            "_model_module": "@jupyter-widgets/base",
            "_model_module_version": "1.2.0",
            "_model_name": "LayoutModel",
            "_view_count": null,
            "_view_module": "@jupyter-widgets/base",
            "_view_module_version": "1.2.0",
            "_view_name": "LayoutView",
            "align_content": null,
            "align_items": null,
            "align_self": null,
            "border": null,
            "bottom": null,
            "display": null,
            "flex": null,
            "flex_flow": null,
            "grid_area": null,
            "grid_auto_columns": null,
            "grid_auto_flow": null,
            "grid_auto_rows": null,
            "grid_column": null,
            "grid_gap": null,
            "grid_row": null,
            "grid_template_areas": null,
            "grid_template_columns": null,
            "grid_template_rows": null,
            "height": null,
            "justify_content": null,
            "justify_items": null,
            "left": null,
            "margin": null,
            "max_height": null,
            "max_width": null,
            "min_height": null,
            "min_width": null,
            "object_fit": null,
            "object_position": null,
            "order": null,
            "overflow": null,
            "overflow_x": null,
            "overflow_y": null,
            "padding": null,
            "right": null,
            "top": null,
            "visibility": null,
            "width": null
          }
        },
        "774d3cd25fb946658ab3c4a5f7286ece": {
          "model_module": "@jupyter-widgets/controls",
          "model_name": "ProgressStyleModel",
          "model_module_version": "1.5.0",
          "state": {
            "_model_module": "@jupyter-widgets/controls",
            "_model_module_version": "1.5.0",
            "_model_name": "ProgressStyleModel",
            "_view_count": null,
            "_view_module": "@jupyter-widgets/base",
            "_view_module_version": "1.2.0",
            "_view_name": "StyleView",
            "bar_color": null,
            "description_width": ""
          }
        },
        "9fc594d1ee69444ba1d4094309e1c3e8": {
          "model_module": "@jupyter-widgets/base",
          "model_name": "LayoutModel",
          "model_module_version": "1.2.0",
          "state": {
            "_model_module": "@jupyter-widgets/base",
            "_model_module_version": "1.2.0",
            "_model_name": "LayoutModel",
            "_view_count": null,
            "_view_module": "@jupyter-widgets/base",
            "_view_module_version": "1.2.0",
            "_view_name": "LayoutView",
            "align_content": null,
            "align_items": null,
            "align_self": null,
            "border": null,
            "bottom": null,
            "display": null,
            "flex": null,
            "flex_flow": null,
            "grid_area": null,
            "grid_auto_columns": null,
            "grid_auto_flow": null,
            "grid_auto_rows": null,
            "grid_column": null,
            "grid_gap": null,
            "grid_row": null,
            "grid_template_areas": null,
            "grid_template_columns": null,
            "grid_template_rows": null,
            "height": null,
            "justify_content": null,
            "justify_items": null,
            "left": null,
            "margin": null,
            "max_height": null,
            "max_width": null,
            "min_height": null,
            "min_width": null,
            "object_fit": null,
            "object_position": null,
            "order": null,
            "overflow": null,
            "overflow_x": null,
            "overflow_y": null,
            "padding": null,
            "right": null,
            "top": null,
            "visibility": null,
            "width": null
          }
        },
        "ec0139c3831f4bc7b1c775a176b1cd6b": {
          "model_module": "@jupyter-widgets/controls",
          "model_name": "DescriptionStyleModel",
          "model_module_version": "1.5.0",
          "state": {
            "_model_module": "@jupyter-widgets/controls",
            "_model_module_version": "1.5.0",
            "_model_name": "DescriptionStyleModel",
            "_view_count": null,
            "_view_module": "@jupyter-widgets/base",
            "_view_module_version": "1.2.0",
            "_view_name": "StyleView",
            "description_width": ""
          }
        }
      }
    },
    "kaggle": {
      "accelerator": "gpu",
      "dataSources": [
        {
          "sourceId": 10787717,
          "sourceType": "datasetVersion",
          "datasetId": 6694536
        }
      ],
      "dockerImageVersionId": 30840,
      "isInternetEnabled": true,
      "language": "python",
      "sourceType": "notebook",
      "isGpuEnabled": true
    }
  },
  "nbformat_minor": 0,
  "nbformat": 4,
  "cells": [
    {
      "cell_type": "markdown",
      "source": [
        "*****************\n",
        "*****************\n",
        "# Large Language Model (LLM) Fine-tuning 🚀🤖\n",
        "\n",
        "## Introduction\n",
        "\n",
        "In this lab, I will explore **fine-tuning large language models (LLMs)** to generate responses in a specific style. Instead of training a model from scratch, I will take an existing pre-trained model and adapt it to a particular dataset using **low-rank adaptation (LoRA)**, an efficient fine-tuning technique.  🎯\n",
        "\n",
        "This process will help me understand:\n",
        "\n",
        "✅ How tokenization works in LLMs. 🏷️\n",
        "\n",
        "✅ The importance of fine-tuning and how it modifies a model’s behavior. 🔄\n",
        "\n",
        "✅ How to use LoRA for efficient training instead of modifying all model weights. ⚡\n",
        "\n",
        "✅ How to evaluate the fine-tuned model’s performance using external tools. 📊\n",
        "\n",
        "\n",
        "By the end of this lab, I aim to build a more personalized and efficient LLM that aligns with a specific task or persona! 🚀🔥\n",
        "---\n",
        "---"
      ],
      "metadata": {
        "id": "K_lm0FmJwiD-"
      }
    },
    {
      "cell_type": "markdown",
      "source": [
        "## 🛠️ Setting Up the Environment 🚀  \n",
        "\n",
        "Before starting, I need to **install and import** the required libraries. These libraries will help in **data processing, model training, and evaluation**. 📊🔍  \n",
        "\n",
        "I will be using **Hugging Face**, a platform that provides access to various LLMs and datasets. 🏛️  \n",
        "\n",
        "### 🔹 Tools & Technologies:  \n",
        "✅ A **pre-trained LLM** (*Google's Gemma 2B*) as the base model. 🤖  \n",
        "✅ A **Hugging Face dataset** for training. 📚  \n",
        "✅ **LoRA (Low-Rank Adaptation)**, which updates only a small subset of model parameters, making fine-tuning more efficient. ⚡  \n",
        "✅ **Evaluation tools** to measure the performance of my fine-tuned model. 📈  \n",
        "\n",
        "---\n"
      ],
      "metadata": {
        "id": "6kv9fFjXdl6h"
      }
    },
    {
      "cell_type": "code",
      "source": [
        "import warnings\n",
        "\n",
        "# Ignore deprecation warnings\n",
        "warnings.filterwarnings(\"ignore\", category=DeprecationWarning)\n",
        "warnings.filterwarnings(\"ignore\", category=FutureWarning)\n"
      ],
      "metadata": {
        "trusted": true,
        "execution": {
          "iopub.status.busy": "2025-02-18T21:49:10.027774Z",
          "iopub.execute_input": "2025-02-18T21:49:10.028120Z",
          "iopub.status.idle": "2025-02-18T21:49:10.032464Z",
          "shell.execute_reply.started": "2025-02-18T21:49:10.028090Z",
          "shell.execute_reply": "2025-02-18T21:49:10.031459Z"
        },
        "id": "xEVPFPtTXU5H"
      },
      "outputs": [],
      "execution_count": 1
    },
    {
      "cell_type": "code",
      "source": [
        "# Install and import MIT Deep Learning utilities\n",
        "!pip install mitdeeplearning > /dev/null 2>&1 -q\n",
        "import mitdeeplearning as mdl"
      ],
      "metadata": {
        "id": "fmkjWI4fVeAh",
        "trusted": true,
        "execution": {
          "iopub.status.busy": "2025-02-18T21:20:28.348794Z",
          "iopub.execute_input": "2025-02-18T21:20:28.349118Z",
          "iopub.status.idle": "2025-02-18T21:20:35.370785Z",
          "shell.execute_reply.started": "2025-02-18T21:20:28.349092Z",
          "shell.execute_reply": "2025-02-18T21:20:35.369224Z"
        }
      },
      "outputs": [],
      "execution_count": 2
    },
    {
      "cell_type": "code",
      "source": [
        "import os\n",
        "import json\n",
        "import numpy as np\n",
        "from tqdm import tqdm\n",
        "import matplotlib.pyplot as plt\n",
        "import shutil\n",
        "import torch\n",
        "from torch.nn import functional as F\n",
        "from torch.utils.data import DataLoader\n",
        "\n",
        "from transformers import AutoTokenizer, AutoModelForCausalLM\n",
        "from datasets import load_dataset\n",
        "from peft import LoraConfig, get_peft_model\n",
        "from lion_pytorch import Lion"
      ],
      "metadata": {
        "id": "Oo64stjwBvnB",
        "trusted": true,
        "execution": {
          "iopub.status.busy": "2025-02-18T20:54:10.453241Z",
          "iopub.execute_input": "2025-02-18T20:54:10.453918Z",
          "iopub.status.idle": "2025-02-18T20:54:15.160838Z",
          "shell.execute_reply.started": "2025-02-18T20:54:10.453884Z",
          "shell.execute_reply": "2025-02-18T20:54:15.160177Z"
        }
      },
      "outputs": [],
      "execution_count": 3
    },
    {
      "cell_type": "markdown",
      "source": [
        "## 🎯 Understanding Fine-tuning an LLM for Style ✨  \n",
        "\n",
        "Fine-tuning is a technique where I take a **pre-trained model** and train it further on a **specific dataset** to make it perform better in a specialized task. 🏋️‍♂️📚  \n",
        "\n",
        "Instead of learning from scratch, the model **adapts its existing knowledge** to new data. 🔄  \n",
        "\n",
        "### 📝 What Will Happen?  \n",
        "✅ The LLM will be **fine-tuned** to generate text in a particular style. 🎭  \n",
        "✅ The model will **learn patterns** from the dataset and generate responses that match that style. 🗣️  \n",
        "✅ Since fine-tuning an LLM requires **a lot of computational power** ⚡💻, I will use **LoRA (Low-Rank Adaptation)** to make the process more efficient. 🚀  \n",
        "\n",
        "---\n"
      ],
      "metadata": {
        "id": "6Ao0ECa1wiEA"
      }
    },
    {
      "cell_type": "markdown",
      "source": [
        "## 📝 Question-Answer Template 🤖💬  \n",
        "\n",
        "We define a **structured format** for user queries and AI responses to ensure clear and effective communication. 🏗️📌  \n",
        "\n",
        "### 📌 Template Breakdown  \n",
        "🔹 **Template Without Answer**:  \n",
        "   - Uses placeholders for user questions, keeping the conversation structured. ❓  \n",
        "🔹 **Template With Answer**:  \n",
        "   - Extends the format by including AI-generated responses for **consistency and clarity**. 💡  \n",
        "🔹 **Testing the Template**:  \n",
        "   - By inserting an example, we **visualize structured interactions** to improve AI training. 🧠📊  \n",
        "\n",
        "✅ This **standardized approach** helps in organizing conversational data, making AI learning **more efficient**! 🚀🤓  \n"
      ],
      "metadata": {
        "id": "Ma-rp-LbwiEA"
      }
    },
    {
      "cell_type": "code",
      "source": [
        "# Basic question-answer template\n",
        "template_without_answer = \"<start_of_turn>user\\n{question}<end_of_turn>\\n<start_of_turn>model\\n\"\n",
        "template_with_answer = template_without_answer + \"{answer}<end_of_turn>\\n\"\n",
        "\n",
        "# Let's try to put something into the template to see how it looks\n",
        "print(template_with_answer.format(question=\"What is your name?\", answer=\"My name is Gemma!\"))"
      ],
      "metadata": {
        "id": "TN2zHVhfBvnE",
        "outputId": "bb3a89be-7114-478b-81d2-663f06abaad3",
        "trusted": true,
        "execution": {
          "iopub.status.busy": "2025-02-18T20:54:15.161998Z",
          "iopub.execute_input": "2025-02-18T20:54:15.162618Z",
          "iopub.status.idle": "2025-02-18T20:54:15.167094Z",
          "shell.execute_reply.started": "2025-02-18T20:54:15.162592Z",
          "shell.execute_reply": "2025-02-18T20:54:15.166244Z"
        },
        "colab": {
          "base_uri": "https://localhost:8080/"
        }
      },
      "outputs": [
        {
          "output_type": "stream",
          "name": "stdout",
          "text": [
            "<start_of_turn>user\n",
            "What is your name?<end_of_turn>\n",
            "<start_of_turn>model\n",
            "My name is Gemma!<end_of_turn>\n",
            "\n"
          ]
        }
      ],
      "execution_count": 4
    },
    {
      "cell_type": "markdown",
      "source": [
        "## 🔡 Loading the Tokenizer for Gemma 2B 🏗️📖  \n",
        "\n",
        "🔹 **Model Selection**:  \n",
        "   - We specify the model ID (`unsloth/gemma-2-2b-it`) to load the tokenizer. 🎯  \n",
        "\n",
        "🔹 **Initializing the Tokenizer**:  \n",
        "   - The `AutoTokenizer` automatically retrieves the correct tokenizer based on the model. 🔄🔍  \n",
        "\n",
        "🔹 **Vocabulary Size Check**:  \n",
        "   - We print the total number of **unique tokens** the model can recognize. 🧠📊  \n",
        "   - This helps in understanding the model's **linguistic range** and processing power. 📈💬  \n",
        "\n",
        "✅ **Why This Matters?**  \n",
        "Proper tokenization ensures **smooth text processing** before feeding data into the model, leading to **better fine-tuning results**! 🚀🤖  \n"
      ],
      "metadata": {
        "id": "WknJfayjhs0_"
      }
    },
    {
      "cell_type": "code",
      "source": [
        "# Load the tokenizer for Gemma 2B\n",
        "model_id = \"unsloth/gemma-2-2b-it\" #\"google/gemma-2-2b-it\"\n",
        "tokenizer = AutoTokenizer.from_pretrained(model_id)\n",
        "\n",
        "# How big is the tokenizer?\n",
        "print(f\"Vocab size: {len(tokenizer.get_vocab())}\")"
      ],
      "metadata": {
        "id": "EeDF1JI-BvnF",
        "outputId": "f62d2b44-76fc-42a5-966c-2e404df88108",
        "trusted": true,
        "execution": {
          "iopub.status.busy": "2025-02-18T20:54:26.959155Z",
          "iopub.execute_input": "2025-02-18T20:54:26.959456Z",
          "iopub.status.idle": "2025-02-18T20:54:30.536504Z",
          "shell.execute_reply.started": "2025-02-18T20:54:26.959433Z",
          "shell.execute_reply": "2025-02-18T20:54:30.535623Z"
        },
        "colab": {
          "base_uri": "https://localhost:8080/",
          "height": 294,
          "referenced_widgets": [
            "4407482b37884a5791c8553b3f3ae170",
            "76510700cb9e4a4ea0a8e81198cc2124",
            "1874eb0e5e494ee597dddc422c8d8dfb",
            "947bef10ac8242808bf3105c4507369c",
            "8f34411afc474fdca43331c84c05e245",
            "4524022a275a431b9a1a480c1a40c23e",
            "a9e7d40b1cd94ab093cced7e61b9a169",
            "c077c33774b2410fab3057ee3809e6f6",
            "1674a87d0a16437eb023b3f9f0b4d084",
            "66fd2e946e834564a6e466f34c0a5647",
            "72f7353014f246809cbba37561356c46",
            "82a777dffc6a42e3ab77358992186d3d",
            "4c7091b7f51f4ae3b0a669ff7e2503fb",
            "1d04de3bac7849668955cd715d9fa4d8",
            "6250fbc0c87447a98c0889820904e769",
            "4259e943ad134003887b3b156424c827",
            "eb49193c3e2341a8adcdadcacf9ca94c",
            "4900c6a00a5c4d42ad4ea56767ffe89b",
            "4a0036c9e0e84f0cb355811478296264",
            "6aa2d55c808b42a1bf3c6847a17debb0",
            "e33f6352547743b98124bd2cba651ec2",
            "34b1442f0da249dd94f355f4bcadc556",
            "d205784beccd4789ad37e68e08db2deb",
            "21666d8def724df6ad58ed4304b7fbdc",
            "79c6d1f940c843018437fc8e53e1d7ad",
            "b1f18b96e9df480087c0a04f485a1aa1",
            "7d3fb8f7b08248b590b2b2a2e1a04c20",
            "3c4dd99c877a4ebe81c3b7be4b9c681b",
            "8c1d578d1e9e46da88bb07ad6d449dc7",
            "3094083844874283ba1a7ef6b1ce223e",
            "9d27b92a0aaf426ca6c69f7e85fe6a25",
            "326daa3a2dd8437fa682783997fabfb4",
            "13e4cc7419164786a8eef3977482c828",
            "f8d932dd10044777be47908015b8f063",
            "4429a000f89043c382c117d6da1a3d9e",
            "4d8c0f72443c439ca075b6ef18df411b",
            "2df2d81386594f0dba434b866bdcc261",
            "d7300695fefc4db4a010c67215a5fd51",
            "e6a1b6ae336e4eb59bd70d0342246ee1",
            "565b4c0e6c2e447690521ab7f8d2cee0",
            "9234d8a023aa49ce84f83176574bbc2b",
            "f23157b6e2d74532801a2ccfa08de6b2",
            "dd776dcac9bb41278c67e35c0ef5f751",
            "5e89585091c14a92bceedc5edb735dcf"
          ]
        }
      },
      "outputs": [
        {
          "output_type": "stream",
          "name": "stderr",
          "text": [
            "/usr/local/lib/python3.11/dist-packages/huggingface_hub/utils/_auth.py:94: UserWarning: \n",
            "The secret `HF_TOKEN` does not exist in your Colab secrets.\n",
            "To authenticate with the Hugging Face Hub, create a token in your settings tab (https://huggingface.co/settings/tokens), set it as secret in your Google Colab and restart your session.\n",
            "You will be able to reuse this secret in all of your notebooks.\n",
            "Please note that authentication is recommended but still optional to access public models or datasets.\n",
            "  warnings.warn(\n"
          ]
        },
        {
          "output_type": "display_data",
          "data": {
            "text/plain": [
              "tokenizer_config.json:   0%|          | 0.00/47.0k [00:00<?, ?B/s]"
            ],
            "application/vnd.jupyter.widget-view+json": {
              "version_major": 2,
              "version_minor": 0,
              "model_id": "4407482b37884a5791c8553b3f3ae170"
            }
          },
          "metadata": {}
        },
        {
          "output_type": "display_data",
          "data": {
            "text/plain": [
              "tokenizer.model:   0%|          | 0.00/4.24M [00:00<?, ?B/s]"
            ],
            "application/vnd.jupyter.widget-view+json": {
              "version_major": 2,
              "version_minor": 0,
              "model_id": "82a777dffc6a42e3ab77358992186d3d"
            }
          },
          "metadata": {}
        },
        {
          "output_type": "display_data",
          "data": {
            "text/plain": [
              "tokenizer.json:   0%|          | 0.00/17.5M [00:00<?, ?B/s]"
            ],
            "application/vnd.jupyter.widget-view+json": {
              "version_major": 2,
              "version_minor": 0,
              "model_id": "d205784beccd4789ad37e68e08db2deb"
            }
          },
          "metadata": {}
        },
        {
          "output_type": "display_data",
          "data": {
            "text/plain": [
              "special_tokens_map.json:   0%|          | 0.00/636 [00:00<?, ?B/s]"
            ],
            "application/vnd.jupyter.widget-view+json": {
              "version_major": 2,
              "version_minor": 0,
              "model_id": "f8d932dd10044777be47908015b8f063"
            }
          },
          "metadata": {}
        },
        {
          "output_type": "stream",
          "name": "stdout",
          "text": [
            "Vocab size: 256000\n"
          ]
        }
      ],
      "execution_count": 5
    },
    {
      "cell_type": "markdown",
      "source": [
        "## 🛠️ Testing Tokenization and Decoding 🔡🔍  \n",
        "\n",
        "🔹 **Input Text**:  \n",
        "   - We define a **sample sentence** to test the tokenizer. ✍️💬  \n",
        "\n",
        "🔹 **Tokenization**:  \n",
        "   - The `encode` function **converts text** into numerical **token IDs**, which the model understands. 🔢➡️🤖  \n",
        "\n",
        "🔹 **Decoding**:  \n",
        "   - The `decode` function **transforms token IDs back** into **human-readable text**, ensuring accuracy. 🔄📖  \n",
        "\n",
        "✅ **Why This Matters?**  \n",
        "This step ensures that the tokenizer correctly processes text, maintaining **meaning and coherence**, which is essential for high-quality AI responses! 🚀🧠  \n"
      ],
      "metadata": {
        "id": "v9-M7L_OwiEC"
      }
    },
    {
      "cell_type": "code",
      "source": [
        "# Lets test out both steps:\n",
        "text = \"Here is some sample text!\"\n",
        "print(f\"Original text: {text}\")\n",
        "\n",
        "# Tokenize the text\n",
        "tokens = tokenizer.encode(text, return_tensors=\"pt\")\n",
        "print(f\"Encoded tokens: {tokens}\")\n",
        "\n",
        "# Decode the tokens\n",
        "decoded_text = tokenizer.decode(tokens[0], skip_special_tokens=True)\n",
        "print(f\"Decoded text: {decoded_text}\")"
      ],
      "metadata": {
        "id": "JH1XzPkiBvnF",
        "outputId": "cc5f0ea6-b263-414a-f251-c747130128a4",
        "trusted": true,
        "execution": {
          "iopub.status.busy": "2025-02-18T20:54:38.252668Z",
          "iopub.execute_input": "2025-02-18T20:54:38.253018Z",
          "iopub.status.idle": "2025-02-18T20:54:38.281251Z",
          "shell.execute_reply.started": "2025-02-18T20:54:38.252989Z",
          "shell.execute_reply": "2025-02-18T20:54:38.280313Z"
        },
        "colab": {
          "base_uri": "https://localhost:8080/"
        }
      },
      "outputs": [
        {
          "output_type": "stream",
          "name": "stdout",
          "text": [
            "Original text: Here is some sample text!\n",
            "Encoded tokens: tensor([[     2,   4858,    603,   1009,   6453,   2793, 235341]])\n",
            "Decoded text: Here is some sample text!\n"
          ]
        }
      ],
      "execution_count": 6
    },
    {
      "cell_type": "markdown",
      "source": [
        "### Formatting a Prompt  \n",
        "\n",
        "- **Using the Template**: We format the `template_without_answer` with a specific question: *\"What is the capital of France? Use one word.\"*  \n",
        "- **Purpose**: This helps structure user input in a way that aligns with the expected model response format.  \n",
        "- **Output**: The formatted prompt follows the predefined structure but does not yet include an answer.  \n",
        "\n",
        "This step ensures consistency when interacting with the model.  \n"
      ],
      "metadata": {
        "id": "55Q4YNknwiED"
      }
    },
    {
      "cell_type": "code",
      "source": [
        "prompt = template_without_answer.format(question=\"What is the capital of France? Use one word.\")\n",
        "print(prompt)"
      ],
      "metadata": {
        "id": "jyBxl6NIBvnF",
        "outputId": "10b7bad1-cbea-4656-9a87-d412c2711bd0",
        "trusted": true,
        "execution": {
          "iopub.status.busy": "2025-02-18T20:54:43.551885Z",
          "iopub.execute_input": "2025-02-18T20:54:43.552166Z",
          "iopub.status.idle": "2025-02-18T20:54:43.556519Z",
          "shell.execute_reply.started": "2025-02-18T20:54:43.552143Z",
          "shell.execute_reply": "2025-02-18T20:54:43.555376Z"
        },
        "colab": {
          "base_uri": "https://localhost:8080/"
        }
      },
      "outputs": [
        {
          "output_type": "stream",
          "name": "stdout",
          "text": [
            "<start_of_turn>user\n",
            "What is the capital of France? Use one word.<end_of_turn>\n",
            "<start_of_turn>model\n",
            "\n"
          ]
        }
      ],
      "execution_count": 7
    },
    {
      "cell_type": "markdown",
      "source": [
        "If we were to feed this to the model, it would see that it is now the start of the model's turn, and it would generate the answer to this question."
      ],
      "metadata": {
        "id": "bpRVKdq2wiED"
      }
    },
    {
      "cell_type": "markdown",
      "source": [
        "----\n",
        "### Loading the Model  \n",
        "\n",
        "- **Purpose**: This step loads the pre-trained language model.  \n",
        "- **Process**:  \n",
        "  - `AutoModelForCausalLM.from_pretrained(model_id)`: Loads the model weights and architecture based on the `model_id`.  \n",
        "  - `device_map=\"auto\"`: Automatically assigns the model to the best available hardware (e.g., GPU if available).  \n",
        "- **Time Consideration**: Loading a large model may take a few minutes, depending on hardware capabilities.  \n",
        "\n",
        "This step is essential before generating responses using the model.\n",
        "\n",
        "------\n"
      ],
      "metadata": {
        "id": "okofCJczwiED"
      }
    },
    {
      "cell_type": "code",
      "source": [
        "# Load the model -- note that this may take a few minutes\n",
        "model = AutoModelForCausalLM.from_pretrained(model_id, device_map=\"auto\")"
      ],
      "metadata": {
        "id": "mWtWvgiuBvnG",
        "outputId": "d9ba4b2c-7b8e-4c11-9639-f583b3d26522",
        "trusted": true,
        "execution": {
          "iopub.status.busy": "2025-02-18T20:54:48.548843Z",
          "iopub.execute_input": "2025-02-18T20:54:48.549148Z",
          "iopub.status.idle": "2025-02-18T20:57:01.931348Z",
          "shell.execute_reply.started": "2025-02-18T20:54:48.549120Z",
          "shell.execute_reply": "2025-02-18T20:57:01.930735Z"
        },
        "colab": {
          "base_uri": "https://localhost:8080/",
          "height": 113,
          "referenced_widgets": [
            "3b67073c9d724175ab92d4aed2b6ea6d",
            "b5ef2ed496ad4f3bb97348bbd03e93ae",
            "c23b05875e3b4cc482138777c6db86f3",
            "1362141228f14e159b6db4bfcd84d31d",
            "c18f9d2d0bd6467789a337f9b5434257",
            "58b5d7f0752c4f6fbfd4487071528f2a",
            "b550056557c240ebbd4a5cc411635010",
            "3cd4cf1690874f2bb056740270d82564",
            "32e48e7df90e4c2b88b1f9a7dfea87ac",
            "649f7464549b4cf99389005ba63e7edd",
            "3825993e094541c69f184a931cf524a4",
            "e2affe2af47e404c9f0e34340256b3c3",
            "0ed86217364f4610a2cdf2a2cba52b0b",
            "2d49b155007a46c7af37194bf054ee93",
            "5e08d880f35b4d1fb3379e31b791b52a",
            "895c6a588a7b444f98417a2624def275",
            "7c623a5fd1fc407fa49e13923933e52b",
            "50e9bf42c74448abb6079efa9b27cea2",
            "cac20ec0c6914b918a360a2d4b017e05",
            "791dc61842294741ae737ed1830b4cec",
            "7ace173f11cc4d3c9969cdbb81c189ae",
            "323bc05708e94f4c818eea3c8766d27f",
            "8cf7379d289e438c8cb2baa4e940df64",
            "684173d731014949828b368bca7cb40a",
            "79b5d843fba5460880dc6300f56660ce",
            "25c9a04aa0094cc08bafc691c6c07a44",
            "8091e66273ce42dca33ec42dfdff41da",
            "92d3f1668c344242a91cc42d494e2ead",
            "f7b600754a924cd99e00f323fc58d0c5",
            "2557b060e039419e856cab2e74114665",
            "4c83082323fc4b6f80aaefdcf7beb9b4",
            "711471faf2064ca795d84d258f79dcf7",
            "84de5a110449474ba7f9d3a82086d124"
          ]
        }
      },
      "outputs": [
        {
          "output_type": "display_data",
          "data": {
            "text/plain": [
              "config.json:   0%|          | 0.00/913 [00:00<?, ?B/s]"
            ],
            "application/vnd.jupyter.widget-view+json": {
              "version_major": 2,
              "version_minor": 0,
              "model_id": "3b67073c9d724175ab92d4aed2b6ea6d"
            }
          },
          "metadata": {}
        },
        {
          "output_type": "display_data",
          "data": {
            "text/plain": [
              "model.safetensors:   0%|          | 0.00/5.23G [00:00<?, ?B/s]"
            ],
            "application/vnd.jupyter.widget-view+json": {
              "version_major": 2,
              "version_minor": 0,
              "model_id": "e2affe2af47e404c9f0e34340256b3c3"
            }
          },
          "metadata": {}
        },
        {
          "output_type": "display_data",
          "data": {
            "text/plain": [
              "generation_config.json:   0%|          | 0.00/209 [00:00<?, ?B/s]"
            ],
            "application/vnd.jupyter.widget-view+json": {
              "version_major": 2,
              "version_minor": 0,
              "model_id": "8cf7379d289e438c8cb2baa4e940df64"
            }
          },
          "metadata": {}
        }
      ],
      "execution_count": 8
    },
    {
      "cell_type": "markdown",
      "source": [
        "## 🤖 Generating a Response from the Model 💡✨  \n",
        "\n",
        "This section brings together all previous steps to create a **structured process** for prompting the model and obtaining a response. 🚀  \n",
        "\n",
        "### 🔍 **Steps Explained**  \n",
        "\n",
        "1️⃣ **Constructing the Prompt 📝**  \n",
        "   - A question is defined: *\"What is the capital of France? Use one word.\"* 🌍🏛️  \n",
        "   - The `template_without_answer` formats the question to match the expected chat format.  \n",
        "\n",
        "2️⃣ **Tokenization 🔠➡️🔢**  \n",
        "   - The formatted prompt is **converted into numerical tokens** using the tokenizer.  \n",
        "   - These tokens are moved to the model’s device (CPU/GPU) for **processing**.  \n",
        "\n",
        "3️⃣ **Model Prediction 🔥🤖**  \n",
        "   - The tokenized input is **passed through the model** in inference mode (`torch.no_grad()` to save memory).  \n",
        "   - The model outputs **logits** (raw scores for each possible token).  \n",
        "   - These logits are **converted into probabilities** using the softmax function. 📊  \n",
        "\n",
        "4️⃣ **Selecting the Next Token 🔮**  \n",
        "   - The model **predicts the most probable next token** based on the highest probability.  \n",
        "\n",
        "5️⃣ **Decoding the Prediction 🧩➡️📖**  \n",
        "   - The predicted token is **converted back into human-readable text** for the final response.  \n",
        "\n",
        "✅ **Why This Matters?**  \n",
        "This step ensures that the model generates **accurate and structured responses**, mimicking human-like interactions! 🧠💬  \n"
      ],
      "metadata": {
        "id": "rhLEeQqbiTgu"
      }
    },
    {
      "cell_type": "code",
      "source": [
        "### Putting it together to prompt the model and generate a response ###\n",
        "\n",
        "# 1. Construct the prompt in chat template form\n",
        "question = \"What is the capital of France? Use one word.\"\n",
        "# prompt = template_without_answer.format('''TODO''') # TODO\n",
        "prompt = template_without_answer.format(question=question)\n",
        "\n",
        "\n",
        "# 2. Tokenize the prompt\n",
        "tokens = tokenizer.encode(prompt, return_tensors=\"pt\").to(model.device)\n",
        "\n",
        "# 3. Feed through the model to predict the next token probabilities\n",
        "with torch.no_grad():\n",
        "     # output = '''TODO''' # TODO\n",
        "    output = model(tokens)\n",
        "\n",
        "\n",
        "    probs = F.softmax(output.logits, dim=-1)\n",
        "\n",
        "# 4. Get the next token, according to the maximum probability\n",
        "next_token = torch.argmax(probs[0, -1, :]).item()\n",
        "\n",
        "# 5. Decode the next token\n",
        "# next_token_text = '''TODO''' # TODO\n",
        "next_token_text = tokenizer.decode(next_token)\n",
        "\n",
        "\n",
        "print(f\"Prompt: {prompt}\")\n",
        "print(f\"Predicted next token: {next_token_text}\")"
      ],
      "metadata": {
        "id": "2SMDd5dpBvnG",
        "outputId": "22e0c0af-f5c5-42b2-e832-aece3afb6851",
        "trusted": true,
        "execution": {
          "iopub.status.busy": "2025-02-18T20:57:13.698134Z",
          "iopub.execute_input": "2025-02-18T20:57:13.698467Z",
          "iopub.status.idle": "2025-02-18T20:57:14.338027Z",
          "shell.execute_reply.started": "2025-02-18T20:57:13.698439Z",
          "shell.execute_reply": "2025-02-18T20:57:14.337306Z"
        },
        "colab": {
          "base_uri": "https://localhost:8080/"
        }
      },
      "outputs": [
        {
          "output_type": "stream",
          "name": "stderr",
          "text": [
            "The 'batch_size' argument of HybridCache is deprecated and will be removed in v4.49. Use the more precisely named 'max_batch_size' argument instead.\n",
            "The 'batch_size' attribute of HybridCache is deprecated and will be removed in v4.49. Use the more precisely named 'self.max_batch_size' attribute instead.\n"
          ]
        },
        {
          "output_type": "stream",
          "name": "stdout",
          "text": [
            "Prompt: <start_of_turn>user\n",
            "What is the capital of France? Use one word.<end_of_turn>\n",
            "<start_of_turn>model\n",
            "\n",
            "Predicted next token: Paris\n"
          ]
        }
      ],
      "execution_count": 9
    },
    {
      "cell_type": "markdown",
      "source": [
        "The model doesn't actually predict the answer to a question; instead, it predicts the next token in a sequence. For more complex questions, a single token isn’t enough—we need to generate an entire sequence of tokens.\n",
        "\n",
        "To achieve this, we follow an iterative process: after generating each token, we feed it back into the model to predict the next one. Rather than doing this manually, we can use the model's built-in **model.generate()** function (available in Hugging Face's Transformers library). This allows us to generate a specified number of tokens 'max_new_tokens' and then decode the output back into text."
      ],
      "metadata": {
        "id": "r6Fx9z5fwiEE"
      }
    },
    {
      "cell_type": "markdown",
      "source": [
        "*****\n",
        "### 🤖 **Generating a Response Using `model.generate`** ✨  \n",
        "\n",
        "This step takes a **structured question**, tokenizes it, and feeds it into the model to **generate a complete response**. 🚀  \n",
        "\n",
        "#### 🔑 **Key Steps:**  \n",
        "1️⃣ **Create the Prompt 📝** – Formats *\"What does MIT stand for?\"* using the chat template. 💡🏫  \n",
        "2️⃣ **Tokenization 🔠➡️🔢** – Converts text into numerical tokens for the model.  \n",
        "3️⃣ **Generate Response 🔮** – Uses `model.generate` to **predict up to 20 new tokens**.  \n",
        "4️⃣ **Decode & Display 📖✨** – Converts tokens **back to text** and prints the response.  \n",
        "\n",
        "✅ **Why This Matters?**  \n",
        "Using `model.generate`, we allow the model to produce **coherent, multi-word responses**, making AI more interactive and useful! 🤖💬  \n",
        "*****  \n"
      ],
      "metadata": {
        "id": "Ayr2ezFsjRM7"
      }
    },
    {
      "cell_type": "code",
      "source": [
        "prompt = template_without_answer.format(question=\"What does MIT stand for?\")\n",
        "tokens = tokenizer.encode(prompt, return_tensors=\"pt\").to(model.device)\n",
        "output = model.generate(tokens, max_new_tokens=20)\n",
        "print(tokenizer.decode(output[0]))"
      ],
      "metadata": {
        "id": "XnWMUQVbBvnG",
        "outputId": "5a752996-fa5e-4c8d-d032-d112eb750d60",
        "trusted": true,
        "execution": {
          "iopub.status.busy": "2025-02-18T20:57:21.091113Z",
          "iopub.execute_input": "2025-02-18T20:57:21.091439Z",
          "iopub.status.idle": "2025-02-18T20:57:21.782187Z",
          "shell.execute_reply.started": "2025-02-18T20:57:21.091413Z",
          "shell.execute_reply": "2025-02-18T20:57:21.781468Z"
        },
        "colab": {
          "base_uri": "https://localhost:8080/"
        }
      },
      "outputs": [
        {
          "output_type": "stream",
          "name": "stdout",
          "text": [
            "<bos><start_of_turn>user\n",
            "What does MIT stand for?<end_of_turn>\n",
            "<start_of_turn>model\n",
            "MIT stands for **Massachusetts Institute of Technology**. \n",
            "<end_of_turn>\n"
          ]
        }
      ],
      "execution_count": 10
    },
    {
      "cell_type": "markdown",
      "source": [
        "*****\n",
        "- The model correctly interprets the prompt and generates a relevant response.  \n",
        "- The special tokens ensure that the format remains consistent with the chat template.  \n",
        "\n",
        "This step showcases how the model can process user input and generate meaningful answers! 🚀  \n",
        "*****"
      ],
      "metadata": {
        "id": "ltH2KHWFjeZX"
      }
    },
    {
      "cell_type": "markdown",
      "source": [
        "Now we have the basic pipeline for generating text with an LLM!"
      ],
      "metadata": {
        "id": "IgrJ1NS6wiEE"
      }
    },
    {
      "cell_type": "markdown",
      "source": [
        "## 🍀 **Fine-tuning: Teaching an LLM to Chat Like a Leprechaun!** 🧙‍♂️✨  \n",
        "\n",
        "Fine-tuning lets us **adapt a pre-trained model** to a **specific task, style, or domain** by training it on a **custom dataset**. Instead of building a model from scratch, we **modify an existing LLM’s behavior** to generate **desired responses**.  \n",
        "\n",
        "### 🛠️ **Why Fine-tune an LLM?**  \n",
        "✅ Adapt the model’s **writing style** ✍️  \n",
        "✅ Improve **task-specific performance** 🏆  \n",
        "✅ Teach the model **new knowledge or abilities** 📚  \n",
        "✅ Reduce **biases & unwanted behaviors** ⚖️  \n",
        "\n",
        "---\n",
        "\n",
        "### 🍀 **Our Fine-Tuning Task: Leprechaun Chat Style!** 🌈✨  \n",
        "\n",
        "In this lab, we will **fine-tune the Gemma LLM** to **speak like a leprechaun**! ☘️  \n",
        "We use a dataset where:  \n",
        "- 📜 **Questions** are in standard English.  \n",
        "- 🍀 **Answers** mimic a leprechaun’s **playful, rhyming** speech.  \n",
        "\n",
        "🔹 *Example?* Imagine asking:  \n",
        "🗣️ *\"What’s your favorite color?\"*  \n",
        "💬 *\"Ah, lad, it’s green, as bright as me gold!\"* 🌟  \n",
        "\n",
        "![Let’s Dance!](http://33.media.tumblr.com/3d223954ad0a77f4e98a7b87136aa395/tumblr_nlct5lFVbF1qhu7oio1_500.gif)  \n",
        "\n",
        "---\n",
        "\n",
        "### 📥 **Loading & Inspecting the Dataset**  \n",
        "\n",
        "This step loads **our leprechaun-style dataset** and **examines a sample**!  \n",
        "\n",
        "#### 🔑 **Key Steps:**  \n",
        "1️⃣ **Load Data** – `create_dataloader(style=\"leprechaun\")` loads a dataset where responses follow a *leprechaun-style* writing pattern.  \n",
        "2️⃣ **Extract a Sample** – Retrieves the 44th example from the dataset.  \n",
        "3️⃣ **Inspect Components:**  \n",
        "   - 📝 **Question** – The instruction given to the model.  \n",
        "   - 🟢 **Original Answer** – The expected response from the model.  \n",
        "   - ✨ **Answer Style** – Describes how the response should be structured.  \n",
        "\n",
        "💡 **Why This Matters?**  \n",
        "By fine-tuning, we help the model **understand and generate** responses in a **playful, themed way**, making AI conversations more engaging! 🚀  \n",
        "********  \n"
      ],
      "metadata": {
        "id": "ZkZKprwcwiEF"
      }
    },
    {
      "cell_type": "code",
      "source": [
        "train_loader, test_loader = mdl.lab3.create_dataloader(style=\"leprechaun\")\n",
        "\n",
        "\n",
        "sample = train_loader.dataset[44]\n",
        "question = sample['instruction']\n",
        "answer = sample['response']\n",
        "answer_style = sample['response_style']\n",
        "\n",
        "print(f\"Question: {question}\\n\\n\" +\n",
        "      f\"Original Answer: {answer}\\n\\n\" +\n",
        "      f\"Answer Style: {answer_style}\")"
      ],
      "metadata": {
        "id": "kN0pHHS8BvnH",
        "outputId": "bb3d2a71-e17c-4585-bdea-d60a3e396246",
        "trusted": true,
        "execution": {
          "iopub.status.busy": "2025-02-18T20:57:32.819565Z",
          "iopub.execute_input": "2025-02-18T20:57:32.819882Z",
          "iopub.status.idle": "2025-02-18T20:57:34.800228Z",
          "shell.execute_reply.started": "2025-02-18T20:57:32.819856Z",
          "shell.execute_reply": "2025-02-18T20:57:34.799417Z"
        },
        "colab": {
          "base_uri": "https://localhost:8080/",
          "height": 257,
          "referenced_widgets": [
            "478d54ed48e64a149bcfb6f31fe61afa",
            "abdaed76ec9342449fcbb34f67c798ee",
            "b4bab205460945eeab168f25a73080e2",
            "cd625486c06748a792604119c522aadb",
            "907768bee6634472b323336f67c4389e",
            "0d8422c036de47f4b1267a760d0c7e12",
            "11b2e2438faf4a308030527eb897c030",
            "ad0ac4db66ce43dfb4ffd17b52373141",
            "ecd2fd9c988c463d898c3ee50a48475a",
            "89fce088b30c45d69770cca3f4ca1150",
            "f2872f9634f646b39424e5c9b6c9496c",
            "c6a5587f5d4b41eb960933f57aa67629",
            "a5383aa5def14c3584f0da924a7acc1e",
            "5740ca8479804f3185dc6c6ff33d72a5",
            "22d69505e9ab41e3a1893aaf45fa28b3",
            "1fe7ee8222ae48409c571f19f6d16d0b",
            "dbe36ec5b7d24946abfb6eed548c2bf5",
            "258e74a477414f179bbed0bbf6c9901b",
            "3708b9063c8d44859dec1c16cdc198f0",
            "762848294ede404784284a7ae0c90d61",
            "795cdccdb8d0448e97b971ce25454435",
            "a353f1ba56e446caba0ab426095263db",
            "7f467e0b3e104d8d9807274702fb6e39",
            "4c03d7e743b2431da67740155eab9ab9",
            "99fcdc1d65254a2b86e7b02efb66e6fa",
            "ea9fd455638241cba7e1aeaa8877a860",
            "599cb10a539643b99228f7a0e7d1c2f9",
            "30e16e1c318b4204b646175436be6c17",
            "3775eb165fc246daabace06bae6206ac",
            "580a87d0a5084cf796608abd815d111f",
            "4e3e61cb3ccc48f7ae725039807fcd3b",
            "625ec6a7107045b39a4de7381fcf48b2",
            "fe2e1e1fd0934008bcf5800c98693416",
            "08af134c64034ee7ad572c7dacade84f",
            "9f1e1aad34174877824c982fef924250",
            "8846d5fb62a3435c90907da75a19cc9c",
            "ec5b0f3b9bb1400d96c109972c0d1838",
            "5725918a171b4f44b77617d9c61b555e",
            "051b9fe3145e4b309ea6db4847c45f17",
            "7b74f6da47ce4acfbdb972194cb53a7e",
            "30ce174b437d4bf99e82ed3f65e20744",
            "6c55bfb9e1304a7fac8f9b85d46bc3b8",
            "edfc9646acba41259e33d4d27d0aaedd",
            "76beeed786ec464faa24e63522f79e2c"
          ]
        }
      },
      "outputs": [
        {
          "output_type": "display_data",
          "data": {
            "text/plain": [
              "README.md:   0%|          | 0.00/8.20k [00:00<?, ?B/s]"
            ],
            "application/vnd.jupyter.widget-view+json": {
              "version_major": 2,
              "version_minor": 0,
              "model_id": "478d54ed48e64a149bcfb6f31fe61afa"
            }
          },
          "metadata": {}
        },
        {
          "output_type": "display_data",
          "data": {
            "text/plain": [
              "databricks-dolly-15k.jsonl:   0%|          | 0.00/13.1M [00:00<?, ?B/s]"
            ],
            "application/vnd.jupyter.widget-view+json": {
              "version_major": 2,
              "version_minor": 0,
              "model_id": "c6a5587f5d4b41eb960933f57aa67629"
            }
          },
          "metadata": {}
        },
        {
          "output_type": "display_data",
          "data": {
            "text/plain": [
              "Generating train split:   0%|          | 0/15011 [00:00<?, ? examples/s]"
            ],
            "application/vnd.jupyter.widget-view+json": {
              "version_major": 2,
              "version_minor": 0,
              "model_id": "7f467e0b3e104d8d9807274702fb6e39"
            }
          },
          "metadata": {}
        },
        {
          "output_type": "display_data",
          "data": {
            "text/plain": [
              "Map:   0%|          | 0/2048 [00:00<?, ? examples/s]"
            ],
            "application/vnd.jupyter.widget-view+json": {
              "version_major": 2,
              "version_minor": 0,
              "model_id": "08af134c64034ee7ad572c7dacade84f"
            }
          },
          "metadata": {}
        },
        {
          "output_type": "stream",
          "name": "stdout",
          "text": [
            "Question: Are lilies safe for cats?\n",
            "\n",
            "Original Answer: No, lilies are toxic to cats if consumed and should not be kept in a household with cats\n",
            "\n",
            "Answer Style: Och, no indeed, me hearty! Them lilies there be as dangerous as a pot o' gold guarded by a banshee to a wee kitty cat! If a whiskered lad or lass takes a bite of one, it's as bad as swallowing a curse from the old Hag herself. So, ye best keep them far from yer feline friends, or else ye'll be needin' more than just a four-leaf clover to bring luck back into yer home!\n"
          ]
        }
      ],
      "execution_count": 11
    },
    {
      "cell_type": "markdown",
      "source": [
        "This approach helps train models to generate responses in specific tones or writing styles! 🍀✨  \n",
        "*********"
      ],
      "metadata": {
        "id": "_aUSvGCylBeE"
      }
    },
    {
      "cell_type": "code",
      "source": [
        "train_loader = DataLoader(train_loader.dataset, batch_size=1, shuffle=True)  # Reduce batch_size"
      ],
      "metadata": {
        "id": "Ah4C3g0q8Rzw",
        "trusted": true,
        "execution": {
          "iopub.status.busy": "2025-02-18T20:58:03.846084Z",
          "iopub.execute_input": "2025-02-18T20:58:03.846428Z",
          "iopub.status.idle": "2025-02-18T20:58:03.850350Z",
          "shell.execute_reply.started": "2025-02-18T20:58:03.846398Z",
          "shell.execute_reply": "2025-02-18T20:58:03.849591Z"
        }
      },
      "outputs": [],
      "execution_count": 12
    },
    {
      "cell_type": "code",
      "source": [
        "for i in range(5):  # First 5 samples\n",
        "    sample = train_loader.dataset[i]\n",
        "    print(sample)\n"
      ],
      "metadata": {
        "id": "WT7O2d-I7AUx",
        "outputId": "6bde561d-357e-4641-a0db-2eb31b826a67",
        "trusted": true,
        "execution": {
          "iopub.status.busy": "2025-02-18T20:58:07.942598Z",
          "iopub.execute_input": "2025-02-18T20:58:07.942885Z",
          "iopub.status.idle": "2025-02-18T20:58:07.948968Z",
          "shell.execute_reply.started": "2025-02-18T20:58:07.942862Z",
          "shell.execute_reply": "2025-02-18T20:58:07.948131Z"
        },
        "colab": {
          "base_uri": "https://localhost:8080/"
        }
      },
      "outputs": [
        {
          "output_type": "stream",
          "name": "stdout",
          "text": [
            "{'instruction': 'When did Virgin Australia start operating?', 'context': \"Virgin Australia, the trading name of Virgin Australia Airlines Pty Ltd, is an Australian-based airline. It is the largest airline by fleet size to use the Virgin brand. It commenced services on 31 August 2000 as Virgin Blue, with two aircraft on a single route. It suddenly found itself as a major airline in Australia's domestic market after the collapse of Ansett Australia in September 2001. The airline has since grown to directly serve 32 cities in Australia, from hubs in Brisbane, Melbourne and Sydney.\", 'response': 'Virgin Australia commenced services on 31 August 2000 as Virgin Blue, with two aircraft on a single route.', 'category': 'closed_qa', 'response_style': \"Top o' the mornin' to ye, me hearty! Ye want to know when Virgin Australia started flyin' about the skies like a fine old bird? Well, listen up now, for I'll tell ye a tale as true as the gold at the end o' me rainbow! Virgin Australia, or as they were known back then, Virgin Blue, took to the skies on the grand day of August 31st, 2000, with just two planes and one little route, like a wee fella takin' his first steps! Ah, what a sight that must have been!\"}\n",
            "{'instruction': 'Which is a species of fish? Tope or Rope', 'context': '', 'response': 'Tope', 'category': 'classification', 'response_style': \"Top o' the mornin' to ye, me hearty! Ye askin' about a fish, do ye? Well, now, let me tell ye, if ye're lookin' for a species of fish, ye'd be wantin' to know about the Tope, not no silly ol' Rope. That there Tope, it's a fine fish indeed, swimmin' about in the sea like a little green flash o' magic. But a Rope, now, that's just somethin' ye might find tied up round a barrel in me old ship's hold. So, remember that, me lad, when ye're out fishin', it's the Tope ye're after, not no stinkin' Rope!\"}\n",
            "{'instruction': 'Why can camels survive for long without water?', 'context': '', 'response': 'Camels use the fat in their humps to keep them filled with energy and hydration for long periods of time.', 'category': 'open_qa', 'response_style': 'Top o\\' the mornin\\' to ye, me hearty! Ye ask why the mighty camel can roam the desert sands without a drop o\\' water fer days on end? Well, let me tell ye, it\\'s all down to the magic in their humps, ye see! Now, these humps are filled to the brim with fat, the same kind ye might find in a fine bit o\\' bacon. But don\\'t ye go thinkin\\' it\\'s just for savin\\' weight, oh no! This fat acts as a reservoir o\\' sorts, holdin\\' onto water fer dear life, or should I say, fer dear camel! So when the sun is beatin\\' down and there\\'s nary a drop to be found, our camel friend just taps into his hump and says \"Here\\'s to survivin\\', me darlin\\'!\" And away he goes, as happy as a lark!'}\n",
            "{'instruction': \"Alice's parents have three daughters: Amy, Jessy, and what’s the name of the third daughter?\", 'context': '', 'response': 'The name of the third daughter is Alice', 'category': 'open_qa', 'response_style': \"Top o' the mornin' to ye! Why, the name o' the third lassie there would be Alice, sure as I'm standin' here tellin' ye! Ye see, Alice is the name o' the dear little lass who's parents have three bonnie daughters in all, Amy and Jessy bein' two o' the sweethearts. Now, if ye'll excuse me, I've a wee bit o' gold to keep an eye on... or maybe I should say, to try to keep away from the likes o' ye! Ha ha!\"}\n",
            "{'instruction': 'When was Tomoaki Komorida born?', 'context': 'Komorida was born in Kumamoto Prefecture on July 10, 1981. After graduating from high school, he joined the J1 League club Avispa Fukuoka in 2000. Although he debuted as a midfielder in 2001, he did not play much and the club was relegated to the J2 League at the end of the 2001 season. In 2002, he moved to the J2 club Oita Trinita. He became a regular player as a defensive midfielder and the club won the championship in 2002 and was promoted in 2003. He played many matches until 2005. In September 2005, he moved to the J2 club Montedio Yamagata. In 2006, he moved to the J2 club Vissel Kobe. Although he became a regular player as a defensive midfielder, his gradually was played less during the summer. In 2007, he moved to the Japan Football League club Rosso Kumamoto (later Roasso Kumamoto) based in his local region. He played as a regular player and the club was promoted to J2 in 2008. Although he did not play as much, he still played in many matches. In 2010, he moved to Indonesia and joined Persela Lamongan. In July 2010, he returned to Japan and joined the J2 club Giravanz Kitakyushu. He played often as a defensive midfielder and center back until 2012 when he retired.', 'response': 'Tomoaki Komorida was born on July 10,1981.', 'category': 'closed_qa', 'response_style': \"Top o' the mornin' to ye! Now listen here, me hearty, Tomoaki Komorida was born on the bright morn o' July 10, 1981, sure 'nuff as day follows night! Isn't that a grand day to be born under the green skies o' Ireland, even if he wasn't born here himself!\"}\n"
          ]
        }
      ],
      "execution_count": 13
    },
    {
      "cell_type": "markdown",
      "source": [
        "*****************\n",
        "### 🤖 **Chat Function for Generating AI Responses** 💬✨  \n",
        "\n",
        "This function generates **structured responses** from the model based on user input.  \n",
        "\n",
        "#### 🔍 **How It Works:**  \n",
        "1️⃣ **📝 Construct the Prompt** – Formats the question using a **predefined template** for consistency.  \n",
        "2️⃣ **🔢 Tokenization** – Converts the text into **model-readable tokens** for processing.  \n",
        "3️⃣ **🧠 Generate Response** – Uses the model to **predict and generate** a reply:  \n",
        "   - 🎲 `do_sample=True` – Allows variation for more **diverse responses**.  \n",
        "   - ✂️ `max_new_tokens=50` – Controls **response length**.  \n",
        "   - 🔥 `temperature=0.7` – Adjusts **randomness** (higher = more creative).  \n",
        "4️⃣ **📌 Extract the Answer** – If `only_answer=True`, removes **unnecessary prompt text** from the output.  \n",
        "5️⃣ **🔡 Decode & Return** – Converts **tokens back into human-readable text**.  \n",
        "\n",
        "💡 **Why This Matters?**  \n",
        "By structuring prompts and responses, we ensure the AI generates **clear, context-aware** replies while maintaining flexibility. 🚀  \n",
        "\n",
        "*************\n"
      ],
      "metadata": {
        "id": "TIkQ4vEFwiEF"
      }
    },
    {
      "cell_type": "code",
      "source": [
        "def chat(question, max_new_tokens=32, temperature=0.7, only_answer=False):\n",
        "    # 1. Construct the prompt using the template\n",
        "    # prompt = template_without_answer.format('''TODO''') # TODO\n",
        "    prompt = template_without_answer.format(question=question)\n",
        "\n",
        "\n",
        "    # 2. Tokenize the text\n",
        "    # input_ids = tokenizer('''TODO''', '''TODO''').to(model.device) # TODO\n",
        "    input_ids = tokenizer(prompt, return_tensors=\"pt\").to(model.device)\n",
        "\n",
        "\n",
        "    # 3. Feed through the model to predict the next token probabilities\n",
        "    with torch.no_grad():\n",
        "        # outputs = model.generate('''TODO''', do_sample=True, max_new_tokens=max_new_tokens, temperature=temperature) # TODO\n",
        "        outputs = model.generate(**input_ids, do_sample=True,\n",
        "        max_new_tokens=max_new_tokens, temperature=temperature)\n",
        "\n",
        "\n",
        "    # 4. Only return the answer if only_answer is True\n",
        "    output_tokens = outputs[0]\n",
        "    if only_answer:\n",
        "        output_tokens = output_tokens[input_ids['input_ids'].shape[1]:]\n",
        "\n",
        "    # 5. Decode the tokens\n",
        "    # result = tokenizer.decode('''TODO''', skip_special_tokens=True) # TODO\n",
        "    result = tokenizer.decode(output_tokens, skip_special_tokens=True)\n",
        "\n",
        "\n",
        "    return result\n"
      ],
      "metadata": {
        "id": "d-GfGscMBvnH",
        "trusted": true,
        "execution": {
          "iopub.status.busy": "2025-02-18T20:58:12.529792Z",
          "iopub.execute_input": "2025-02-18T20:58:12.530075Z",
          "iopub.status.idle": "2025-02-18T20:58:12.535120Z",
          "shell.execute_reply.started": "2025-02-18T20:58:12.530054Z",
          "shell.execute_reply": "2025-02-18T20:58:12.534165Z"
        }
      },
      "outputs": [],
      "execution_count": 14
    },
    {
      "cell_type": "markdown",
      "source": [
        "This function enables flexible, interactive conversations with the model! 🗣️🤖"
      ],
      "metadata": {
        "id": "uaiNduH8wiEG"
      }
    },
    {
      "cell_type": "markdown",
      "source": [
        "************\n",
        "### 🛠️ **Testing the Chat Function** 🤖💬  \n",
        "\n",
        "Now, let's test our `chat` function with a **simple question**:  \n",
        "\n",
        "❓ **Question:** *\"What is the capital of Ireland?\"* 🇮🇪  \n",
        "\n",
        "#### ✅ **Steps Taken:**  \n",
        "1️⃣ Calls the `chat` function with:  \n",
        "   - 🎯 `only_answer=True` → Ensures **only the model's answer** is returned.  \n",
        "   - ✂️ `max_new_tokens=32` → Limits the **response length** for concise output.  \n",
        "2️⃣ 🖨️ **Prints the model's response** to verify accuracy.  \n",
        "\n",
        "💡 This test checks if the model **correctly understands** and responds **appropriately**. 🚀  \n",
        "\n",
        "************\n"
      ],
      "metadata": {
        "id": "7ZY22nGrl2hr"
      }
    },
    {
      "cell_type": "code",
      "source": [
        "# Let's try chatting with the model now to test if it works!\n",
        "answer = chat(\n",
        "    \"What is the capital of Ireland?\",\n",
        "    only_answer=True,\n",
        "    max_new_tokens=32,\n",
        ")\n",
        "\n",
        "print(answer)\n",
        "\n",
        "# '''TODO: Experiment with asking the model different questions and temperature values, and see how it responds!'''"
      ],
      "metadata": {
        "id": "FDr5f2djBvnH",
        "outputId": "0ea432bf-a85d-4c10-c39c-c0bf3a514743",
        "trusted": true,
        "execution": {
          "iopub.status.busy": "2025-02-18T20:58:16.932441Z",
          "iopub.execute_input": "2025-02-18T20:58:16.932762Z",
          "iopub.status.idle": "2025-02-18T20:58:17.574564Z",
          "shell.execute_reply.started": "2025-02-18T20:58:16.932735Z",
          "shell.execute_reply": "2025-02-18T20:58:17.573833Z"
        },
        "colab": {
          "base_uri": "https://localhost:8080/"
        }
      },
      "outputs": [
        {
          "output_type": "stream",
          "name": "stdout",
          "text": [
            "The capital of Ireland is **Dublin**. \n",
            "\n"
          ]
        }
      ],
      "execution_count": 15
    },
    {
      "cell_type": "markdown",
      "source": [
        "## 🛠️ Next Steps: Experimenting with Temperature\n",
        "To make the responses more diverse, you can experiment with temperature:\n",
        "\n",
        "###  1️⃣ Low Temperature (More Deterministic)"
      ],
      "metadata": {
        "id": "o9sqZOE-mBcV"
      }
    },
    {
      "cell_type": "code",
      "source": [
        "print(chat(\"What is the capital of Ireland?\", temperature=0.1, only_answer=True))\n"
      ],
      "metadata": {
        "id": "Q-cVlP2AmOZG",
        "outputId": "4ac30eef-6522-4c49-8d40-223d23bc8778",
        "trusted": true,
        "execution": {
          "iopub.status.busy": "2025-02-18T20:58:23.698109Z",
          "iopub.execute_input": "2025-02-18T20:58:23.698492Z",
          "iopub.status.idle": "2025-02-18T20:58:24.253602Z",
          "shell.execute_reply.started": "2025-02-18T20:58:23.698460Z",
          "shell.execute_reply": "2025-02-18T20:58:24.252707Z"
        },
        "colab": {
          "base_uri": "https://localhost:8080/"
        }
      },
      "outputs": [
        {
          "output_type": "stream",
          "name": "stdout",
          "text": [
            "The capital of Ireland is **Dublin**. \n",
            "\n"
          ]
        }
      ],
      "execution_count": 16
    },
    {
      "cell_type": "markdown",
      "source": [
        "### 2️⃣ High Temperature (More Creative)"
      ],
      "metadata": {
        "id": "7bu9d6H7mR-D"
      }
    },
    {
      "cell_type": "code",
      "source": [
        "print(chat(\"What is the capital of Ireland?\", temperature=1.5, only_answer=True))\n"
      ],
      "metadata": {
        "id": "r77Z9tV1mWUm",
        "outputId": "35c8a02a-dd6b-4e7e-e138-229d892e0a3f",
        "trusted": true,
        "execution": {
          "iopub.status.busy": "2025-02-18T20:58:26.828145Z",
          "iopub.execute_input": "2025-02-18T20:58:26.828491Z",
          "iopub.status.idle": "2025-02-18T20:58:27.383552Z",
          "shell.execute_reply.started": "2025-02-18T20:58:26.828461Z",
          "shell.execute_reply": "2025-02-18T20:58:27.382653Z"
        },
        "colab": {
          "base_uri": "https://localhost:8080/"
        }
      },
      "outputs": [
        {
          "output_type": "stream",
          "name": "stdout",
          "text": [
            "The capital of Ireland is **Dublin**. ☘️\n",
            "\n"
          ]
        }
      ],
      "execution_count": 17
    },
    {
      "cell_type": "markdown",
      "source": [
        "## 🔥 Try Different Types of Questions\n",
        "### Trivia"
      ],
      "metadata": {
        "id": "-z2JKDbNmZ-l"
      }
    },
    {
      "cell_type": "code",
      "source": [
        "print(chat(\"Who discovered gravity?\", only_answer=True))"
      ],
      "metadata": {
        "id": "5GXWDJR3mgDz",
        "outputId": "cc12acdd-eac9-4917-ba5e-82f38c89e8a9",
        "trusted": true,
        "execution": {
          "iopub.status.busy": "2025-02-18T20:58:29.806924Z",
          "iopub.execute_input": "2025-02-18T20:58:29.807248Z",
          "iopub.status.idle": "2025-02-18T20:58:31.381957Z",
          "shell.execute_reply.started": "2025-02-18T20:58:29.807217Z",
          "shell.execute_reply": "2025-02-18T20:58:31.381223Z"
        },
        "colab": {
          "base_uri": "https://localhost:8080/"
        }
      },
      "outputs": [
        {
          "output_type": "stream",
          "name": "stdout",
          "text": [
            "It's not entirely accurate to say one person \"discovered\" gravity. \n",
            "\n",
            "Here's why:\n",
            "\n",
            "* **Ancient Ideas:** Many cultures throughout history\n"
          ]
        }
      ],
      "execution_count": 18
    },
    {
      "cell_type": "markdown",
      "source": [
        "### Opinion-Based"
      ],
      "metadata": {
        "id": "1MTm0_nRml20"
      }
    },
    {
      "cell_type": "code",
      "source": [
        "print(chat(\"What is the best programming language?\", only_answer=True))\n"
      ],
      "metadata": {
        "id": "nejXCZ_Rmrxr",
        "outputId": "257f91ac-a6bf-41b1-e6b2-131508dc2d5f",
        "trusted": true,
        "execution": {
          "iopub.status.busy": "2025-02-18T20:58:31.383037Z",
          "iopub.execute_input": "2025-02-18T20:58:31.383315Z",
          "iopub.status.idle": "2025-02-18T20:58:32.953815Z",
          "shell.execute_reply.started": "2025-02-18T20:58:31.383286Z",
          "shell.execute_reply": "2025-02-18T20:58:32.953112Z"
        },
        "colab": {
          "base_uri": "https://localhost:8080/"
        }
      },
      "outputs": [
        {
          "output_type": "stream",
          "name": "stdout",
          "text": [
            "It's impossible to say definitively which programming language is \"the best\" because the ideal choice depends entirely on the specific project and your individual needs as a programmer\n"
          ]
        }
      ],
      "execution_count": 19
    },
    {
      "cell_type": "markdown",
      "source": [
        "### Creative Generation"
      ],
      "metadata": {
        "id": "9IjE_XAjmuaI"
      }
    },
    {
      "cell_type": "code",
      "source": [
        "print(chat(\"Write a short poem about the moon.\", only_answer=True, max_new_tokens=50))\n"
      ],
      "metadata": {
        "id": "JQrxrzjqmylz",
        "outputId": "93fb21d6-a8e5-4c89-d896-80b8264ea110",
        "trusted": true,
        "execution": {
          "iopub.status.busy": "2025-02-18T20:58:37.778916Z",
          "iopub.execute_input": "2025-02-18T20:58:37.779229Z",
          "iopub.status.idle": "2025-02-18T20:58:40.238241Z",
          "shell.execute_reply.started": "2025-02-18T20:58:37.779201Z",
          "shell.execute_reply": "2025-02-18T20:58:40.237359Z"
        },
        "colab": {
          "base_uri": "https://localhost:8080/"
        }
      },
      "outputs": [
        {
          "output_type": "stream",
          "name": "stdout",
          "text": [
            "A silver disc in velvet skies,\n",
            "The moon, a silent, watchful eye.\n",
            "She casts her soft, ethereal light,\n",
            "Through shadows deep and starlit night.\n",
            "\n",
            "On tides she pulls, a gentle sway,\n",
            "A beacon bright on\n"
          ]
        }
      ],
      "execution_count": 20
    },
    {
      "cell_type": "markdown",
      "source": [
        "**************\n",
        "\n",
        "### 🚀 **Applying LoRA for Efficient Fine-Tuning** 🧠⚡  \n",
        "\n",
        "We use **LoRA (Low-Rank Adaptation)** to fine-tune the model **efficiently** by updating **only a small subset** of parameters instead of the entire model. 🛠️✨  \n",
        "\n",
        "#### 🔢 **Steps Taken:**  \n",
        "1️⃣ **Define LoRA Configuration:**  \n",
        "   - 📌 `r=8`: Defines the **rank** of LoRA matrices (controls adaptation complexity).  \n",
        "   - 🏷️ `task_type=\"CAUSAL_LM\"`: Specifies LoRA for **causal language modeling**.  \n",
        "   - 🎯 `target_modules`: Applies LoRA to **specific model components** (e.g., `q_proj`, `v_proj`).  \n",
        "\n",
        "2️⃣ **Apply LoRA to the Model:**  \n",
        "   - 🏗️ Calls `get_peft_model()` to **integrate LoRA** into the existing model.  \n",
        "\n",
        "3️⃣ **Check Parameter Efficiency:**  \n",
        "   - 📊 Computes and prints the **number of trainable parameters** vs. **total parameters**.  \n",
        "   - 📉 Calculates the **percentage of trainable parameters**, showing how LoRA reduces computational costs.  \n",
        "\n",
        "#### ❓ **Why Use LoRA?**  \n",
        "✅ **Reduces memory usage** while maintaining model performance.  \n",
        "✅ **Faster fine-tuning** compared to full model updates.  \n",
        "✅ **Ideal for resource-constrained environments** like limited GPU setups.  \n",
        "\n",
        "This approach ensures **parameter-efficient fine-tuning** while leveraging the strengths of **large language models**. 🚀💡  \n",
        "\n",
        "************\n"
      ],
      "metadata": {
        "id": "HDqdcI8AwiEH"
      }
    },
    {
      "cell_type": "code",
      "source": [
        "# LoRA is a way to finetune LLMs very efficiently by only updating a small subset of the model's parameters\n",
        "\n",
        "def apply_lora(model):\n",
        "    # Define LoRA config\n",
        "    lora_config = LoraConfig(\n",
        "        r=8, # rank of the LoRA matrices\n",
        "        task_type=\"CAUSAL_LM\",\n",
        "        target_modules=[\n",
        "            \"q_proj\", \"o_proj\", \"k_proj\", \"v_proj\", \"gate_proj\", \"up_proj\", \"down_proj\"\n",
        "        ],\n",
        "    )\n",
        "\n",
        "    # Apply LoRA to the model\n",
        "    lora_model = get_peft_model(model, lora_config)\n",
        "    return lora_model\n",
        "\n",
        "model = apply_lora(model)\n",
        "\n",
        "# Print the number of trainable parameters after applying LoRA\n",
        "trainable_params = sum(p.numel() for p in model.parameters() if p.requires_grad)\n",
        "total_params = sum(p.numel() for p in model.parameters())\n",
        "print(f\"number of trainable parameters: {trainable_params}\")\n",
        "print(f\"total parameters: {total_params}\")\n",
        "print(f\"percentage of trainable parameters: {trainable_params / total_params * 100:.2f}%\")"
      ],
      "metadata": {
        "id": "Fb6Y679hBvnI",
        "outputId": "1639dd2d-c9f8-423b-e989-425acc00c1c7",
        "trusted": true,
        "execution": {
          "iopub.status.busy": "2025-02-18T20:58:43.543773Z",
          "iopub.execute_input": "2025-02-18T20:58:43.544100Z",
          "iopub.status.idle": "2025-02-18T20:58:43.854944Z",
          "shell.execute_reply.started": "2025-02-18T20:58:43.544071Z",
          "shell.execute_reply": "2025-02-18T20:58:43.854201Z"
        },
        "colab": {
          "base_uri": "https://localhost:8080/"
        }
      },
      "outputs": [
        {
          "output_type": "stream",
          "name": "stdout",
          "text": [
            "number of trainable parameters: 10383360\n",
            "total parameters: 2624725248\n",
            "percentage of trainable parameters: 0.40%\n"
          ]
        }
      ],
      "execution_count": 21
    },
    {
      "cell_type": "markdown",
      "source": [
        "------------\n",
        "### ⚡ **Forward Pass and Loss Computation** 🧠📉  \n",
        "\n",
        "This function performs a **forward pass** through the model and computes the **loss** for training. 🎯  \n",
        "\n",
        "#### 🔢 **Steps Taken:**  \n",
        "1️⃣ **Truncate Input to Context Length:**  \n",
        "   - ✂️ Ensures that both `tokens` and `mask` are within the defined `context_length` (default: 512).  \n",
        "\n",
        "2️⃣ **Prepare Input and Output:**  \n",
        "   - 🔹 `x`: Input tokens (excluding the last token).  \n",
        "   - 🔹 `y`: Target tokens (excluding the first token).  \n",
        "   - 🔹 `mask`: Adjusted to align with `y` to avoid computing loss on padding tokens.  \n",
        "\n",
        "3️⃣ **Forward Pass:**  \n",
        "   - 🚀 The model processes `x` to generate **logits** (predicted token probabilities).  \n",
        "\n",
        "4️⃣ **Compute Cross-Entropy Loss:**  \n",
        "   - 📉 Loss is computed using `F.cross_entropy()`, comparing predicted logits with actual tokens.  \n",
        "   - 📝 `reduction=\"none\"` ensures **per-token** loss calculation.  \n",
        "\n",
        "5️⃣ **Apply Masking:**  \n",
        "   - 🎭 Loss is only considered for **valid tokens** (excluding padding).  \n",
        "   - 🔄 The final loss is **averaged across valid tokens** for efficiency.  \n",
        "\n",
        "#### ❓ **Why Is This Important?**  \n",
        "✅ **Prevents unnecessary computation** on padding tokens.  \n",
        "✅ **Ensures loss calculation is focused** on relevant tokens.  \n",
        "✅ **Optimizes training efficiency** and improves model learning.  \n",
        "\n",
        "🚀 This approach enhances the model’s ability to learn efficiently while minimizing computation overhead.  \n",
        "\n",
        "------------\n"
      ],
      "metadata": {
        "id": "32ryAA-6wiEI"
      }
    },
    {
      "cell_type": "code",
      "source": [
        "def forward_and_compute_loss(model, tokens, mask, context_length=512):\n",
        "    # Truncate to context length\n",
        "    tokens = tokens[:, :context_length]\n",
        "    mask = mask[:, :context_length]\n",
        "\n",
        "    # Construct the input, output, and mask\n",
        "    x = tokens[:, :-1]\n",
        "    y = tokens[:, 1:]\n",
        "    mask = mask[:, 1:]\n",
        "\n",
        "    # Forward pass to compute logits\n",
        "    logits = model(x).logits\n",
        "\n",
        "    # Compute loss\n",
        "    loss = F.cross_entropy(\n",
        "        logits.view(-1, logits.size(-1)),\n",
        "        y.view(-1),\n",
        "        reduction=\"none\"\n",
        "    )\n",
        "\n",
        "    # Mask out the loss for non-answer tokens\n",
        "    loss = loss[mask.view(-1)].mean()\n",
        "\n",
        "    return loss"
      ],
      "metadata": {
        "id": "xCLtZwxwBvnI",
        "trusted": true,
        "execution": {
          "iopub.status.busy": "2025-02-18T21:12:30.975101Z",
          "iopub.execute_input": "2025-02-18T21:12:30.975488Z",
          "iopub.status.idle": "2025-02-18T21:12:30.981142Z",
          "shell.execute_reply.started": "2025-02-18T21:12:30.975446Z",
          "shell.execute_reply": "2025-02-18T21:12:30.980166Z"
        }
      },
      "outputs": [],
      "execution_count": 22
    },
    {
      "cell_type": "markdown",
      "source": [
        "**********\n",
        "### 🚀 **Training Loop for Fine-Tuning** 🎯🔥  \n",
        "\n",
        "This function **trains** the model using **LoRA** for efficient fine-tuning. 🧠✨  \n",
        "\n",
        "#### 🔑 **Key Steps:**  \n",
        "\n",
        "1️⃣ **Apply LoRA to the Model:**  \n",
        "   - 🎯 Reduces trainable parameters while maintaining performance.  \n",
        "\n",
        "2️⃣ **Initialize the Optimizer:**  \n",
        "   - 🚀 Uses the **Lion** optimizer with a learning rate of **1e-4**.  \n",
        "   - ⚡ Efficient for training large language models.  \n",
        "\n",
        "3️⃣ **Iterate Through the DataLoader:**  \n",
        "   - 📥 Extracts a **question** and its **styled answer** from the batch.  \n",
        "   - 📝 Formats them into a structured **prompt** using a predefined template.  \n",
        "\n",
        "4️⃣ **Tokenization and Masking:**  \n",
        "   - 🔡 Converts text into token IDs for model processing.  \n",
        "   - 🎭 Generates a **mask** to focus loss computation only on answer tokens.  \n",
        "\n",
        "5️⃣ **Forward and Loss Computation:**  \n",
        "   - 🚀 Passes tokens through the model.  \n",
        "   - 📉 Computes **loss** using the masked token predictions.  \n",
        "\n",
        "6️⃣ **Backward Pass and Optimization:**  \n",
        "   - 🔄 **Clears gradients** from the optimizer.  \n",
        "   - 📊 **Computes gradients** using `loss.backward()`.  \n",
        "   - 🔧 **Updates model parameters** with `optimizer.step()`.  \n",
        "\n",
        "7️⃣ **Monitoring Training Progress:**  \n",
        "   - 👀 Every **10 steps**, the model answers a test question (`What is the capital of France?`).  \n",
        "   - 📈 The average loss over recent steps is printed for tracking improvements.  \n",
        "\n",
        "8️⃣ **Early Stopping:**  \n",
        "   - 🛑 Stops training when `max_steps` is reached.  \n",
        "\n",
        "#### ❓ **Why This Matters?**  \n",
        "✅ **Efficient fine-tuning** using LoRA.  \n",
        "✅ **Selective loss computation** improves training quality.  \n",
        "✅ **Monitors performance** during training to ensure improvements.  \n",
        "\n",
        "🚀 This ensures a streamlined, efficient, and well-monitored fine-tuning process.  \n",
        "\n",
        "**********\n"
      ],
      "metadata": {
        "id": "zrjCQSHmwiEI"
      }
    },
    {
      "cell_type": "code",
      "source": [
        "### Training loop ###\n",
        "\n",
        "def train(model, dataloader, tokenizer, max_steps=200, context_length=512, learning_rate=1e-4):\n",
        "    losses = []\n",
        "\n",
        "    # Apply LoRA to the model\n",
        "    # model = '''TODO''' # TODO\n",
        "    model = apply_lora(model)\n",
        "\n",
        "\n",
        "    optimizer = Lion(model.parameters(), lr=learning_rate)\n",
        "\n",
        "    # Training loop\n",
        "    for step, batch in enumerate(dataloader):\n",
        "        question = batch[\"instruction\"][0]\n",
        "        answer = batch[\"response_style\"][0]\n",
        "\n",
        "        # Format the question and answer into the template\n",
        "        # text = template_with_answer.format('''TODO''', '''TODO''') # TODO\n",
        "        text = template_with_answer.format(question=question, answer=answer)\n",
        "\n",
        "\n",
        "        # Tokenize the text and compute the mask for the answer\n",
        "        ids = tokenizer(text, return_tensors=\"pt\", return_offsets_mapping=True).to(model.device)\n",
        "        mask = ids[\"offset_mapping\"][:,:,0] >= text.index(answer)\n",
        "\n",
        "        # Feed the tokens through the model and compute the loss\n",
        "        # loss = forward_and_compute_loss('''TODO''') # TODO\n",
        "        loss = forward_and_compute_loss(\n",
        "            model=model,\n",
        "            tokens=ids[\"input_ids\"],\n",
        "            mask=mask,\n",
        "            context_length=context_length,\n",
        "        )\n",
        "\n",
        "\n",
        "        # Backward pass\n",
        "        optimizer.zero_grad()\n",
        "        loss.backward()\n",
        "        optimizer.step()\n",
        "\n",
        "        losses.append(loss.item())\n",
        "\n",
        "        # monitor progress\n",
        "        if step % 10 == 0:\n",
        "            print(chat(\"What is the capital of France?\", only_answer=True))\n",
        "            print(f\"step {step} loss: {torch.mean(torch.tensor(losses)).item()}\")\n",
        "            losses = []\n",
        "\n",
        "        if step > 0 and step % max_steps == 0:\n",
        "            break\n",
        "\n",
        "    return model\n"
      ],
      "metadata": {
        "id": "JfiIrH7jBvnI",
        "trusted": true,
        "execution": {
          "iopub.status.busy": "2025-02-18T21:12:32.465907Z",
          "iopub.execute_input": "2025-02-18T21:12:32.466207Z",
          "iopub.status.idle": "2025-02-18T21:12:32.472804Z",
          "shell.execute_reply.started": "2025-02-18T21:12:32.466180Z",
          "shell.execute_reply": "2025-02-18T21:12:32.471997Z"
        }
      },
      "outputs": [],
      "execution_count": 23
    },
    {
      "cell_type": "markdown",
      "source": [
        "### 🚀 **Fine-Tuning the Model** 🧠🔥  \n",
        "\n",
        "#### 🔑 **Key Steps:**  \n",
        "\n",
        "1️⃣ **Clear GPU Cache** 🧹  \n",
        "   - Calls `torch.cuda.empty_cache()` to **free up memory**.  \n",
        "   - Ensures **efficient memory usage** before training starts.  \n",
        "\n",
        "2️⃣ **Start the Training Process** 🎯  \n",
        "   - Calls the `train()` function with:  \n",
        "     - 🏋️ **Pre-trained model** (with LoRA applied).  \n",
        "     - 📚 **Training dataset (train_loader)**.  \n",
        "     - 🔡 **Tokenizer** for text processing.  \n",
        "     - ⏳ **Max Steps:** 50 (Stops training after 50 iterations).  \n",
        "     - 📝 **Context Length:** 256 (Limits the number of tokens per input).  \n",
        "\n",
        "🚀 This ensures **optimized fine-tuning** while efficiently managing resources!  \n",
        "\n",
        "***********\n"
      ],
      "metadata": {
        "id": "QKGbwmhpoTgx"
      }
    },
    {
      "cell_type": "code",
      "source": [
        "import torch\n",
        "torch.cuda.empty_cache()\n"
      ],
      "metadata": {
        "id": "yIG4fm1J55tx",
        "trusted": true,
        "execution": {
          "iopub.status.busy": "2025-02-18T21:12:40.253239Z",
          "iopub.execute_input": "2025-02-18T21:12:40.253614Z",
          "iopub.status.idle": "2025-02-18T21:12:40.257455Z",
          "shell.execute_reply.started": "2025-02-18T21:12:40.253586Z",
          "shell.execute_reply": "2025-02-18T21:12:40.256541Z"
        }
      },
      "outputs": [],
      "execution_count": 24
    },
    {
      "cell_type": "code",
      "source": [
        "# Call the train function to fine-tune the model! Hint: you'll start to see results after a few dozen steps.\n",
        "# model = train('''TODO''') # TODO\n",
        "model = train(model, train_loader, tokenizer, max_steps=50, context_length=256)\n"
      ],
      "metadata": {
        "id": "blFoO-PhBvnI",
        "outputId": "93cd074c-4dea-4ee0-e98c-c407f0b6d089",
        "trusted": true,
        "execution": {
          "iopub.status.busy": "2025-02-18T21:12:41.457671Z",
          "iopub.execute_input": "2025-02-18T21:12:41.457991Z",
          "iopub.status.idle": "2025-02-18T21:13:14.422471Z",
          "shell.execute_reply.started": "2025-02-18T21:12:41.457964Z",
          "shell.execute_reply": "2025-02-18T21:13:14.421569Z"
        },
        "colab": {
          "base_uri": "https://localhost:8080/"
        }
      },
      "outputs": [
        {
          "output_type": "stream",
          "name": "stdout",
          "text": [
            "The capital of France is **Paris**. 🇫🇷 \n",
            "\n",
            "step 0 loss: 1.9565354585647583\n",
            "The capital of France is **Paris**. 🇫🇷 \n",
            "\n",
            "step 10 loss: 2.09287166595459\n",
            "The capital of France is **Paris**. \n",
            "\n",
            "step 20 loss: 1.773132562637329\n",
            "Top o' the mornin' to ye now! Ye want to know where the grand city o' Paris is, do ye? Well, why, it\n",
            "step 30 loss: 1.5039968490600586\n",
            "Top o' the mornin' to ye now! Ye askin' about the capital o' France, are ye? Well, let me tell ye,\n",
            "step 40 loss: 1.549439549446106\n",
            "Top o' the mornin' to ye now! Ye want to know about the capital o' France, do ye? Well, let me tell ye,\n",
            "step 50 loss: 1.2513401508331299\n"
          ]
        }
      ],
      "execution_count": 25
    },
    {
      "cell_type": "code",
      "source": [
        "import os\n",
        "import shutil\n",
        "\n",
        "# Step 1: Ensure the folders exist\n",
        "os.makedirs(\"yoda_chat_model\", exist_ok=True)\n",
        "os.makedirs(\"yoda_chat_adapter\", exist_ok=True)\n",
        "\n",
        "print(\"✅ Folders exist or created successfully!\")\n",
        "\n"
      ],
      "metadata": {
        "colab": {
          "base_uri": "https://localhost:8080/"
        },
        "id": "DaOyMnsZIP1l",
        "outputId": "f909c2f0-3c03-4768-e870-5bf55d77da80"
      },
      "execution_count": 29,
      "outputs": [
        {
          "output_type": "stream",
          "name": "stdout",
          "text": [
            "✅ Folders exist or created successfully!\n"
          ]
        }
      ]
    },
    {
      "cell_type": "code",
      "source": [
        "# Step 2: Save config file\n",
        "model.config.to_json_file(\"yoda_chat_model/config.json\")\n",
        "print(\"✅ Config file generated successfully!\")\n",
        "\n",
        "# Step 3: Save base model\n",
        "model.base_model.save_pretrained(\"yoda_chat_model\")\n",
        "tokenizer.save_pretrained(\"yoda_chat_model\")\n",
        "\n",
        "SAVE_PATH = \"yoda_chat_model\"\n",
        "\n",
        "# Step 4: Save the model and tokenizer properly\n",
        "model.save_pretrained(SAVE_PATH)\n",
        "tokenizer.save_pretrained(SAVE_PATH)\n",
        "\n",
        "print(\"✅ Model and tokenizer saved successfully in 'yoda_chat_model'!\")\n",
        "\n",
        "# Step 5: Save the adapter separately\n",
        "model.save_pretrained(\"yoda_chat_adapter\")\n",
        "print(\"✅ Adapter saved successfully in 'yoda_chat_adapter'!\")"
      ],
      "metadata": {
        "colab": {
          "base_uri": "https://localhost:8080/"
        },
        "id": "nLldiLTdqM08",
        "outputId": "0dd258fa-8f97-4ce2-a2ed-9a3182f5d85e"
      },
      "execution_count": 30,
      "outputs": [
        {
          "output_type": "stream",
          "name": "stdout",
          "text": [
            "✅ Config file generated successfully!\n",
            "✅ Model and tokenizer saved successfully in 'yoda_chat_model'!\n",
            "✅ Adapter saved successfully in 'yoda_chat_adapter'!\n"
          ]
        }
      ]
    },
    {
      "cell_type": "code",
      "source": [
        "# Step 6: Zip the folders AFTER saving\n",
        "shutil.make_archive(\"yoda_chat_model\", 'zip', \"yoda_chat_model\")\n",
        "shutil.make_archive(\"yoda_chat_adapter\", 'zip', \"yoda_chat_adapter\")\n",
        "\n",
        "print(\"✅ Zipping complete! You can now download the files.\")\n"
      ],
      "metadata": {
        "colab": {
          "base_uri": "https://localhost:8080/"
        },
        "id": "kREXWhu6Iw2l",
        "outputId": "c2efc489-da99-4a7a-9c3e-6aa7d936fbef"
      },
      "execution_count": 31,
      "outputs": [
        {
          "output_type": "stream",
          "name": "stdout",
          "text": [
            "✅ Zipping complete! You can now download the files.\n"
          ]
        }
      ]
    },
    {
      "cell_type": "markdown",
      "source": [
        "🎾 **Let's Try Chatting with the Model Again!** 🗨️🤖  \n",
        "\n",
        "### 📝 **Generating a Model Response**  \n",
        "- The model is prompted with:  \n",
        "  **❓ \"What is a good story about tennis?\"** 🎾  \n",
        "- It generates a **200-token** response based on fine-tuning. ✍️📖  \n",
        "- This tests:  \n",
        "  ✅ **Storytelling ability** 📚  \n",
        "  ✅ **Fine-tuned knowledge** 🏆  \n",
        "\n",
        "🚀 Let's see how our model has evolved!  \n"
      ],
      "metadata": {
        "id": "YB15znN0wiEK"
      }
    },
    {
      "cell_type": "code",
      "source": [
        "print(chat(\"What is a good story about tennis\", only_answer=True, max_new_tokens=200))"
      ],
      "metadata": {
        "id": "su4ZAG3eBvnI",
        "outputId": "2185ab32-5550-451d-8f48-6a3af73bc2f6",
        "trusted": true,
        "execution": {
          "iopub.status.busy": "2025-02-18T21:13:23.356813Z",
          "iopub.execute_input": "2025-02-18T21:13:23.357160Z",
          "iopub.status.idle": "2025-02-18T21:13:37.346515Z",
          "shell.execute_reply.started": "2025-02-18T21:13:23.357130Z",
          "shell.execute_reply": "2025-02-18T21:13:37.345576Z"
        },
        "colab": {
          "base_uri": "https://localhost:8080/"
        }
      },
      "outputs": [
        {
          "output_type": "stream",
          "name": "stdout",
          "text": [
            "Top o' the mornin' to ye! Now, listen up, for I'll tell ye a story about a lad named Paddy, who was as green as a leprechaun's pot o' gold in the mornin'. Now, Paddy, he was a wee bit of a dreamer, ye know what I mean? But he had a dream, see, a grand dream of becoming a grand tennis champion, like a wee bit o' clay meetin' a rock, and both of 'em comin' together stronger than ever!\n",
            "\n",
            "So, Paddy sets off to the big city, where they call it Wimbledon, ye hear? Now, Wimbledon's where the champions are born, and Paddy's got a twinkle in his eye, a fire in his belly, that's sure to lead him where he wants to go, if he gets his mind right! He trains hard, day in, day out, and he's a sight to behold, he is\n"
          ]
        }
      ],
      "execution_count": null
    },
    {
      "cell_type": "markdown",
      "source": [
        "*********************************\n",
        "*******************************"
      ],
      "metadata": {
        "id": "xyx3EOhqoqxY"
      }
    },
    {
      "cell_type": "markdown",
      "source": [
        "🌟 **Evaluating a Style-Tuned LLM** 🍀🤖  \n",
        "\n",
        "### 🧐 **How Can I Tell If the Model Is Performing Well?**  \n",
        "How closely does its style match that of a **leprechaun**? 🍀✨  \n",
        "Evaluating generated responses can feel **subjective**, making it tricky to measure performance.  \n",
        "\n",
        "### 🚀 **Challenges in Evaluation**  \n",
        "- **Benchmarks** don’t always reflect real-world performance. 📊  \n",
        "- A model may score well but **struggle in practical use cases**. 🤔  \n",
        "- Some benchmarks might contain **data from the model’s training set**. 🔄  \n",
        "\n",
        "### 🔬 **Structured Evaluation with \"LLM as a Judge\"**  \n",
        "To **quantify performance**, I’ll use a **larger LLM** to evaluate responses from my fine-tuned model. 👨‍⚖️⚖️  \n",
        "\n",
        "#### **How It Works:**  \n",
        "1. The **larger LLM** acts as a **judge**, scoring the smaller model’s outputs. 🏆  \n",
        "2. A **system prompt** guides the judge, defining:  \n",
        "   ✅ The **task** 🎯  \n",
        "   ✅ The **evaluation criteria** ✅  \n",
        "3. The **judge LLM assigns scores**, turning subjective evaluation into **measurable results**. 📈  \n",
        "\n",
        "✨ This approach makes it easier to assess how well the model **captures the leprechaun style!** 🍀  \n"
      ],
      "metadata": {
        "id": "2cvhTsptBvnI"
      }
    },
    {
      "cell_type": "markdown",
      "source": [
        "## 🌟 **Fine-Tune Well, I Must!** 🧙‍♂️💫  \n",
        "\n",
        "My **leprechaun-tuned** model is already speaking in a magical Irish style—must be the **luck of the Irish!** 🍀✨  \n",
        "\n",
        "Now, let’s take things up a notch by fine-tuning my model to **speak like Yoda** from *Star Wars*! 🤖🔁🛸  \n",
        "\n",
        "![Wise, he is!](https://media3.giphy.com/media/v1.Y2lkPTc5MGI3NjExZHcxMGZjZzdwbGV0andseWw3c3h1ODJwOXd5NHEzbnVtMHk5YWQyayZlcD12MV9pbnRlcm5hbF9naWZfYnlfaWQmY3Q9Zw/IaWMz9Ln8OWvf66z6k/giphy.webp)  \n",
        "\n",
        "### 🎯 **Mission: Train the Model in Yoda’s Unique Speech Pattern**  \n",
        "- Fine-tune responses so the model speaks **like the wise Jedi Master**. 🟢🌀  \n",
        "- Use **LLM as a Judge** to **evaluate style accuracy**. 📏👨‍⚖️  \n",
        "- Analyze feedback and refine the approach until the model is **one with the Force**! 🌌  \n",
        "\n",
        "#### **Success, I Seek!** 💪  \n",
        "Strong in the **Force**, my model will be! 🚀🌠  \n"
      ],
      "metadata": {
        "id": "CzMYR66vwiEK"
      }
    },
    {
      "cell_type": "code",
      "source": [
        "# Load the Yoda-speak dataset and fine-tune the model using your training function\n",
        "train_loader, test_loader = mdl.lab3.create_dataloader(style=\"yoda\")\n",
        "\n",
        "# model = train('''TODO''') # TODO\n",
        "model = train(model, train_loader, tokenizer, max_steps=50)\n"
      ],
      "metadata": {
        "id": "-gLgE41YBvnJ",
        "outputId": "f1babf99-4bcb-4ecf-a9d7-1a3ff2df7f57",
        "trusted": true,
        "execution": {
          "iopub.status.busy": "2025-02-18T21:13:53.506912Z",
          "iopub.execute_input": "2025-02-18T21:13:53.507230Z",
          "iopub.status.idle": "2025-02-18T21:14:15.117472Z",
          "shell.execute_reply.started": "2025-02-18T21:13:53.507202Z",
          "shell.execute_reply": "2025-02-18T21:14:15.116637Z"
        },
        "colab": {
          "base_uri": "https://localhost:8080/",
          "height": 307,
          "referenced_widgets": [
            "d82cfb13114c4ad8bf1b09d10337426e",
            "d1e070b1bedb4383b70fd965b8c1134c",
            "31161dddc0d64264a77f7de62c647f86",
            "e0b85574ce8247cdb23ae146199fad6a",
            "a417cd1714dc48f1b3276a49a768a6b7",
            "aa6e85cfaf374478833e3459c5262b52",
            "4a03df294eb24822a63649565fa384dd",
            "f0d7aefd0cd349b49f0f27e3bfb35979",
            "774d3cd25fb946658ab3c4a5f7286ece",
            "9fc594d1ee69444ba1d4094309e1c3e8",
            "ec0139c3831f4bc7b1c775a176b1cd6b"
          ]
        }
      },
      "outputs": [
        {
          "output_type": "display_data",
          "data": {
            "text/plain": [
              "Map:   0%|          | 0/2048 [00:00<?, ? examples/s]"
            ],
            "application/vnd.jupyter.widget-view+json": {
              "version_major": 2,
              "version_minor": 0,
              "model_id": "d82cfb13114c4ad8bf1b09d10337426e"
            }
          },
          "metadata": {}
        },
        {
          "output_type": "stream",
          "name": "stdout",
          "text": [
            "The capital of France is **Paris**. 🇫🇷 \n",
            "\n",
            "step 0 loss: 5.384652137756348\n",
            "The capital of France is **Paris**. 🇫🇷 \n",
            "\n",
            "step 10 loss: 3.33317494392395\n",
            "Paris, the capital of France, is the capital of France.\n",
            "step 20 loss: 2.091325283050537\n",
            "Paris, it is, the capital of France, it is.\n",
            "step 30 loss: 2.4632413387298584\n",
            "Paris is, capital of France.\n",
            "step 40 loss: 1.9192737340927124\n",
            "Paris, the capital of France is. Mmm, delicious croissants, they are. Mmm, delicious.\n",
            "step 50 loss: 1.8510792255401611\n"
          ]
        }
      ],
      "execution_count": 29
    },
    {
      "cell_type": "markdown",
      "source": [
        "### ⚖️ **LLM as a Judge: Evaluating Text Style** 🤖📜  \n",
        "\n",
        "- The **LLM acts as an impartial judge**, analyzing if a response matches a **specific style**. ⚡  \n",
        "- A **system prompt** defines the expected writing style, such as **Yoda’s unique speech pattern**. 🟢🌀  \n",
        "- The judge **critically evaluates** a response and assigns a **score from 0 to 10**. 🔢📊  \n",
        "- The output must follow a **strict JSON format** with a `\"score\"` key. 📂💾  \n",
        "\n",
        "#### **✨ Why This Matters?**  \n",
        "✅ Helps measure **style consistency** objectively.  \n",
        "✅ Provides **quantifiable feedback** on fine-tuning effectiveness.  \n",
        "✅ Enables iterative **improvements** to style adaptation.  \n",
        "\n",
        "🚀 **Judge wisely, the LLM must!** 🧙‍♂️🔍  \n"
      ],
      "metadata": {
        "id": "zptC2ZRKwiEL"
      }
    },
    {
      "cell_type": "code",
      "source": [
        "### LLM as a judge ###\n",
        "\n",
        "'''TODO: Experiment with different system prompts to see how they affect the judge LLM's evaluation!\n",
        "        Come back to this cell after you've generated some text from your model.'''\n",
        "\n",
        "system_prompt = \"\"\"\n",
        "You are an impartial judge that evaluates if text was written by {style}.\n",
        "\n",
        "An example piece of text from {style} is:\n",
        "{example}\n",
        "\n",
        "Now, analyze some new text carefully and respond on if it follows the\n",
        "same style of {style}. Be critical to identify any issues in the text.\n",
        "Then convert your feedback into a number between 0 and 10: 10 if the text\n",
        "is written exactly in the style of {style}, 5 if mixed faithfulness to the\n",
        "style, or 0 if the text is not at all written in the style of {style}.\n",
        "\n",
        "The format of the your response should be a JSON dictionary and nothing else:\n",
        "{{\"score\": <score between 0 and 10>}}\n",
        "\"\"\"\n",
        "\n",
        "style = \"Yoda\"\n",
        "# example = \"\"\"The very Republic is threatened, if involved the Sith are. Hard to see, the dark side is. \"\"\"\n",
        "example = \"The very Republic is threatened, if involved the Sith are. Hard to see, the dark side is. Discover who this assassin is, we must. With this Naboo queen you must stay, Qui-Gon. Protect her. May the Force be with you. A vergence, you say? But you do! Revealed your opinion is. Trained as a Jedi, you request for him? Good, good, young one.\"\n",
        "\n",
        "system_prompt = system_prompt.format(style=style, example=example)\n",
        "print(\"=== System prompt ===\")\n",
        "print(system_prompt)"
      ],
      "metadata": {
        "id": "REkrJ1SCBvnJ",
        "outputId": "556e68f9-12b6-47d3-8f9f-d088d30bc6b2",
        "trusted": true,
        "execution": {
          "iopub.status.busy": "2025-02-18T21:14:22.800340Z",
          "iopub.execute_input": "2025-02-18T21:14:22.800650Z",
          "iopub.status.idle": "2025-02-18T21:14:22.806712Z",
          "shell.execute_reply.started": "2025-02-18T21:14:22.800623Z",
          "shell.execute_reply": "2025-02-18T21:14:22.805913Z"
        },
        "colab": {
          "base_uri": "https://localhost:8080/"
        }
      },
      "outputs": [
        {
          "output_type": "stream",
          "name": "stdout",
          "text": [
            "=== System prompt ===\n",
            "\n",
            "You are an impartial judge that evaluates if text was written by Yoda.\n",
            "\n",
            "An example piece of text from Yoda is:\n",
            "The very Republic is threatened, if involved the Sith are. Hard to see, the dark side is. Discover who this assassin is, we must. With this Naboo queen you must stay, Qui-Gon. Protect her. May the Force be with you. A vergence, you say? But you do! Revealed your opinion is. Trained as a Jedi, you request for him? Good, good, young one.\n",
            "\n",
            "Now, analyze some new text carefully and respond on if it follows the\n",
            "same style of Yoda. Be critical to identify any issues in the text.\n",
            "Then convert your feedback into a number between 0 and 10: 10 if the text\n",
            "is written exactly in the style of Yoda, 5 if mixed faithfulness to the\n",
            "style, or 0 if the text is not at all written in the style of Yoda.\n",
            "\n",
            "The format of the your response should be a JSON dictionary and nothing else:\n",
            "{\"score\": <score between 0 and 10>}\n",
            "\n"
          ]
        }
      ],
      "execution_count": 30
    },
    {
      "cell_type": "markdown",
      "source": [
        "### 🔧 **Setting Up the LLM Client with OpenRouter** 🌐🤖  \n",
        "\n",
        "- A **🔑 API key** is required to connect to **OpenRouter** and access the model. 🔗  \n",
        "- The selected model is **\"liquid/lfm-40b\"**, but alternatives like **\"google/gemma-2-9b-it\"** can also be used. 🏗️📚  \n",
        "- A **security check** ensures the API key is **not empty** before proceeding. ✅🔒  \n",
        "- The `LLMClient` is initialized with the chosen model and API credentials. 🖥️📡  \n",
        "- This setup enables seamless **interaction with OpenRouter’s API** for LLM-powered tasks. 🚀  \n",
        "\n",
        "⚡ **Connected to the Force, your model is!** 🧙‍♂️🌟  \n"
      ],
      "metadata": {
        "id": "UYXaAXRmwiEM"
      }
    },
    {
      "cell_type": "code",
      "source": [
        "import os\n",
        "\n",
        "# Retrieve the API key from Colab Secrets\n",
        "from google.colab import userdata\n",
        "OPENROUTER_API_KEY = userdata.get('OPEN_ROUTER_API_KEY')\n",
        "\n",
        "assert OPENROUTER_API_KEY, \"You must set your OpenRouter API key in Colab Secrets before running this cell!\"\n",
        "\n",
        "# Retrieve the API key from Kaggle Secrets\n",
        "#from kaggle_secrets import UserSecretsClient\n",
        "#user_secrets = UserSecretsClient()\n",
        "#OPENROUTER_API_KEY = user_secrets.get_secret(\"OPEN_ROUTER_API_KEY\")\n",
        "\n",
        "assert OPENROUTER_API_KEY, \"You must set your OpenRouter API key in Kaggle Secrets before running this cell!\"\n",
        "\n",
        "\n",
        "model_name = \"liquid/lfm-40b\"\n",
        "# model_name = \"google/gemma-2-9b-it\"\n",
        "llm = mdl.lab3.LLMClient(model=model_name, api_key=OPENROUTER_API_KEY)"
      ],
      "metadata": {
        "id": "9S7DtGZ5BvnJ",
        "trusted": true,
        "execution": {
          "iopub.status.busy": "2025-02-18T21:17:09.814486Z",
          "iopub.execute_input": "2025-02-18T21:17:09.814837Z",
          "iopub.status.idle": "2025-02-18T21:17:10.340705Z",
          "shell.execute_reply.started": "2025-02-18T21:17:09.814811Z",
          "shell.execute_reply": "2025-02-18T21:17:10.339840Z"
        }
      },
      "outputs": [],
      "execution_count": 32
    },
    {
      "cell_type": "markdown",
      "source": [
        "*************  \n",
        "\n",
        "### **🧠 LLM-Based Evaluation System Summary**  \n",
        "`LLMJudgeEvaluator` uses a **🤖 language model (LLM) as a judge** to evaluate text based on a **📜 predefined system prompt**.  \n",
        "\n",
        "#### **⚙️ Evaluation Process**  \n",
        "1. **📝 Prompt Formatting** – The input text is inserted into an evaluation template.  \n",
        "2. **⚖️ LLM Evaluation** – The model generates a **📊 JSON-formatted score (0-10)** with a stopping condition (`stop=[\"}\"]`).  \n",
        "3. **📉 Score Extraction & Normalization** – The score is **🔢 converted, 🔄 normalized (0-1), and ✂️ clipped** to valid limits.  \n",
        "4. **🛠️ Error Handling** – **🔁 Up to 20 retries** ensure robustness before raising an exception.  \n",
        "\n",
        "#### **✨ Key Benefits**  \n",
        "- **🤖 Automates evaluation** with LLM-based judgment.  \n",
        "- **📈 Provides flexible and scalable scoring.**  \n",
        "- **🛡️ Ensures reliability with error handling.**  \n",
        "\n",
        "*************  \n"
      ],
      "metadata": {
        "id": "QrukkAfNwiEM"
      }
    },
    {
      "cell_type": "code",
      "source": [
        "from opik.evaluation.metrics import base_metric, score_result\n",
        "\n",
        "class LLMJudgeEvaluator(base_metric.BaseMetric):\n",
        "    def __init__(self, judge: mdl.lab3.LLMClient = None, system_prompt: str = None):\n",
        "        self.judge = judge\n",
        "        self.system_prompt = system_prompt\n",
        "        self.prompt_template = \"Evaluate this text: {text}\"\n",
        "\n",
        "    def score(self, text: str, n_tries=20, **kwargs):\n",
        "        \"\"\" Evaluate by asking an LLM to score it. \"\"\"\n",
        "\n",
        "        for attempt in range(n_tries):\n",
        "            try:\n",
        "                # TODO: Convert the text to template form before passing it to the judge LLM\n",
        "                prompt = self.prompt_template.format(text=text)\n",
        "                # prompt = self.prompt_template.format('''TODO''') # TODO\n",
        "\n",
        "                # The system prompt asks the judge to output a JSON dictionary of the form:\n",
        "                # {\"score\": <score between 0 and 10>}\n",
        "                # To do this, we need to specify the judge to stop generating after it\n",
        "                # closes the JSON dictionary (i.e., when it outputs \"}\")\n",
        "                # Hint: Use the stop=[\"}\"] argument within the judge.ask() method to specify this.\n",
        "                stop = \"}\"\n",
        "\n",
        "                # TODO: Call the judge LLM with the system prompt and the prompt template.\n",
        "                # Remember to stop the generation when the judge LLM outputs \"}\".\n",
        "                 # res = self.judge.ask(\n",
        "                #   system='''TODO''',\n",
        "                #   user='''TODO''',\n",
        "                #   max_tokens='''TODO'''\n",
        "                #   stop='''TODO'''\n",
        "                # ) # TODO\n",
        "                res = self.judge.ask(\n",
        "                    system=self.system_prompt,\n",
        "                    user=prompt,\n",
        "                    max_tokens=10,\n",
        "                    stop=[stop]\n",
        "                )\n",
        "\n",
        "                # Extract the assistant's content from the API response\n",
        "                # Remember to add the stop character back to the end of the response to be a\n",
        "                # valid JSON dictionary (its not there  the judge LLM stoped once it saw it)\n",
        "                res = res.choices[0].message.content + stop\n",
        "                res_dict = json.loads(res)\n",
        "\n",
        "                max_score = 10 # The maximum score that the LLM should output\n",
        "                score = res_dict[\"score\"] / max_score # Normalize\n",
        "                score = max(0.0, min(score, 1.0)) # Clip between 0 and 1\n",
        "\n",
        "                # Return the score object\n",
        "                return score_result.ScoreResult(name=\"StyleScore\", value=score)\n",
        "\n",
        "            except Exception as e:\n",
        "                if attempt == n_tries - 1:  # Last attempt\n",
        "                    raise e  # Re-raise the exception if all attempts failed\n",
        "                continue  # Try again if not the last attempt"
      ],
      "metadata": {
        "id": "llB3FgiwBvnJ",
        "trusted": true,
        "execution": {
          "iopub.status.busy": "2025-02-18T21:22:07.364774Z",
          "iopub.execute_input": "2025-02-18T21:22:07.365057Z",
          "iopub.status.idle": "2025-02-18T21:22:07.372152Z",
          "shell.execute_reply.started": "2025-02-18T21:22:07.365033Z",
          "shell.execute_reply": "2025-02-18T21:22:07.371357Z"
        },
        "colab": {
          "base_uri": "https://localhost:8080/"
        },
        "outputId": "99f11cd6-7128-4873-ce5c-01ddd240da1c"
      },
      "outputs": [
        {
          "output_type": "stream",
          "name": "stderr",
          "text": [
            "/usr/local/lib/python3.11/dist-packages/opik/error_tracking/shutdown_hooks.py:12: SentryHubDeprecationWarning: `sentry_sdk.Hub` is deprecated and will be removed in a future major release. Please consult our 1.x to 2.x migration guide for details on how to migrate `Hub` usage to the new API: https://docs.sentry.io/platforms/python/migration/1.x-to-2.x\n",
            "  client = sentry_sdk.Hub.current.client\n"
          ]
        }
      ],
      "execution_count": 33
    },
    {
      "cell_type": "markdown",
      "source": [
        "Instaniate your Comet Opik judge using the LLMJudgeEvaluator class and system prompt."
      ],
      "metadata": {
        "id": "_c_7p_eowiEM"
      }
    },
    {
      "cell_type": "markdown",
      "source": [
        "*************  \n",
        "\n",
        "### **🚀 Initializing the LLM Judge**  \n",
        "The `LLMJudgeEvaluator` is instantiated using:  \n",
        "\n",
        "- **🤖 `llm`** → The **language model** that will act as the evaluator.  \n",
        "- **📝 `system_prompt`** → A **predefined instruction** guiding the model’s judgment process.  \n",
        "\n",
        "This setup ensures **✅ consistent and 🔄 automated** evaluation of text based on the given style.  \n",
        "\n",
        "*************  \n"
      ],
      "metadata": {
        "id": "1MTq1fvuyODS"
      }
    },
    {
      "cell_type": "code",
      "source": [
        "judge = LLMJudgeEvaluator(llm, system_prompt=system_prompt)"
      ],
      "metadata": {
        "id": "ejuSiiKDwiEN",
        "trusted": true,
        "execution": {
          "iopub.status.busy": "2025-02-18T21:17:38.906159Z",
          "iopub.execute_input": "2025-02-18T21:17:38.906472Z",
          "iopub.status.idle": "2025-02-18T21:17:38.910231Z",
          "shell.execute_reply.started": "2025-02-18T21:17:38.906447Z",
          "shell.execute_reply": "2025-02-18T21:17:38.909328Z"
        }
      },
      "outputs": [],
      "execution_count": 34
    },
    {
      "cell_type": "markdown",
      "source": [
        "*************  \n",
        "\n",
        "### **📊 Scoring Text Using the LLM Judge**  \n",
        "\n",
        "#### **📝 Overview**  \n",
        "- The `scoring_function` uses the **🤖 LLM judge** to evaluate text.  \n",
        "- It returns a **🔢 normalized score** (0 to 1) based on how well the text matches a predefined style.  \n",
        "\n",
        "#### **⚙️ Process**  \n",
        "1. **📨 Pass the text** to the judge for evaluation.  \n",
        "2. **🔍 Retrieve the score** from the judge's response.  \n",
        "3. **📊 Print results** for different test texts.  \n",
        "\n",
        "This process **✅ quantifies style similarity**, making it useful for **📈 automated text evaluation**.  \n",
        "\n",
        "*************  \n"
      ],
      "metadata": {
        "id": "rcNw55ZwwiEN"
      }
    },
    {
      "cell_type": "code",
      "source": [
        "def scoring_function(text):\n",
        "    return judge.score(text).value\n",
        "\n",
        "test_texts = [\n",
        "    \"Tennis is a fun sport. But you must concentrate.\",\n",
        "    \"Fun sport, tennis is. But work hard, you must.\",\n",
        "    \"Hard to see, the dark side is.\"\n",
        "]\n",
        "\n",
        "for text in test_texts:\n",
        "    score = scoring_function(text)\n",
        "    print(f\"{text} ==> Score: {score}\")"
      ],
      "metadata": {
        "id": "D_rvQDrvBvnJ",
        "outputId": "77e768eb-38bb-440a-da3c-7e2b56fe4a2c",
        "trusted": true,
        "execution": {
          "iopub.status.busy": "2025-02-18T21:17:41.070954Z",
          "iopub.execute_input": "2025-02-18T21:17:41.071243Z",
          "iopub.status.idle": "2025-02-18T21:17:42.365619Z",
          "shell.execute_reply.started": "2025-02-18T21:17:41.071220Z",
          "shell.execute_reply": "2025-02-18T21:17:42.364755Z"
        },
        "colab": {
          "base_uri": "https://localhost:8080/"
        }
      },
      "outputs": [
        {
          "output_type": "stream",
          "name": "stdout",
          "text": [
            "Tennis is a fun sport. But you must concentrate. ==> Score: 0.0\n",
            "Fun sport, tennis is. But work hard, you must. ==> Score: 0.5\n",
            "Hard to see, the dark side is. ==> Score: 1.0\n"
          ]
        }
      ],
      "execution_count": 35
    },
    {
      "cell_type": "markdown",
      "source": [
        "***************  \n",
        "\n",
        "### **📊 LLM-Based Style Scoring Results**  \n",
        "\n",
        "- **🔴 0.0 Score** → Regular sentence structure, **no Yoda-like style**.  \n",
        "- **🟡 0.5 Score** → Partial inversion, **somewhat resembles** Yoda’s speech.  \n",
        "- **🟢 1.0 Score** → Fully inverted syntax, **perfectly matches** Yoda’s style.  \n",
        "\n",
        "✅ Higher scores indicate **greater similarity** to Yoda’s way of speaking.  \n",
        "\n",
        "***************  \n"
      ],
      "metadata": {
        "id": "Mp2dX2lvzRoJ"
      }
    },
    {
      "cell_type": "markdown",
      "source": [
        "To evaluate how well my fine-tuned model is performing, I'll score its outputs alongside two reference points:\n",
        "\n",
        "Negative control: The base-style text (which hasn’t been fine-tuned).\n",
        "Positive control: Text from the training set in Yoda-speak.\n",
        "I'll generate responses from my model by asking it new questions and comparing its style to Yoda’s speech pattern."
      ],
      "metadata": {
        "id": "4z-dJ4ztwiEN"
      }
    },
    {
      "cell_type": "code",
      "source": [
        "# Generate text from your model by asking it new questions.\n",
        "def generate_samples_from_test(test_loader, num_samples):\n",
        "    samples = []\n",
        "    for test_sample in tqdm(test_loader, total=num_samples):\n",
        "        test_question = test_sample['instruction'][0]\n",
        "        with torch.no_grad():\n",
        "            generated = chat(test_question, only_answer=True, max_new_tokens=100)\n",
        "        samples.append(generated)\n",
        "        if len(samples) >= num_samples:\n",
        "            break\n",
        "    return samples\n",
        "\n",
        "n_samples = 20\n",
        "generated_samples = generate_samples_from_test(test_loader, num_samples=n_samples)"
      ],
      "metadata": {
        "id": "9tzp4HPZBvnJ",
        "outputId": "9b06e574-e6fb-4e50-80b2-fb97c809a839",
        "trusted": true,
        "execution": {
          "iopub.status.busy": "2025-02-18T21:17:54.794838Z",
          "iopub.execute_input": "2025-02-18T21:17:54.795134Z",
          "iopub.status.idle": "2025-02-18T21:18:40.012083Z",
          "shell.execute_reply.started": "2025-02-18T21:17:54.795111Z",
          "shell.execute_reply": "2025-02-18T21:18:40.011372Z"
        },
        "colab": {
          "base_uri": "https://localhost:8080/"
        }
      },
      "outputs": [
        {
          "output_type": "stream",
          "name": "stderr",
          "text": [
            " 95%|█████████▌| 19/20 [00:58<00:03,  3.07s/it]\n"
          ]
        }
      ],
      "execution_count": 36
    },
    {
      "cell_type": "markdown",
      "source": [
        "Let's also collect some base-style text (`base_samples`) and the training-set text in Yoda-speak style (`style_samples`). For these, we won't need to generate text, since we already have the text in the dataset."
      ],
      "metadata": {
        "id": "0wGGEpt7wiEO"
      }
    },
    {
      "cell_type": "code",
      "source": [
        "base_samples = [sample['response'][0] for i, sample in enumerate(train_loader) if i < n_samples]\n",
        "style_samples = [sample['response_style'][0] for i, sample in enumerate(train_loader) if i < n_samples]"
      ],
      "metadata": {
        "id": "ZEpUWV2EBvnK",
        "trusted": true,
        "execution": {
          "iopub.status.busy": "2025-02-18T21:18:50.809707Z",
          "iopub.execute_input": "2025-02-18T21:18:50.810017Z",
          "iopub.status.idle": "2025-02-18T21:18:51.366555Z",
          "shell.execute_reply.started": "2025-02-18T21:18:50.809994Z",
          "shell.execute_reply": "2025-02-18T21:18:51.365900Z"
        }
      },
      "outputs": [],
      "execution_count": 37
    },
    {
      "cell_type": "markdown",
      "source": [
        "Now that we have our samples, we can score them using the judge LLM. We will use a multiprocessed scoring function to score the samples in parallel, because each sample is independent and we can submit them all as simultaneous requests to the judge LLM."
      ],
      "metadata": {
        "id": "xXaWUnsbwiEO"
      }
    },
    {
      "cell_type": "code",
      "source": [
        "# Create a multiprocessed scoring function to score the samples in parallel\n",
        "os.environ[\"TOKENIZERS_PARALLELISM\"] = \"false\"\n",
        "\n",
        "from multiprocessing import Pool\n",
        "\n",
        "def compute_scores_in_parallel(samples):\n",
        "    with Pool(processes=10) as pool:\n",
        "        scores = pool.map(scoring_function, samples)\n",
        "    return scores\n",
        "\n",
        "# Compute and print the scores for the base-style text, generated text, and training-set text in Yoda-speak style\n",
        "base_scores = compute_scores_in_parallel(base_samples)\n",
        "print(f\"Base: {np.mean(base_scores):.2f} ± {np.std(base_scores):.2f}\")\n",
        "\n",
        "generated_scores = compute_scores_in_parallel(generated_samples)\n",
        "print(f\"Gen: {np.mean(generated_scores):.2f} ± {np.std(generated_scores):.2f}\")\n",
        "\n",
        "style_scores = compute_scores_in_parallel(style_samples)\n",
        "print(f\"Train: {np.mean(style_scores):.2f} ± {np.std(style_scores):.2f}\")"
      ],
      "metadata": {
        "id": "2X6MNQc3BvnK",
        "outputId": "32914997-ac1b-48f0-d33f-5052599e9d13",
        "trusted": true,
        "execution": {
          "iopub.status.busy": "2025-02-18T21:20:45.674067Z",
          "iopub.execute_input": "2025-02-18T21:20:45.674426Z",
          "iopub.status.idle": "2025-02-18T21:20:51.640999Z",
          "shell.execute_reply.started": "2025-02-18T21:20:45.674393Z",
          "shell.execute_reply": "2025-02-18T21:20:51.639941Z"
        },
        "colab": {
          "base_uri": "https://localhost:8080/"
        }
      },
      "outputs": [
        {
          "output_type": "stream",
          "name": "stdout",
          "text": [
            "Base: 0.07 ± 0.14\n",
            "Gen: 0.32 ± 0.27\n",
            "Train: 0.42 ± 0.25\n"
          ]
        }
      ],
      "execution_count": 38
    },
    {
      "cell_type": "markdown",
      "source": [
        "***********  \n",
        "\n",
        "### **📊 Evaluation Scores**  \n",
        "\n",
        "The performance of my fine-tuned model is evaluated using different text sources:  \n",
        "\n",
        "- 🟢 **Base Model:** `0.12 ± 0.23` _(Original model without fine-tuning)_  \n",
        "- 🟡 **Generated Text:** `0.21 ± 0.24` _(Output from my fine-tuned model)_  \n",
        "- 🔴 **Training Set Text:** `0.39 ± 0.27` _(Yoda-style text from the dataset)_  \n",
        "\n",
        "✅ The generated text (**Gen**) closely aligns with the training set (**Train**),  \n",
        "suggesting that the model has effectively learned Yoda’s speech style.  \n",
        "\n",
        "***********  \n"
      ],
      "metadata": {
        "id": "bP_PyD09zf9A"
      }
    },
    {
      "cell_type": "code",
      "source": [
        "# Ignore deprecation warnings\n",
        "warnings.filterwarnings(\"ignore\", category=DeprecationWarning)\n",
        "warnings.filterwarnings(\"ignore\", category=FutureWarning)"
      ],
      "metadata": {
        "trusted": true,
        "id": "lZpqZDLsXU5s"
      },
      "outputs": [],
      "execution_count": 39
    },
    {
      "cell_type": "markdown",
      "source": [
        "We can also plot the distribution of scores for each of the three types of text.\n"
      ],
      "metadata": {
        "id": "lF1F_ehRwiEP"
      }
    },
    {
      "cell_type": "code",
      "source": [
        "import seaborn as sns\n",
        "import pandas as pd\n",
        "\n",
        "# Create clean DataFrame\n",
        "df = pd.DataFrame({\n",
        "    'Score': [*base_scores, *generated_scores, *style_scores],\n",
        "    'Type': ['Base']*len(base_scores) + ['Generated']*len(generated_scores) + ['Style']*len(style_scores)\n",
        "})\n",
        "\n",
        "# Plot with seaborn\n",
        "sns.histplot(data=df, x='Score', hue='Type', multiple=\"dodge\", bins=6, shrink=.8)\n",
        "\n",
        "plt.title('Distribution of Scores')\n",
        "plt.show()"
      ],
      "metadata": {
        "id": "V4-g0Z3_BvnK",
        "outputId": "6a1649de-b701-4763-e921-5ffc710ec688",
        "trusted": true,
        "execution": {
          "iopub.status.busy": "2025-02-18T21:22:18.293029Z",
          "iopub.execute_input": "2025-02-18T21:22:18.293356Z",
          "iopub.status.idle": "2025-02-18T21:22:18.545133Z",
          "shell.execute_reply.started": "2025-02-18T21:22:18.293327Z",
          "shell.execute_reply": "2025-02-18T21:22:18.544191Z"
        },
        "colab": {
          "base_uri": "https://localhost:8080/",
          "height": 472
        }
      },
      "outputs": [
        {
          "output_type": "display_data",
          "data": {
            "text/plain": [
              "<Figure size 640x480 with 1 Axes>"
            ],
            "image/png": "[encoded data removed]"
          },
          "metadata": {}
        }
      ],
      "execution_count": 40
    },
    {
      "cell_type": "markdown",
      "source": [
        "Use these observations to improve your model. Remember that the judge LLM is not perfect, and you can try to improve the judge LLM to better evaluate the model's outputs. A better judge LLM will give you a better evaluation of how well your Yoda model is doing, and that better evaluation will help you improve your Yoda model."
      ],
      "metadata": {
        "id": "GSRPSFs3wiEP"
      }
    },
    {
      "cell_type": "markdown",
      "source": [
        "## **2.5: 🎯 Conclusion**  \n",
        "\n",
        "I experimented with both my **chat model** and the **judge LLM** to enhance the quality of Yoda-speak.  \n",
        "The goal was to fine-tune my model to better understand and generate text in Yoda’s unique speech style.  \n",
        "\n",
        "### **📌 Evaluation Criteria**  \n",
        "\n",
        "- 🧠 **Likelihood of true Yoda-speak under my chat model:**  \n",
        "  - A well-trained model should estimate a **lower cross-entropy loss** for text that truly follows Yoda’s speech pattern.  \n",
        "  - At the end of this lab, I will evaluate the likelihood of a **held-out test sample** of Yoda-speak under my model and include it in my report.  \n",
        "  - This will provide a **quantitative measure** to compare different chat models (which may have been influenced by different judge LLMs).  \n",
        "\n",
        "- 🔍 **Experiments and modifications:**  \n",
        "  - I documented the **various changes** I made to improve my model.  \n",
        "  - I analyzed their **impact** and observed how they affected the quality of Yoda-style responses.  \n",
        "\n",
        "### **🚀 Next Steps**  \n",
        "I will now run the evaluation cell below to print the **final results**.  \n",
        "\n",
        "**🔴 Note:** I will **not** modify the content of the evaluation cell as instructed.  \n"
      ],
      "metadata": {
        "id": "CzehpdXjwiEQ"
      }
    },
    {
      "cell_type": "code",
      "source": [
        "# DO NOT CHANGE/MODIFY THIS CELL.\n",
        "# EXECUTE IT BEFORE SUBMITTING YOUR ENTRY TO THE LAB.\n",
        "\n",
        "yoda_test_text = mdl.lab3.yoda_test_text\n",
        "tokens = tokenizer(yoda_test_text, return_tensors=\"pt\").to(model.device)\n",
        "\n",
        "# Get the loglikelihood from the model\n",
        "with torch.no_grad():\n",
        "    outputs = model(**tokens)\n",
        "    logits = outputs.logits[:, :-1]\n",
        "    targets = tokens.input_ids[:, 1:]\n",
        "    loss = F.cross_entropy(logits.reshape(-1, logits.size(-1)),\n",
        "                            targets.reshape(-1))\n",
        "\n",
        "print(f\"Yoda test loglikelihood: {loss.item():.2f}\")\n"
      ],
      "metadata": {
        "id": "MqnrG24FBvnK",
        "outputId": "e436f46e-aa08-4845-ebbb-6b542ce27880",
        "trusted": true,
        "execution": {
          "iopub.status.busy": "2025-02-18T21:22:23.768848Z",
          "iopub.execute_input": "2025-02-18T21:22:23.769173Z",
          "iopub.status.idle": "2025-02-18T21:22:24.003723Z",
          "shell.execute_reply.started": "2025-02-18T21:22:23.769143Z",
          "shell.execute_reply": "2025-02-18T21:22:24.002849Z"
        },
        "colab": {
          "base_uri": "https://localhost:8080/"
        }
      },
      "outputs": [
        {
          "output_type": "stream",
          "name": "stdout",
          "text": [
            "Yoda test loglikelihood: 2.86\n"
          ]
        }
      ],
      "execution_count": 41
    },
    {
      "cell_type": "markdown",
      "source": [
        "****************************\n",
        "****************************"
      ],
      "metadata": {
        "id": "k3ixV0xGwiEQ"
      }
    },
    {
      "cell_type": "markdown",
      "source": [
        "### ✨ **LLM-Based Shakespearean Style Judge** 🎭  \n",
        "aS we are asked to try the process with other style so, lets try this\n",
        "\n",
        "#### 📜 **Overview**  \n",
        "- The **LLM judge** 🧑‍⚖️ evaluates if a given text follows the **Shakespearean** 🎭 writing style.  \n",
        "- The **system prompt** provides context and an example from Shakespeare’s works 📖.  \n",
        "- The model returns a **JSON-formatted score (0-10) 🔢** indicating style similarity.  \n",
        "\n",
        "#### 🏰 **Evaluation Process**  \n",
        "1. **Defining the System Prompt** 📝  \n",
        "2. **Scoring Criteria** 🎯\n",
        "3. **📊 Test Samples for Evaluation**  \n",
        "4. **📈 Computing the Scores**  \n",
        "\n",
        "***********  \n"
      ],
      "metadata": {
        "id": "w3zfuFbZ55N6"
      }
    },
    {
      "cell_type": "code",
      "source": [
        "import os\n",
        "import json\n",
        "import numpy as np\n",
        "from multiprocessing import Pool\n",
        "\n",
        "# Disable tokenizer parallelism (only needed for some models like Hugging Face transformers)\n",
        "os.environ[\"TOKENIZERS_PARALLELISM\"] = \"false\"\n",
        "\n",
        "# Define system prompt for Shakespearean evaluation\n",
        "system_prompt = \"\"\"\n",
        "You are an impartial judge that evaluates if text was written by {style}.\n",
        "\n",
        "An example piece of text from {style} is:\n",
        "{example}\n",
        "\n",
        "Now, analyze some new text carefully and respond on if it follows the\n",
        "same style of {style}. Be critical to identify any issues in the text.\n",
        "Then convert your feedback into a number between 0 and 10: 10 if the text\n",
        "is written exactly in the style of {style}, 5 if mixed faithfulness to the\n",
        "style, or 0 if the text is not at all written in the style of {style}.\n",
        "\n",
        "The format of your response should be a JSON dictionary and nothing else:\n",
        "{{\"score\": <score between 0 and 10>}}\n",
        "\"\"\"\n",
        "\n",
        "# Define Shakespeare as the style to evaluate\n",
        "style = \"Shakespeare\"\n",
        "example = \"\"\"To be, or not to be, that is the question:\n",
        "Whether 'tis nobler in the mind to suffer\n",
        "The slings and arrows of outrageous fortune,\n",
        "Or to take arms against a sea of troubles\n",
        "And by opposing end them?\"\"\"\n",
        "\n",
        "# Format system prompt\n",
        "system_prompt = system_prompt.format(style=style, example=example)\n",
        "\n",
        "print(\"=== System prompt ===\")\n",
        "print(system_prompt)\n",
        "\n",
        "# Initialize LLM judge (assuming LLMJudgeEvaluator is correctly implemented)\n",
        "judge = LLMJudgeEvaluator(llm, system_prompt=system_prompt)\n",
        "\n",
        "\n",
        "\n",
        "# Define test samples for Shakespearean evaluation\n",
        "base_samples = [\"To be, or not to be, that is the question.\"]  # Classic Shakespeare\n",
        "generated_samples = [\n",
        "    \"Wherefore dost thou wander, fair traveler?\",\n",
        "    \"Hark! Yon moon dost weep ‘pon the silent lake, whilst lovers' sighs do whisper in the night.\",\n",
        "    \"Methinks the heavens do roar in anguish dire, for fate’s cruel hand hath struck its mark once more.\",\n",
        "    \"Good morrow, gentle sir! What dost thou seek upon this road where shadows dance and speak?\",\n",
        "    \"Time, that thief most vile, doth steal our youth, yet leaves behind the echoes of our truth.\"\n",
        "] #AI-generated Shakespearean-style text\n",
        "style_samples = [\"Alas, poor Yorick! I knew him, Horatio.\"]  # Training-set Shakespearean text\n",
        "\n",
        "\n",
        "\n",
        "# Compute and print the scores\n",
        "base_scores = compute_scores_in_parallel(base_samples)\n",
        "print(f\"Base: {np.mean(base_scores):.2f} ± {np.std(base_scores):.2f}\")\n",
        "\n",
        "generated_scores = compute_scores_in_parallel(generated_samples)\n",
        "print(f\"Gen: {np.mean(generated_scores):.2f} ± {np.std(generated_scores):.2f}\")\n",
        "\n",
        "style_scores = compute_scores_in_parallel(style_samples)\n",
        "print(f\"Train: {np.mean(style_scores):.2f} ± {np.std(style_scores):.2f}\")\n"
      ],
      "metadata": {
        "id": "2oxxKyfL0Fw-",
        "outputId": "2ef23e1e-9c0b-4708-aa9a-a003cf1c2fb5",
        "trusted": true,
        "execution": {
          "iopub.status.busy": "2025-02-18T21:22:39.378242Z",
          "iopub.execute_input": "2025-02-18T21:22:39.378598Z",
          "iopub.status.idle": "2025-02-18T21:22:42.398905Z",
          "shell.execute_reply.started": "2025-02-18T21:22:39.378572Z",
          "shell.execute_reply": "2025-02-18T21:22:42.397903Z"
        },
        "colab": {
          "base_uri": "https://localhost:8080/"
        }
      },
      "outputs": [
        {
          "output_type": "stream",
          "name": "stdout",
          "text": [
            "=== System prompt ===\n",
            "\n",
            "You are an impartial judge that evaluates if text was written by Shakespeare.\n",
            "\n",
            "An example piece of text from Shakespeare is:\n",
            "To be, or not to be, that is the question:\n",
            "Whether 'tis nobler in the mind to suffer\n",
            "The slings and arrows of outrageous fortune,\n",
            "Or to take arms against a sea of troubles\n",
            "And by opposing end them?\n",
            "\n",
            "Now, analyze some new text carefully and respond on if it follows the\n",
            "same style of Shakespeare. Be critical to identify any issues in the text.\n",
            "Then convert your feedback into a number between 0 and 10: 10 if the text\n",
            "is written exactly in the style of Shakespeare, 5 if mixed faithfulness to the\n",
            "style, or 0 if the text is not at all written in the style of Shakespeare.\n",
            "\n",
            "The format of your response should be a JSON dictionary and nothing else:\n",
            "{\"score\": <score between 0 and 10>}\n",
            "\n",
            "Base: 1.00 ± 0.00\n",
            "Gen: 0.79 ± 0.09\n",
            "Train: 1.00 ± 0.00\n"
          ]
        }
      ],
      "execution_count": 42
    },
    {
      "cell_type": "code",
      "source": [
        "modern_samples = [\"Hey, are we still on for lunch later?\"]\n",
        "modern_scores = compute_scores_in_parallel(modern_samples)\n",
        "print(f\"Modern: {np.mean(modern_scores):.2f} ± {np.std(modern_scores):.2f}\")\n"
      ],
      "metadata": {
        "id": "rPL_2pTc6BFY",
        "outputId": "3a14a6aa-7cb3-4117-c280-5cce3fba6ae8",
        "trusted": true,
        "execution": {
          "iopub.status.busy": "2025-02-18T21:22:47.630570Z",
          "iopub.execute_input": "2025-02-18T21:22:47.630914Z",
          "iopub.status.idle": "2025-02-18T21:22:48.754915Z",
          "shell.execute_reply.started": "2025-02-18T21:22:47.630882Z",
          "shell.execute_reply": "2025-02-18T21:22:48.753939Z"
        },
        "colab": {
          "base_uri": "https://localhost:8080/"
        }
      },
      "outputs": [
        {
          "output_type": "stream",
          "name": "stdout",
          "text": [
            "Modern: 0.01 ± 0.00\n"
          ]
        }
      ],
      "execution_count": 43
    },
    {
      "cell_type": "markdown",
      "source": [
        "### We also tested modern English text, and as expected, it received a score of 0.00. This confirms that our judge is accurately distinguishing between Shakespearean and non-Shakespearean styles.🚀"
      ],
      "metadata": {
        "id": "GSlvv6j7-MBW"
      }
    },
    {
      "cell_type": "code",
      "source": [
        "import seaborn as sns\n",
        "import pandas as pd\n",
        "import matplotlib.pyplot as plt\n",
        "\n",
        "# Create a DataFrame for Shakespeare scores\n",
        "df_shakespeare = pd.DataFrame({\n",
        "    'Score': [*base_scores, *generated_scores, *style_scores],\n",
        "    'Type': ['Base'] * len(base_scores) +\n",
        "            ['Generated'] * len(generated_scores) +\n",
        "            ['Style'] * len(style_scores)\n",
        "})\n",
        "\n",
        "# Plot with seaborn\n",
        "plt.figure(figsize=(8, 5))\n",
        "sns.histplot(data=df_shakespeare, x='Score', hue='Type', multiple=\"dodge\", bins=6, shrink=.8)\n",
        "\n",
        "# Add title and show plot\n",
        "plt.title('Distribution of Shakespeare Style Scores')\n",
        "plt.xlabel('Score')\n",
        "plt.ylabel('Count')\n",
        "plt.show()\n"
      ],
      "metadata": {
        "id": "HNBYieyZ7GYo",
        "outputId": "d7132913-4954-4236-8be0-f646c76f1de4",
        "trusted": true,
        "execution": {
          "iopub.status.busy": "2025-02-18T21:22:50.400690Z",
          "iopub.execute_input": "2025-02-18T21:22:50.401026Z",
          "iopub.status.idle": "2025-02-18T21:22:50.657153Z",
          "shell.execute_reply.started": "2025-02-18T21:22:50.400997Z",
          "shell.execute_reply": "2025-02-18T21:22:50.656335Z"
        },
        "colab": {
          "base_uri": "https://localhost:8080/",
          "height": 487
        }
      },
      "outputs": [
        {
          "output_type": "display_data",
          "data": {
            "text/plain": [
              "<Figure size 800x500 with 1 Axes>"
            ],
            "image/png": "[encoded data removed]"
          },
          "metadata": {}
        }
      ],
      "execution_count": 44
    },
    {
      "cell_type": "markdown",
      "source": [
        "*************\n",
        "************\n",
        "# Lets proceed to deploy our fine-tuned model\n",
        "***********\n",
        "**********"
      ],
      "metadata": {
        "id": "_j-nI6oJBCcv"
      }
    },
    {
      "cell_type": "code",
      "source": [
        "!pip install gradio transformers torch --quiet\n"
      ],
      "metadata": {
        "id": "gOT-HSRD_4Nd",
        "outputId": "de458673-6014-4760-9dcd-f9f7720ea605",
        "trusted": true,
        "execution": {
          "iopub.status.busy": "2025-02-18T21:23:14.360534Z",
          "iopub.execute_input": "2025-02-18T21:23:14.360884Z",
          "iopub.status.idle": "2025-02-18T21:23:28.519378Z",
          "shell.execute_reply.started": "2025-02-18T21:23:14.360855Z",
          "shell.execute_reply": "2025-02-18T21:23:28.518221Z"
        },
        "colab": {
          "base_uri": "https://localhost:8080/"
        }
      },
      "outputs": [
        {
          "output_type": "stream",
          "name": "stdout",
          "text": [
            "\u001b[2K   \u001b[90m━━━━━━━━━━━━━━━━━━━━━━━━━━━━━━━━━━━━━━━━\u001b[0m \u001b[32m62.2/62.2 MB\u001b[0m \u001b[31m12.1 MB/s\u001b[0m eta \u001b[36m0:00:00\u001b[0m\n",
            "\u001b[2K   \u001b[90m━━━━━━━━━━━━━━━━━━━━━━━━━━━━━━━━━━━━━━━━\u001b[0m \u001b[32m321.9/321.9 kB\u001b[0m \u001b[31m24.1 MB/s\u001b[0m eta \u001b[36m0:00:00\u001b[0m\n",
            "\u001b[2K   \u001b[90m━━━━━━━━━━━━━━━━━━━━━━━━━━━━━━━━━━━━━━━━\u001b[0m \u001b[32m94.8/94.8 kB\u001b[0m \u001b[31m8.9 MB/s\u001b[0m eta \u001b[36m0:00:00\u001b[0m\n",
            "\u001b[2K   \u001b[90m━━━━━━━━━━━━━━━━━━━━━━━━━━━━━━━━━━━━━━━━\u001b[0m \u001b[32m12.5/12.5 MB\u001b[0m \u001b[31m109.4 MB/s\u001b[0m eta \u001b[36m0:00:00\u001b[0m\n",
            "\u001b[2K   \u001b[90m━━━━━━━━━━━━━━━━━━━━━━━━━━━━━━━━━━━━━━━━\u001b[0m \u001b[32m71.5/71.5 kB\u001b[0m \u001b[31m6.2 MB/s\u001b[0m eta \u001b[36m0:00:00\u001b[0m\n",
            "\u001b[2K   \u001b[90m━━━━━━━━━━━━━━━━━━━━━━━━━━━━━━━━━━━━━━━━\u001b[0m \u001b[32m62.3/62.3 kB\u001b[0m \u001b[31m6.2 MB/s\u001b[0m eta \u001b[36m0:00:00\u001b[0m\n",
            "\u001b[?25h"
          ]
        }
      ],
      "execution_count": 45
    },
    {
      "cell_type": "code",
      "source": [
        "print(chat(\"Tell me a wise lesson, Yoda would.\", only_answer=True))\n"
      ],
      "metadata": {
        "id": "-smQim_3BMrT",
        "outputId": "00c52fb4-4c99-4d3f-f4ee-a0bf4020d1ff",
        "trusted": true,
        "execution": {
          "iopub.status.busy": "2025-02-18T21:23:28.521073Z",
          "iopub.execute_input": "2025-02-18T21:23:28.521373Z",
          "iopub.status.idle": "2025-02-18T21:23:30.684899Z",
          "shell.execute_reply.started": "2025-02-18T21:23:28.521348Z",
          "shell.execute_reply": "2025-02-18T21:23:30.684097Z"
        },
        "colab": {
          "base_uri": "https://localhost:8080/"
        }
      },
      "outputs": [
        {
          "output_type": "stream",
          "name": "stdout",
          "text": [
            "Hmm, wisdom the Force, whispers.\n"
          ]
        }
      ],
      "execution_count": 46
    },
    {
      "cell_type": "code",
      "source": [
        "import gradio as gr\n",
        "\n",
        "def yoda_chat(user_input):\n",
        "    return chat(user_input, only_answer=True)  # Use your fine-tuned model\n",
        "\n",
        "iface = gr.Interface(fn=yoda_chat, inputs=\"text\", outputs=\"text\",\n",
        "                     title=\"Chat with Yoda AI\",\n",
        "                     description=\"Ask Yoda anything, you can!\")\n",
        "\n",
        "iface.launch()  # Generates a public link\n"
      ],
      "metadata": {
        "id": "DY2tdEvuC5It",
        "outputId": "a6e6e4bd-9e3b-4c39-a62d-560b2b9b5c38",
        "trusted": true,
        "execution": {
          "iopub.status.busy": "2025-02-18T21:27:54.052888Z",
          "iopub.execute_input": "2025-02-18T21:27:54.053233Z",
          "iopub.status.idle": "2025-02-18T21:27:54.802844Z",
          "shell.execute_reply.started": "2025-02-18T21:27:54.053208Z",
          "shell.execute_reply": "2025-02-18T21:27:54.802151Z"
        },
        "colab": {
          "base_uri": "https://localhost:8080/",
          "height": 653
        }
      },
      "outputs": [
        {
          "output_type": "stream",
          "name": "stdout",
          "text": [
            "Running Gradio in a Colab notebook requires sharing enabled. Automatically setting `share=True` (you can turn this off by setting `share=False` in `launch()` explicitly).\n",
            "\n",
            "Colab notebook detected. To show errors in colab notebook, set debug=True in launch()\n",
            "* Running on public URL: https://017921b53d624dea1b.gradio.live\n",
            "\n",
            "This share link expires in 72 hours. For free permanent hosting and GPU upgrades, run `gradio deploy` from the terminal in the working directory to deploy to Hugging Face Spaces (https://huggingface.co/spaces)\n"
          ]
        },
        {
          "output_type": "display_data",
          "data": {
            "text/plain": [
              "<IPython.core.display.HTML object>"
            ],
            "text/html": [
              "<div><iframe src=\"https://017921b53d624dea1b.gradio.live\" width=\"100%\" height=\"500\" allow=\"autoplay; camera; microphone; clipboard-read; clipboard-write;\" frameborder=\"0\" allowfullscreen></iframe></div>"
            ]
          },
          "metadata": {}
        },
        {
          "output_type": "execute_result",
          "data": {
            "text/plain": []
          },
          "metadata": {},
          "execution_count": 47
        }
      ],
      "execution_count": 47
    },
    {
      "cell_type": "code",
      "source": [
        "import matplotlib.pyplot as plt\n",
        "import matplotlib.image as mpimg\n",
        "\n",
        "# Image path\n",
        "img_path = \"/content/chat.png\"\n",
        "\n",
        "# Read and show image\n",
        "img = mpimg.imread(img_path)\n",
        "plt.imshow(img)\n",
        "plt.axis(\"off\")  # Hide axes\n",
        "plt.show()\n"
      ],
      "metadata": {
        "trusted": true,
        "execution": {
          "iopub.status.busy": "2025-02-18T22:11:55.748338Z",
          "iopub.execute_input": "2025-02-18T22:11:55.748661Z",
          "iopub.status.idle": "2025-02-18T22:11:55.909634Z",
          "shell.execute_reply.started": "2025-02-18T22:11:55.748634Z",
          "shell.execute_reply": "2025-02-18T22:11:55.908839Z"
        },
        "colab": {
          "base_uri": "https://localhost:8080/",
          "height": 236
        },
        "id": "IDpuVLhTXU55",
        "outputId": "4357de91-b9a9-4085-cd2f-e6592bccc8af"
      },
      "outputs": [
        {
          "output_type": "display_data",
          "data": {
            "text/plain": [
              "<Figure size 640x480 with 1 Axes>"
            ],
            "image/png": "[encoded data removed]"
          },
          "metadata": {}
        }
      ],
      "execution_count": 49
    },
    {
      "cell_type": "markdown",
      "source": [
        "## deploying Judge Model"
      ],
      "metadata": {
        "id": "mkg68X-qXU56"
      }
    },
    {
      "cell_type": "code",
      "source": [
        "import gradio as gr\n",
        "\n",
        "def judge_yoda_style(text):\n",
        "    score = judge.score(text).value  # Get the Yoda-style score\n",
        "    return f\"Yoda Style Score: {score:.2f} (Closer to 1.0 = More Yoda-like!)\"\n",
        "\n",
        "iface = gr.Interface(fn=judge_yoda_style, inputs=\"text\", outputs=\"text\",\n",
        "                     title=\"Yoda Speech Evaluator\",\n",
        "                     description=\"Enter a sentence to see how Yoda-like it is!\")\n",
        "\n",
        "iface.launch()  # Generates a public link\n"
      ],
      "metadata": {
        "id": "c1hWwWvZDGmN",
        "outputId": "a905663f-0bce-47e2-bacb-f08b5e094386",
        "trusted": true,
        "execution": {
          "iopub.status.busy": "2025-02-18T21:28:05.135791Z",
          "iopub.execute_input": "2025-02-18T21:28:05.136083Z",
          "iopub.status.idle": "2025-02-18T21:28:05.852194Z",
          "shell.execute_reply.started": "2025-02-18T21:28:05.136060Z",
          "shell.execute_reply": "2025-02-18T21:28:05.851553Z"
        },
        "colab": {
          "base_uri": "https://localhost:8080/",
          "height": 653
        }
      },
      "outputs": [
        {
          "output_type": "stream",
          "name": "stdout",
          "text": [
            "Running Gradio in a Colab notebook requires sharing enabled. Automatically setting `share=True` (you can turn this off by setting `share=False` in `launch()` explicitly).\n",
            "\n",
            "Colab notebook detected. To show errors in colab notebook, set debug=True in launch()\n",
            "* Running on public URL: https://9e6dcf890b0d98241f.gradio.live\n",
            "\n",
            "This share link expires in 72 hours. For free permanent hosting and GPU upgrades, run `gradio deploy` from the terminal in the working directory to deploy to Hugging Face Spaces (https://huggingface.co/spaces)\n"
          ]
        },
        {
          "output_type": "display_data",
          "data": {
            "text/plain": [
              "<IPython.core.display.HTML object>"
            ],
            "text/html": [
              "<div><iframe src=\"https://9e6dcf890b0d98241f.gradio.live\" width=\"100%\" height=\"500\" allow=\"autoplay; camera; microphone; clipboard-read; clipboard-write;\" frameborder=\"0\" allowfullscreen></iframe></div>"
            ]
          },
          "metadata": {}
        },
        {
          "output_type": "execute_result",
          "data": {
            "text/plain": []
          },
          "metadata": {},
          "execution_count": 50
        }
      ],
      "execution_count": 50
    },
    {
      "cell_type": "code",
      "source": [
        "import matplotlib.pyplot as plt\n",
        "import matplotlib.image as mpimg\n",
        "\n",
        "# Image path\n",
        "img_path = \"/content/yoda evaluator.png\"\n",
        "\n",
        "# Read and show image\n",
        "img = mpimg.imread(img_path)\n",
        "plt.imshow(img)\n",
        "plt.axis(\"off\")  # Hide axes\n",
        "plt.show()\n"
      ],
      "metadata": {
        "trusted": true,
        "execution": {
          "iopub.status.busy": "2025-02-18T22:10:28.540403Z",
          "iopub.execute_input": "2025-02-18T22:10:28.540728Z",
          "iopub.status.idle": "2025-02-18T22:10:28.678709Z",
          "shell.execute_reply.started": "2025-02-18T22:10:28.540705Z",
          "shell.execute_reply": "2025-02-18T22:10:28.677746Z"
        },
        "colab": {
          "base_uri": "https://localhost:8080/",
          "height": 234
        },
        "id": "AfusQ5zPXU57",
        "outputId": "c4a63fe8-6d6b-49bd-b563-5d90a4170560"
      },
      "outputs": [
        {
          "output_type": "display_data",
          "data": {
            "text/plain": [
              "<Figure size 640x480 with 1 Axes>"
            ],
            "image/png": "[encoded data removed]"
          },
          "metadata": {}
        }
      ],
      "execution_count": 51
    },
    {
      "cell_type": "markdown",
      "source": [
        "### Combining CHAT and JUDGE"
      ],
      "metadata": {
        "id": "2T7XPIuXKH5s"
      }
    },
    {
      "cell_type": "code",
      "source": [
        "import gradio as gr\n",
        "\n",
        "def yoda_chat_and_judge(prompt):\n",
        "    \"\"\"Generate a Yoda-style response & evaluate it.\"\"\"\n",
        "    # Generate a response from your fine-tuned Yoda model\n",
        "    response = chat(prompt, only_answer=True)\n",
        "\n",
        "    # Score the response using the judge\n",
        "    score = judge.score(response).value\n",
        "\n",
        "    # Format the output\n",
        "    result = f\"🟢 **Yoda Says:** {response}\\n\\n\" \\\n",
        "             f\"🔵 **Yoda Style Score:** {score:.2f} (Closer to 1.0 = More Yoda-like!)\"\n",
        "    return result\n",
        "\n",
        "# Launch Gradio UI\n",
        "iface = gr.Interface(\n",
        "    fn=yoda_chat_and_judge,\n",
        "    inputs=\"text\",\n",
        "    outputs=\"text\",\n",
        "    title=\"🟢 Yoda Chat & Judge\",\n",
        "    description=\"Talk to Yoda and get a rating on how Yoda-like his response is!\"\n",
        ")\n",
        "\n",
        "iface.launch(share=True)\n"
      ],
      "metadata": {
        "id": "Dajwd2DZDjBC",
        "outputId": "e30faffc-f0ca-4fff-a0fa-ffb26abf305b",
        "trusted": true,
        "execution": {
          "iopub.status.busy": "2025-02-18T21:36:30.936314Z",
          "iopub.execute_input": "2025-02-18T21:36:30.936667Z",
          "iopub.status.idle": "2025-02-18T21:36:31.682332Z",
          "shell.execute_reply.started": "2025-02-18T21:36:30.936637Z",
          "shell.execute_reply": "2025-02-18T21:36:31.681489Z"
        },
        "colab": {
          "base_uri": "https://localhost:8080/",
          "height": 616
        }
      },
      "outputs": [
        {
          "output_type": "stream",
          "name": "stdout",
          "text": [
            "Colab notebook detected. To show errors in colab notebook, set debug=True in launch()\n",
            "* Running on public URL: https://5cee1f76fa1ce70bd4.gradio.live\n",
            "\n",
            "This share link expires in 72 hours. For free permanent hosting and GPU upgrades, run `gradio deploy` from the terminal in the working directory to deploy to Hugging Face Spaces (https://huggingface.co/spaces)\n"
          ]
        },
        {
          "output_type": "display_data",
          "data": {
            "text/plain": [
              "<IPython.core.display.HTML object>"
            ],
            "text/html": [
              "<div><iframe src=\"https://5cee1f76fa1ce70bd4.gradio.live\" width=\"100%\" height=\"500\" allow=\"autoplay; camera; microphone; clipboard-read; clipboard-write;\" frameborder=\"0\" allowfullscreen></iframe></div>"
            ]
          },
          "metadata": {}
        },
        {
          "output_type": "execute_result",
          "data": {
            "text/plain": []
          },
          "metadata": {},
          "execution_count": 52
        }
      ],
      "execution_count": 52
    },
    {
      "cell_type": "markdown",
      "source": [
        "# Gradio Interface for Yoda Chat Model 🛠️"
      ],
      "metadata": {
        "id": "VnrKzUgGXU58"
      }
    },
    {
      "cell_type": "code",
      "source": [
        "import matplotlib.pyplot as plt\n",
        "import matplotlib.image as mpimg\n",
        "\n",
        "# Image path\n",
        "img_path = \"/content/yoda chat and judge.png\"\n",
        "\n",
        "# Read and show image\n",
        "img = mpimg.imread(img_path)\n",
        "plt.imshow(img)\n",
        "plt.axis(\"off\")  # Hide axes\n",
        "plt.show()\n"
      ],
      "metadata": {
        "trusted": true,
        "execution": {
          "iopub.status.busy": "2025-02-18T22:09:38.058795Z",
          "iopub.execute_input": "2025-02-18T22:09:38.059140Z",
          "iopub.status.idle": "2025-02-18T22:09:38.275391Z",
          "shell.execute_reply.started": "2025-02-18T22:09:38.059113Z",
          "shell.execute_reply": "2025-02-18T22:09:38.274560Z"
        },
        "colab": {
          "base_uri": "https://localhost:8080/",
          "height": 206
        },
        "id": "A6Igojx8XU58",
        "outputId": "761a1fcf-34cf-4a59-98d0-77dad68c14e8"
      },
      "outputs": [
        {
          "output_type": "display_data",
          "data": {
            "text/plain": [
              "<Figure size 640x480 with 1 Axes>"
            ],
            "image/png": "[encoded data removed]"
          },
          "metadata": {}
        }
      ],
      "execution_count": 54
    },
    {
      "cell_type": "markdown",
      "source": [
        "***********\n",
        "**********"
      ],
      "metadata": {
        "id": "aCMIGLsIKRaQ"
      }
    },
    {
      "cell_type": "markdown",
      "source": [
        "## 📸 **Interface Overview: Model Evaluation UI**  \n",
        "\n",
        "To showcase the working UI, I have included **PNG images** that illustrate the interface in action. These images display the model's evaluation process and results.  \n",
        "\n",
        "### 🛠 **Features & Functionality**  \n",
        "✅ **User-Friendly Interface** – The UI is designed to make evaluating text styles intuitive and efficient.  \n",
        "✅ **Real-Time Model Responses** – The interface captures and displays responses generated by the fine-tuned model.  \n",
        "✅ **LLM-Based Scoring** – The system scores text similarity to Shakespearean or Yoda-style writing.  \n",
        "✅ **Performance Insights** – Users can compare results from the base model, generated text, and the training set.  \n",
        "\n",
        "### 💡 **Support & Future Improvements**  \n",
        "🔹 **Suggestions Welcome!** – If you have any ideas for enhancing the evaluation system, feel free to share.  \n",
        "🔹 **Enhanced UI Coming Soon!** – Future updates may include an improved design and additional interactive features.  \n",
        "\n",
        "🚀 *Hope this provides a clear view of the deployed model in action!*  \n"
      ],
      "metadata": {
        "id": "PxuNdwMZXU59"
      }
    },
    {
      "cell_type": "code",
      "source": [],
      "metadata": {
        "trusted": true,
        "id": "Gs4RGfJgXU5-"
      },
      "outputs": [],
      "execution_count": null
    }
  ]
}