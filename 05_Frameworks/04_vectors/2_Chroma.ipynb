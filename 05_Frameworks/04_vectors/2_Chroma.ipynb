{
  "cells": [
    {
      "cell_type": "markdown",
      "metadata": {
        "id": "B1fece2iGrHh"
      },
      "source": [
        "#### Chroma DB\n",
        "Chroma is a AI-native open-source vector database focused on developer productivity and happiness. Chroma is licensed under Apache 2.0.\n",
        "\n",
        "https://python.langchain.com/v0.2/docs/integrations/vectorstores/"
      ]
    },
    {
      "cell_type": "markdown",
      "source": [
        "# **ChromaDB with LangChain and Hugging Face Embeddings**  \n",
        "\n",
        "This notebook demonstrates how to use **ChromaDB**, an open-source vector database, with **LangChain** and **Hugging Face embeddings** to store and retrieve text based on semantic similarity.  \n",
        "\n",
        "## **1. Installing Dependencies**  \n",
        "The required libraries for ChromaDB, LangChain, and Hugging Face embeddings are installed to handle document processing, vector storage, and retrieval.  \n"
      ],
      "metadata": {
        "id": "KgAwM9hxH3vy"
      }
    },
    {
      "cell_type": "code",
      "source": [
        "\n",
        "!pip install langchain-community langchain-core langchain -q\n",
        "!pip install langchain-chroma -q\n",
        "!pip install langchain-huggingface -q"
      ],
      "metadata": {
        "colab": {
          "base_uri": "https://localhost:8080/"
        },
        "id": "xDfDDDZDG-Lu",
        "outputId": "4c4d0a24-7082-466f-ba6d-9a1ac3e38e42"
      },
      "execution_count": 6,
      "outputs": [
        {
          "output_type": "stream",
          "name": "stdout",
          "text": [
            "\u001b[2K   \u001b[90m━━━━━━━━━━━━━━━━━━━━━━━━━━━━━━━━━━━━━━━━\u001b[0m \u001b[32m363.4/363.4 MB\u001b[0m \u001b[31m3.8 MB/s\u001b[0m eta \u001b[36m0:00:00\u001b[0m\n",
            "\u001b[2K   \u001b[90m━━━━━━━━━━━━━━━━━━━━━━━━━━━━━━━━━━━━━━━━\u001b[0m \u001b[32m13.8/13.8 MB\u001b[0m \u001b[31m62.4 MB/s\u001b[0m eta \u001b[36m0:00:00\u001b[0m\n",
            "\u001b[2K   \u001b[90m━━━━━━━━━━━━━━━━━━━━━━━━━━━━━━━━━━━━━━━━\u001b[0m \u001b[32m24.6/24.6 MB\u001b[0m \u001b[31m52.7 MB/s\u001b[0m eta \u001b[36m0:00:00\u001b[0m\n",
            "\u001b[2K   \u001b[90m━━━━━━━━━━━━━━━━━━━━━━━━━━━━━━━━━━━━━━━━\u001b[0m \u001b[32m883.7/883.7 kB\u001b[0m \u001b[31m44.5 MB/s\u001b[0m eta \u001b[36m0:00:00\u001b[0m\n",
            "\u001b[2K   \u001b[90m━━━━━━━━━━━━━━━━━━━━━━━━━━━━━━━━━━━━━━━━\u001b[0m \u001b[32m664.8/664.8 MB\u001b[0m \u001b[31m2.1 MB/s\u001b[0m eta \u001b[36m0:00:00\u001b[0m\n",
            "\u001b[2K   \u001b[90m━━━━━━━━━━━━━━━━━━━━━━━━━━━━━━━━━━━━━━━━\u001b[0m \u001b[32m211.5/211.5 MB\u001b[0m \u001b[31m5.6 MB/s\u001b[0m eta \u001b[36m0:00:00\u001b[0m\n",
            "\u001b[2K   \u001b[90m━━━━━━━━━━━━━━━━━━━━━━━━━━━━━━━━━━━━━━━━\u001b[0m \u001b[32m56.3/56.3 MB\u001b[0m \u001b[31m12.5 MB/s\u001b[0m eta \u001b[36m0:00:00\u001b[0m\n",
            "\u001b[2K   \u001b[90m━━━━━━━━━━━━━━━━━━━━━━━━━━━━━━━━━━━━━━━━\u001b[0m \u001b[32m127.9/127.9 MB\u001b[0m \u001b[31m7.5 MB/s\u001b[0m eta \u001b[36m0:00:00\u001b[0m\n",
            "\u001b[2K   \u001b[90m━━━━━━━━━━━━━━━━━━━━━━━━━━━━━━━━━━━━━━━━\u001b[0m \u001b[32m207.5/207.5 MB\u001b[0m \u001b[31m6.2 MB/s\u001b[0m eta \u001b[36m0:00:00\u001b[0m\n",
            "\u001b[2K   \u001b[90m━━━━━━━━━━━━━━━━━━━━━━━━━━━━━━━━━━━━━━━━\u001b[0m \u001b[32m21.1/21.1 MB\u001b[0m \u001b[31m80.6 MB/s\u001b[0m eta \u001b[36m0:00:00\u001b[0m\n",
            "\u001b[?25h"
          ]
        }
      ]
    },
    {
      "cell_type": "code",
      "execution_count": 7,
      "metadata": {
        "id": "9R15M_NRGrHj"
      },
      "outputs": [],
      "source": [
        "from langchain_chroma import Chroma\n",
        "from langchain_community.document_loaders import TextLoader\n",
        "from langchain_huggingface import HuggingFaceEmbeddings\n",
        "from langchain_text_splitters import RecursiveCharacterTextSplitter"
      ]
    },
    {
      "cell_type": "code",
      "execution_count": 11,
      "metadata": {
        "id": "b331krbNGrHl"
      },
      "outputs": [],
      "source": [
        "# Load and split documents\n",
        "loader = TextLoader(\"speech.txt\")\n",
        "documents = loader.load()"
      ]
    },
    {
      "cell_type": "markdown",
      "source": [
        "\n",
        "## **2. Loading and Splitting Documents**  \n",
        "A text file (`speech.txt`) is loaded into the notebook. Since raw text can be lengthy, it is split into smaller chunks using a text-splitting technique. This ensures that each chunk is processed separately, improving retrieval accuracy.  \n",
        "\n"
      ],
      "metadata": {
        "id": "lzTw4eVkH-9s"
      }
    },
    {
      "cell_type": "code",
      "execution_count": 12,
      "metadata": {
        "id": "hNJa3vvqGrHl"
      },
      "outputs": [],
      "source": [
        "# Split\n",
        "#text_splitter = RecursiveCharacterTextSplitter(chunk_size=500, chunk_overlap=0)\n",
        "#splits = text_splitter.split_documents(data)\n",
        "# Split the text into chunks\n",
        "text_splitter = RecursiveCharacterTextSplitter(chunk_size=500, chunk_overlap=50)\n",
        "texts = text_splitter.split_documents(documents)"
      ]
    },
    {
      "cell_type": "markdown",
      "source": [
        "## **3. Embedding the Text**  \n",
        "A pre-trained Hugging Face model (`all-MiniLM-L6-v2`) is used to convert text chunks into numerical representations called embeddings. These embeddings help in storing and retrieving text efficiently based on meaning rather than just keyword matching.  \n",
        "\n",
        "## **4. Storing Data in ChromaDB**  \n",
        "The generated embeddings are stored in ChromaDB, allowing fast similarity searches. ChromaDB acts as a vector database, organizing and indexing the embeddings for efficient retrieval.  \n"
      ],
      "metadata": {
        "id": "gPFYyoyvIIjo"
      }
    },
    {
      "cell_type": "code",
      "execution_count": 15,
      "metadata": {
        "colab": {
          "base_uri": "https://localhost:8080/"
        },
        "id": "WvuO98yMGrHm",
        "outputId": "23eaabeb-a7ab-43b2-f10b-a8fa8c609893"
      },
      "outputs": [
        {
          "output_type": "execute_result",
          "data": {
            "text/plain": [
              "<langchain_chroma.vectorstores.Chroma at 0x7b0465b4cd90>"
            ]
          },
          "metadata": {},
          "execution_count": 15
        }
      ],
      "source": [
        "# Initialize Hugging Face Embeddings\n",
        "embedding_model = HuggingFaceEmbeddings(model_name=\"sentence-transformers/all-MiniLM-L6-v2\")\n",
        "\n",
        "# Create and populate ChromaDB\n",
        "vectorstore = Chroma.from_documents(texts, embedding_model)\n",
        "vectorstore"
      ]
    },
    {
      "cell_type": "markdown",
      "source": [
        "## **5. Querying the Database**  \n",
        "A search query is used to find the most relevant text chunks based on similarity. Instead of simple keyword matching, ChromaDB retrieves the text that is semantically closest to the query, providing more accurate results.  \n",
        "\n"
      ],
      "metadata": {
        "id": "743ZXLvWIPJh"
      }
    },
    {
      "cell_type": "code",
      "execution_count": 17,
      "metadata": {
        "colab": {
          "base_uri": "https://localhost:8080/",
          "height": 73
        },
        "id": "QZoFMZ9fGrHn",
        "outputId": "fcb62d31-73de-4800-939f-343daf93d30e"
      },
      "outputs": [
        {
          "output_type": "execute_result",
          "data": {
            "text/plain": [
              "\"Veterans' and Families' Mental Health\\nThis course discusses mental health in veterans and the . . .\\nWhat Sparked this Trend of Deinstitutionalization?\\nAlthough this trend began in the early 20th century, it largely came into focus during the period of the civil rights movement. According to the American Medical Association Journal of Ethics, many believe that the movement derived based off these three elements:\""
            ],
            "application/vnd.google.colaboratory.intrinsic+json": {
              "type": "string"
            }
          },
          "metadata": {},
          "execution_count": 17
        }
      ],
      "source": [
        "## query it\n",
        "query = \"What does the speaker believe is the main reason the United States should enter the war?\"\n",
        "docs = vectorstore.similarity_search(query)\n",
        "docs[0].page_content"
      ]
    },
    {
      "cell_type": "code",
      "execution_count": 20,
      "metadata": {
        "id": "QGmkky6HGrHs"
      },
      "outputs": [],
      "source": [
        "## Saving to the disk\n",
        "vectorstore=Chroma.from_documents(documents=texts,embedding=embedding_model,persist_directory=\"./chroma_db\")\n"
      ]
    },
    {
      "cell_type": "markdown",
      "source": [
        "## **6. Persisting and Reloading the Database**  \n",
        "The database is saved to disk, enabling reuse without needing to reprocess the text. When needed, ChromaDB can be reloaded, and searches can be performed without recomputing embeddings.  \n",
        "\n"
      ],
      "metadata": {
        "id": "VPTGgwczITf6"
      }
    },
    {
      "cell_type": "code",
      "execution_count": 22,
      "metadata": {
        "colab": {
          "base_uri": "https://localhost:8080/"
        },
        "id": "6YbnGA0AGrHs",
        "outputId": "f3986175-cb50-40cd-94e4-cdfebdcfbcf6"
      },
      "outputs": [
        {
          "output_type": "stream",
          "name": "stdout",
          "text": [
            "Veterans' and Families' Mental Health\n",
            "This course discusses mental health in veterans and the . . .\n",
            "What Sparked this Trend of Deinstitutionalization?\n",
            "Although this trend began in the early 20th century, it largely came into focus during the period of the civil rights movement. According to the American Medical Association Journal of Ethics, many believe that the movement derived based off these three elements:\n"
          ]
        }
      ],
      "source": [
        "# load from disk\n",
        "db2 = Chroma(persist_directory=\"./chroma_db\", embedding_function=embedding_model)\n",
        "docs=db2.similarity_search(query)\n",
        "print(docs[0].page_content)"
      ]
    },
    {
      "cell_type": "markdown",
      "source": [
        "## **7. Similarity Search with Scores**  \n",
        "ChromaDB also provides a similarity score with each search result, helping to determine the relevance of retrieved documents. The lower the score, the more relevant the document is to the query.  \n",
        "\n"
      ],
      "metadata": {
        "id": "CJP3CyQEIXg6"
      }
    },
    {
      "cell_type": "code",
      "execution_count": 24,
      "metadata": {
        "colab": {
          "base_uri": "https://localhost:8080/"
        },
        "id": "upCgTyt2GrHt",
        "outputId": "5b6a4a0a-660d-4d9f-e3a4-4bc9485af999"
      },
      "outputs": [
        {
          "output_type": "execute_result",
          "data": {
            "text/plain": [
              "[(Document(id='b3292cd1-0b49-49b3-9448-7583c5c6c685', metadata={'source': 'speech.txt'}, page_content=\"Veterans' and Families' Mental Health\\nThis course discusses mental health in veterans and the . . .\\nWhat Sparked this Trend of Deinstitutionalization?\\nAlthough this trend began in the early 20th century, it largely came into focus during the period of the civil rights movement. According to the American Medical Association Journal of Ethics, many believe that the movement derived based off these three elements:\"),\n",
              "  1.615055526276708),\n",
              " (Document(id='620273a3-330d-4922-abb3-270302edcfd0', metadata={'source': 'speech.txt'}, page_content='Government Aid\\nOne of the incentives offered to patients leaving these mental health facilities was that the government would provide them with a type of welfare program, aiding in their recovery and helping them financially with daily situations.'),\n",
              "  1.7150608289384517),\n",
              " (Document(id='d538ce32-113b-4e7c-92f0-0c29e432712e', metadata={'source': 'speech.txt'}, page_content='The belief that mental hospitals were using cruel and inhumane medical tactics\\nThe hope that with new antipsychotic medications, patients would likely be cured\\nTo save taxpayer money.'),\n",
              "  1.725873575616043),\n",
              " (Document(id='3638d475-8ccb-4577-bd0a-c7bce8518a91', metadata={'source': 'speech.txt'}, page_content='In 1981, the federal government passed the Omnibus Budget Reconciliation Act, which ended direct federal funding for community-based nursing facilities that primarily treated patients with mental health problems. The law also enacted a screen process that was required of patients entering nursing homes in order to make sure they had legitimate medical conditions. However, many have been left to fall through the cracks and instead, end up without a home or money and end up committing a crime.'),\n",
              "  1.744017978486677)]"
            ]
          },
          "metadata": {},
          "execution_count": 24
        }
      ],
      "source": [
        "## similarity Search With Score\n",
        "docs = vectorstore.similarity_search_with_score(query)\n",
        "docs"
      ]
    },
    {
      "cell_type": "markdown",
      "source": [
        "## **8. Using a Retriever**  \n",
        "A retriever is created from ChromaDB, which simplifies the process of fetching the most relevant text based on a given query. This is useful when integrating the database with other AI applications like chatbots or search engines.  \n"
      ],
      "metadata": {
        "id": "fljz4H1_IcdF"
      }
    },
    {
      "cell_type": "code",
      "execution_count": 26,
      "metadata": {
        "colab": {
          "base_uri": "https://localhost:8080/",
          "height": 73
        },
        "id": "OSaiY9bZGrHv",
        "outputId": "2791585a-a067-4004-c267-fea5e9c20fa1"
      },
      "outputs": [
        {
          "output_type": "execute_result",
          "data": {
            "text/plain": [
              "\"Veterans' and Families' Mental Health\\nThis course discusses mental health in veterans and the . . .\\nWhat Sparked this Trend of Deinstitutionalization?\\nAlthough this trend began in the early 20th century, it largely came into focus during the period of the civil rights movement. According to the American Medical Association Journal of Ethics, many believe that the movement derived based off these three elements:\""
            ],
            "application/vnd.google.colaboratory.intrinsic+json": {
              "type": "string"
            }
          },
          "metadata": {},
          "execution_count": 26
        }
      ],
      "source": [
        "### Retriever option\n",
        "retriever=vectorstore.as_retriever()\n",
        "retriever.invoke(query)[0].page_content"
      ]
    },
    {
      "cell_type": "markdown",
      "source": [
        "******************"
      ],
      "metadata": {
        "id": "CQ_r5MwCJt2H"
      }
    }
  ],
  "metadata": {
    "kernelspec": {
      "display_name": "base",
      "language": "python",
      "name": "python3"
    },
    "language_info": {
      "codemirror_mode": {
        "name": "ipython",
        "version": 3
      },
      "file_extension": ".py",
      "mimetype": "text/x-python",
      "name": "python",
      "nbconvert_exporter": "python",
      "pygments_lexer": "ipython3",
      "version": "3.12.4"
    },
    "colab": {
      "provenance": []
    }
  },
  "nbformat": 4,
  "nbformat_minor": 0
}