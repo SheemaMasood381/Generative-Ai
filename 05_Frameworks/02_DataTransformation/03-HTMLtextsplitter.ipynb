{
 "cells": [
  {
   "cell_type": "markdown",
   "metadata": {},
   "source": [
    "##### How to split by HTML header\n",
    "HTMLHeaderTextSplitter is a \"structure-aware\" chunker that splits text at the HTML element level and adds metadata for each header \"relevant\" to any given chunk. It can return chunks element by element or combine elements with the same metadata, with the objectives of (a) keeping related text grouped (more or less) semantically and (b) preserving context-rich information encoded in document structures. It can be used with other text splitters as part of a chunking pipeline.\n"
   ]
  },
  {
   "cell_type": "code",
   "execution_count": 1,
   "metadata": {},
   "outputs": [
    {
     "data": {
      "text/plain": [
       "[Document(metadata={}, page_content='Foo'),\n",
       " Document(metadata={'Header 1': 'Foo'}, page_content='Some intro text about Foo.  \\nBar main section Bar subsection 1 Bar subsection 2'),\n",
       " Document(metadata={'Header 1': 'Foo', 'Header 2': 'Bar main section'}, page_content='Some intro text about Bar.'),\n",
       " Document(metadata={'Header 1': 'Foo', 'Header 2': 'Bar main section', 'Header 3': 'Bar subsection 1'}, page_content='Some text about the first subtopic of Bar.'),\n",
       " Document(metadata={'Header 1': 'Foo', 'Header 2': 'Bar main section', 'Header 3': 'Bar subsection 2'}, page_content='Some text about the second subtopic of Bar.'),\n",
       " Document(metadata={'Header 1': 'Foo'}, page_content='Baz'),\n",
       " Document(metadata={'Header 1': 'Foo', 'Header 2': 'Baz'}, page_content='Some text about Baz'),\n",
       " Document(metadata={'Header 1': 'Foo'}, page_content='Some concluding text about Foo')]"
      ]
     },
     "execution_count": 1,
     "metadata": {},
     "output_type": "execute_result"
    }
   ],
   "source": [
    "from langchain_text_splitters import HTMLHeaderTextSplitter\n",
    "\n",
    "html_string = \"\"\"\n",
    "<!DOCTYPE html>\n",
    "<html>\n",
    "<body>\n",
    "    <div>\n",
    "        <h1>Foo</h1>\n",
    "        <p>Some intro text about Foo.</p>\n",
    "        <div>\n",
    "            <h2>Bar main section</h2>\n",
    "            <p>Some intro text about Bar.</p>\n",
    "            <h3>Bar subsection 1</h3>\n",
    "            <p>Some text about the first subtopic of Bar.</p>\n",
    "            <h3>Bar subsection 2</h3>\n",
    "            <p>Some text about the second subtopic of Bar.</p>\n",
    "        </div>\n",
    "        <div>\n",
    "            <h2>Baz</h2>\n",
    "            <p>Some text about Baz</p>\n",
    "        </div>\n",
    "        <br>\n",
    "        <p>Some concluding text about Foo</p>\n",
    "    </div>\n",
    "</body>\n",
    "</html>\n",
    "\"\"\"\n",
    "\n",
    "headers_to_split_on=[\n",
    "    (\"h1\",\"Header 1\"),\n",
    "    (\"h2\",\"Header 2\"),\n",
    "    (\"h3\",\"Header 3\")\n",
    "]\n",
    "\n",
    "html_splitter=HTMLHeaderTextSplitter(headers_to_split_on)\n",
    "html_header_splits=html_splitter.split_text(html_string)\n",
    "html_header_splits\n"
   ]
  },
  {
   "cell_type": "code",
   "execution_count": 2,
   "metadata": {},
   "outputs": [
    {
     "data": {
      "text/plain": [
       "[Document(metadata={}, page_content=\"Products  \\nLangChainLangSmithLangGraph  \\nMethods  \\nRetrievalAgentsEvaluation  \\nResources  \\nBlogCustomer StoriesLangChain AcademyCommunityExpertsChangelogLLM Evaluations GuideState of AI AgentsBreakout Agent Stories  \\nDocs  \\nPython  \\nLangChainLangSmithLangGraph  \\nJavaScript  \\nLangChainLangSmithLangGraph  \\nCompany  \\nAboutCareers  \\nPricing  \\nLangSmithLangGraph Platform  \\nGet a demo  \\nSign up  \\nProducts  \\nLangChainLangSmithLangGraph  \\nMethods  \\nRetrievalAgentsEvaluation  \\nResources  \\nBlogCustomer StoriesLangChain AcademyCommunityExpertsChangelogLLM Evaluations GuideState of AI AgentsBreakout Agent Stories  \\nDocs  \\nPython  \\nLangChainLangSmithLangGraph  \\nJavaScript  \\nLangChainLangSmithLangGraph  \\nCompany  \\nAboutCareers  \\nPricing  \\nLangSmithLangGraph Platform  \\nGet a demo  \\nSign up  \\nApplications that can reason. Powered by LangChain.  \\nLangChain’s suite of products supports developers along each step of the LLM application lifecycle.  \\nSecure your early bird ticket to Interrupt, The AI Agent Conference!Get a demo  \\nFrom startups to global enterprises, ambitious builders choose LangChain products.  \\nBuild  \\nLangChain is a composable framework to build with LLMs. LangGraph is the orchestration framework for controllable agentic workflows.  \\nRun  \\nDeploy your LLM applications at scale with LangGraph Platform, our infrastructure purpose-built for agents.  \\nManage  \\nDebug, collaborate, test, and monitor your LLM app in LangSmith - whether it's built with a LangChain framework or not.\\xa0  \\nBuild your app with LangChain\"),\n",
       " Document(metadata={'Header 2': 'Build your app with LangChain'}, page_content='Build context-aware, reasoning applications with LangChain’s flexible framework that leverages your company’s data and APIs. Future-proof your application by making vendor optionality part of your LLM infrastructure design.'),\n",
       " Document(metadata={}, page_content='Learn more about LangChain  \\nRun at scale with LangGraph\\xa0Platform'),\n",
       " Document(metadata={'Header 2': 'Run at scale with LangGraph\\xa0Platform'}, page_content='Use LangGraph Platform’s APIs to design agent-driven user experiences featuring human-in-the-loop, multi-agent collaboration, conversation history, long-term memory, and time-travel. Deploy with fault-tolerant scalability.'),\n",
       " Document(metadata={}, page_content='Learn more about LangGraph\\xa0Platform  \\nManage LLM performance with\\xa0LangSmith'),\n",
       " Document(metadata={'Header 2': 'Manage LLM performance with\\xa0LangSmith'}, page_content='Ship faster with LangSmith’s debug, test, deploy, and monitoring workflows. Don’t rely on “vibes” – add engineering rigor to your LLM-development workflow, whether you’re building with LangChain or not.'),\n",
       " Document(metadata={}, page_content='Learn more about LangSmith  \\nHear from our happy customers  \\nLangChain, LangGraph, and LangSmith help teams of all sizes, across all industries - from ambitious startups to established enterprises.  \\n“LangSmith helped us improve the accuracy and performance of Retool’s fine-tuned models. Not only did we deliver a better product by iterating with LangSmith, but we’re shipping new AI features to our users in a fraction of the time it would have taken without it.”  \\nJamie Cuffe  \\nHead of Self-Serve and New Products  \\n“By combining the benefits of LangSmith and standing on the shoulders of a gigantic open-source community, we’re able to identify the right approaches of using LLMs in an enterprise-setting faster.”  \\nYusuke Kaji  \\nGeneral Manager of AI  \\n“Working with LangChain and LangSmith on the Elastic AI Assistant had a significant positive impact on the overall pace and quality of the development and shipping experience. We couldn’t have achieved \\xa0the product experience delivered to our customers without LangChain, and we couldn’t have done it at the same pace without LangSmith.”  \\nJames Spiteri  \\nDirector of Security Products  \\n“As soon as we heard about LangSmith, we moved our entire development stack onto it. We could have built evaluation, testing and monitoring tools in house, but with LangSmith it took us 10x less time to get a 1000x better tool.”  \\nJose Peña  \\nSenior Manager  \\nThe reference architecture enterprises adopt for success.'),\n",
       " Document(metadata={'Header 2': 'The reference architecture enterprises adopt for success.'}, page_content='LangChain’s suite of products can be used independently or stacked together for multiplicative impact – guiding you through building, running, and managing your LLM apps.'),\n",
       " Document(metadata={}, page_content='20M+  \\nMonthly Downloads  \\n100K+  \\nApps Powered  \\n100K+  \\nGitHub Stars  \\n4K+  \\nContributors  \\nThe biggest developer community in GenAI'),\n",
       " Document(metadata={'Header 2': 'The biggest developer community in GenAI'}, page_content='Learn alongside the 1M+ developers who are pushing the industry forward.'),\n",
       " Document(metadata={}, page_content='Explore LangChain  \\nGet started with the LangSmith platform today  \\nGet a demoSign up for free  \\nTeams building with LangChain are driving operational efficiency, increasing discovery & personalization, and delivering premium products that generate revenue.  \\nSee customer stories  \\nGet inspired by companies who have done it.  \\nFinancial Services  \\nFinTech  \\nTechnology  \\nLangSmith is the enterprise\\xa0developer platform\\xa0built for LLMs.'),\n",
       " Document(metadata={'Header 2': 'LangSmith is the enterprise\\xa0developer platform\\xa0built for LLMs.'}, page_content='Explore LangSmith'),\n",
       " Document(metadata={}, page_content='Gain visibility to make trade offs between cost, latency, and quality.  \\nIncrease developer productivity.  \\nEliminate manual, error-prone testing.  \\nReduce hallucinations and improve reliability.  \\nEnterprise deployment options to keep data secure.  \\nReady to start shipping \\u2028reliable GenAI apps faster?'),\n",
       " Document(metadata={'Header 2': 'Ready to start shipping \\u2028reliable GenAI apps faster?'}, page_content='Get started with LangChain, LangSmith, and LangGraph to enhance your LLM app development, from prototype to production.  \\nGet a demoSign up for free'),\n",
       " Document(metadata={}, page_content='Products  \\nLangChainLangSmithLangGraphAgentsEvaluationRetrieval  \\nResources  \\nPython DocsJS/TS DocsGitHubIntegrationsChangelogCommunityLangSmith Trust Portal  \\nCompany  \\nAboutCareersBlogTwitterLinkedInYouTubeMarketing Assets  \\nSign up for our newsletter to stay up to date  \\nThank you! Your submission has been received!  \\nOops! Something went wrong while submitting the form.  \\nPrivacy PolicyTerms of Service  \\nAll systems operational')]"
      ]
     },
     "execution_count": 2,
     "metadata": {},
     "output_type": "execute_result"
    }
   ],
   "source": [
    "url = \"https://www.langchain.com/\"\n",
    "\n",
    "headers_to_split_on = [\n",
    "    (\"h1\", \"Header 1\"),\n",
    "    (\"h2\", \"Header 2\"),\n",
    "]\n",
    "html_splitter = HTMLHeaderTextSplitter(headers_to_split_on)\n",
    "html_header_splits = html_splitter.split_text_from_url(url)\n",
    "html_header_splits"
   ]
  },
  {
   "cell_type": "code",
   "execution_count": null,
   "metadata": {},
   "outputs": [],
   "source": []
  },
  {
   "cell_type": "code",
   "execution_count": null,
   "metadata": {},
   "outputs": [],
   "source": []
  }
 ],
 "metadata": {
  "kernelspec": {
   "display_name": "base",
   "language": "python",
   "name": "python3"
  },
  "language_info": {
   "codemirror_mode": {
    "name": "ipython",
    "version": 3
   },
   "file_extension": ".py",
   "mimetype": "text/x-python",
   "name": "python",
   "nbconvert_exporter": "python",
   "pygments_lexer": "ipython3",
   "version": "3.12.4"
  }
 },
 "nbformat": 4,
 "nbformat_minor": 2
}
